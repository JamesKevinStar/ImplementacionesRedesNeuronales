{
  "cells": [
    {
      "cell_type": "markdown",
      "metadata": {
        "id": "view-in-github",
        "colab_type": "text"
      },
      "source": [
        "<a href=\"https://colab.research.google.com/github/JamesKevinStar/ImplementacionesRedesNeuronales/blob/main/Perceptr%C3%B3n/Tarea_N%C2%BA4_Implementaci%C3%B3n_Perceptr%C3%B3n.ipynb\" target=\"_parent\"><img src=\"https://colab.research.google.com/assets/colab-badge.svg\" alt=\"Open In Colab\"/></a>"
      ]
    },
    {
      "cell_type": "markdown",
      "id": "625a6cbd",
      "metadata": {
        "id": "625a6cbd"
      },
      "source": [
        "# Implementación del Perceptrón\n",
        "```\n",
        "Docente     : Luis Beltran Palma Ttito\n",
        "Alumnos     : James Kevin Estrella Vilca (182909) - Raísa Melina Peña Luque (182927)\n",
        "Lugar       : Cusco, Perú, 2022\n",
        "Universidad : Universidad Nacional de San Antonio Abad del Cusco\n",
        "```"
      ]
    },
    {
      "cell_type": "markdown",
      "id": "e3101bdd",
      "metadata": {
        "id": "e3101bdd"
      },
      "source": [
        "# 1. Importar Librerías"
      ]
    },
    {
      "cell_type": "code",
      "execution_count": null,
      "id": "a0fb86c4",
      "metadata": {
        "id": "a0fb86c4"
      },
      "outputs": [],
      "source": [
        "import matplotlib.pyplot as plt\n",
        "import scipy.stats as stats\n",
        "import seaborn as sns\n",
        "import pandas as pd\n",
        "import numpy as np\n",
        "import statistics\n",
        "import random\n",
        "import pylab\n",
        "\n",
        "from sklearn.model_selection import train_test_split\n",
        "from matplotlib import pylab\n",
        "\n",
        "%matplotlib inline"
      ]
    },
    {
      "cell_type": "markdown",
      "id": "151d5a8d",
      "metadata": {
        "id": "151d5a8d"
      },
      "source": [
        "# 2. Leer Datos"
      ]
    },
    {
      "cell_type": "code",
      "execution_count": null,
      "id": "1997ae81",
      "metadata": {
        "id": "1997ae81",
        "outputId": "3db53d18-ae8d-4f27-e9e1-07ee1ffbc3d8"
      },
      "outputs": [
        {
          "data": {
            "text/html": [
              "<div>\n",
              "<style scoped>\n",
              "    .dataframe tbody tr th:only-of-type {\n",
              "        vertical-align: middle;\n",
              "    }\n",
              "\n",
              "    .dataframe tbody tr th {\n",
              "        vertical-align: top;\n",
              "    }\n",
              "\n",
              "    .dataframe thead th {\n",
              "        text-align: right;\n",
              "    }\n",
              "</style>\n",
              "<table border=\"1\" class=\"dataframe\">\n",
              "  <thead>\n",
              "    <tr style=\"text-align: right;\">\n",
              "      <th></th>\n",
              "      <th>frecuencia_media</th>\n",
              "      <th>sd</th>\n",
              "      <th>mediana</th>\n",
              "      <th>Q1</th>\n",
              "      <th>Q3</th>\n",
              "      <th>IQR</th>\n",
              "      <th>skew</th>\n",
              "      <th>kurt</th>\n",
              "      <th>sp.ent</th>\n",
              "      <th>sfm</th>\n",
              "      <th>...</th>\n",
              "      <th>centroide</th>\n",
              "      <th>meanfun</th>\n",
              "      <th>minfun</th>\n",
              "      <th>maxfun</th>\n",
              "      <th>meandom</th>\n",
              "      <th>mindom</th>\n",
              "      <th>maxdom</th>\n",
              "      <th>dfrange</th>\n",
              "      <th>modindx</th>\n",
              "      <th>genero</th>\n",
              "    </tr>\n",
              "  </thead>\n",
              "  <tbody>\n",
              "    <tr>\n",
              "      <th>0</th>\n",
              "      <td>0.059781</td>\n",
              "      <td>0.064241</td>\n",
              "      <td>0.032027</td>\n",
              "      <td>0.015071</td>\n",
              "      <td>0.090193</td>\n",
              "      <td>0.075122</td>\n",
              "      <td>12.863462</td>\n",
              "      <td>274.402905</td>\n",
              "      <td>0.893369</td>\n",
              "      <td>0.491918</td>\n",
              "      <td>...</td>\n",
              "      <td>0.059781</td>\n",
              "      <td>0.084279</td>\n",
              "      <td>0.015702</td>\n",
              "      <td>0.275862</td>\n",
              "      <td>0.007812</td>\n",
              "      <td>0.007812</td>\n",
              "      <td>0.007812</td>\n",
              "      <td>0.000000</td>\n",
              "      <td>0.000000</td>\n",
              "      <td>male</td>\n",
              "    </tr>\n",
              "    <tr>\n",
              "      <th>1</th>\n",
              "      <td>0.066009</td>\n",
              "      <td>0.067310</td>\n",
              "      <td>0.040229</td>\n",
              "      <td>0.019414</td>\n",
              "      <td>0.092666</td>\n",
              "      <td>0.073252</td>\n",
              "      <td>22.423285</td>\n",
              "      <td>634.613855</td>\n",
              "      <td>0.892193</td>\n",
              "      <td>0.513724</td>\n",
              "      <td>...</td>\n",
              "      <td>0.066009</td>\n",
              "      <td>0.107937</td>\n",
              "      <td>0.015826</td>\n",
              "      <td>0.250000</td>\n",
              "      <td>0.009014</td>\n",
              "      <td>0.007812</td>\n",
              "      <td>0.054688</td>\n",
              "      <td>0.046875</td>\n",
              "      <td>0.052632</td>\n",
              "      <td>male</td>\n",
              "    </tr>\n",
              "    <tr>\n",
              "      <th>2</th>\n",
              "      <td>0.077316</td>\n",
              "      <td>0.083829</td>\n",
              "      <td>0.036718</td>\n",
              "      <td>0.008701</td>\n",
              "      <td>0.131908</td>\n",
              "      <td>0.123207</td>\n",
              "      <td>30.757155</td>\n",
              "      <td>1024.927705</td>\n",
              "      <td>0.846389</td>\n",
              "      <td>0.478905</td>\n",
              "      <td>...</td>\n",
              "      <td>0.077316</td>\n",
              "      <td>0.098706</td>\n",
              "      <td>0.015656</td>\n",
              "      <td>0.271186</td>\n",
              "      <td>0.007990</td>\n",
              "      <td>0.007812</td>\n",
              "      <td>0.015625</td>\n",
              "      <td>0.007812</td>\n",
              "      <td>0.046512</td>\n",
              "      <td>male</td>\n",
              "    </tr>\n",
              "    <tr>\n",
              "      <th>3</th>\n",
              "      <td>0.151228</td>\n",
              "      <td>0.072111</td>\n",
              "      <td>0.158011</td>\n",
              "      <td>0.096582</td>\n",
              "      <td>0.207955</td>\n",
              "      <td>0.111374</td>\n",
              "      <td>1.232831</td>\n",
              "      <td>4.177296</td>\n",
              "      <td>0.963322</td>\n",
              "      <td>0.727232</td>\n",
              "      <td>...</td>\n",
              "      <td>0.151228</td>\n",
              "      <td>0.088965</td>\n",
              "      <td>0.017798</td>\n",
              "      <td>0.250000</td>\n",
              "      <td>0.201497</td>\n",
              "      <td>0.007812</td>\n",
              "      <td>0.562500</td>\n",
              "      <td>0.554688</td>\n",
              "      <td>0.247119</td>\n",
              "      <td>male</td>\n",
              "    </tr>\n",
              "    <tr>\n",
              "      <th>4</th>\n",
              "      <td>0.135120</td>\n",
              "      <td>0.079146</td>\n",
              "      <td>0.124656</td>\n",
              "      <td>0.078720</td>\n",
              "      <td>0.206045</td>\n",
              "      <td>0.127325</td>\n",
              "      <td>1.101174</td>\n",
              "      <td>4.333713</td>\n",
              "      <td>0.971955</td>\n",
              "      <td>0.783568</td>\n",
              "      <td>...</td>\n",
              "      <td>0.135120</td>\n",
              "      <td>0.106398</td>\n",
              "      <td>0.016931</td>\n",
              "      <td>0.266667</td>\n",
              "      <td>0.712812</td>\n",
              "      <td>0.007812</td>\n",
              "      <td>5.484375</td>\n",
              "      <td>5.476562</td>\n",
              "      <td>0.208274</td>\n",
              "      <td>male</td>\n",
              "    </tr>\n",
              "  </tbody>\n",
              "</table>\n",
              "<p>5 rows × 21 columns</p>\n",
              "</div>"
            ],
            "text/plain": [
              "   frecuencia_media        sd   mediana        Q1        Q3       IQR  \\\n",
              "0          0.059781  0.064241  0.032027  0.015071  0.090193  0.075122   \n",
              "1          0.066009  0.067310  0.040229  0.019414  0.092666  0.073252   \n",
              "2          0.077316  0.083829  0.036718  0.008701  0.131908  0.123207   \n",
              "3          0.151228  0.072111  0.158011  0.096582  0.207955  0.111374   \n",
              "4          0.135120  0.079146  0.124656  0.078720  0.206045  0.127325   \n",
              "\n",
              "        skew         kurt    sp.ent       sfm  ...  centroide   meanfun  \\\n",
              "0  12.863462   274.402905  0.893369  0.491918  ...   0.059781  0.084279   \n",
              "1  22.423285   634.613855  0.892193  0.513724  ...   0.066009  0.107937   \n",
              "2  30.757155  1024.927705  0.846389  0.478905  ...   0.077316  0.098706   \n",
              "3   1.232831     4.177296  0.963322  0.727232  ...   0.151228  0.088965   \n",
              "4   1.101174     4.333713  0.971955  0.783568  ...   0.135120  0.106398   \n",
              "\n",
              "     minfun    maxfun   meandom    mindom    maxdom   dfrange   modindx  \\\n",
              "0  0.015702  0.275862  0.007812  0.007812  0.007812  0.000000  0.000000   \n",
              "1  0.015826  0.250000  0.009014  0.007812  0.054688  0.046875  0.052632   \n",
              "2  0.015656  0.271186  0.007990  0.007812  0.015625  0.007812  0.046512   \n",
              "3  0.017798  0.250000  0.201497  0.007812  0.562500  0.554688  0.247119   \n",
              "4  0.016931  0.266667  0.712812  0.007812  5.484375  5.476562  0.208274   \n",
              "\n",
              "   genero  \n",
              "0    male  \n",
              "1    male  \n",
              "2    male  \n",
              "3    male  \n",
              "4    male  \n",
              "\n",
              "[5 rows x 21 columns]"
            ]
          },
          "execution_count": 2,
          "metadata": {},
          "output_type": "execute_result"
        }
      ],
      "source": [
        "data = pd.read_csv(\"F:/Universidad UNSAAC/Semestre 2022-II/Redes Neuronales Artificiales/Avance/Prácticas/Práctica 3/voz.csv\")\n",
        "data.head()"
      ]
    },
    {
      "cell_type": "markdown",
      "id": "1f2ccc5a",
      "metadata": {
        "id": "1f2ccc5a"
      },
      "source": [
        "# 3. Convertir de Categórico a Numérico"
      ]
    },
    {
      "cell_type": "code",
      "execution_count": null,
      "id": "dd9ad614",
      "metadata": {
        "id": "dd9ad614"
      },
      "outputs": [],
      "source": [
        "def Categórico_Numérico(datos):\n",
        "    datos = datos.astype(\"category\")\n",
        "    return datos.astype(\"category\").cat.codes"
      ]
    },
    {
      "cell_type": "code",
      "execution_count": null,
      "id": "e9e2506f",
      "metadata": {
        "id": "e9e2506f",
        "outputId": "3daecd35-2c1e-465e-ba65-9e5dba3ec869"
      },
      "outputs": [
        {
          "data": {
            "text/html": [
              "<div>\n",
              "<style scoped>\n",
              "    .dataframe tbody tr th:only-of-type {\n",
              "        vertical-align: middle;\n",
              "    }\n",
              "\n",
              "    .dataframe tbody tr th {\n",
              "        vertical-align: top;\n",
              "    }\n",
              "\n",
              "    .dataframe thead th {\n",
              "        text-align: right;\n",
              "    }\n",
              "</style>\n",
              "<table border=\"1\" class=\"dataframe\">\n",
              "  <thead>\n",
              "    <tr style=\"text-align: right;\">\n",
              "      <th></th>\n",
              "      <th>frecuencia_media</th>\n",
              "      <th>sd</th>\n",
              "      <th>mediana</th>\n",
              "      <th>Q1</th>\n",
              "      <th>Q3</th>\n",
              "      <th>IQR</th>\n",
              "      <th>skew</th>\n",
              "      <th>kurt</th>\n",
              "      <th>sp.ent</th>\n",
              "      <th>sfm</th>\n",
              "      <th>...</th>\n",
              "      <th>centroide</th>\n",
              "      <th>meanfun</th>\n",
              "      <th>minfun</th>\n",
              "      <th>maxfun</th>\n",
              "      <th>meandom</th>\n",
              "      <th>mindom</th>\n",
              "      <th>maxdom</th>\n",
              "      <th>dfrange</th>\n",
              "      <th>modindx</th>\n",
              "      <th>genero</th>\n",
              "    </tr>\n",
              "  </thead>\n",
              "  <tbody>\n",
              "    <tr>\n",
              "      <th>0</th>\n",
              "      <td>0.059781</td>\n",
              "      <td>0.064241</td>\n",
              "      <td>0.032027</td>\n",
              "      <td>0.015071</td>\n",
              "      <td>0.090193</td>\n",
              "      <td>0.075122</td>\n",
              "      <td>12.863462</td>\n",
              "      <td>274.402905</td>\n",
              "      <td>0.893369</td>\n",
              "      <td>0.491918</td>\n",
              "      <td>...</td>\n",
              "      <td>0.059781</td>\n",
              "      <td>0.084279</td>\n",
              "      <td>0.015702</td>\n",
              "      <td>0.275862</td>\n",
              "      <td>0.007812</td>\n",
              "      <td>0.007812</td>\n",
              "      <td>0.007812</td>\n",
              "      <td>0.000000</td>\n",
              "      <td>0.000000</td>\n",
              "      <td>1</td>\n",
              "    </tr>\n",
              "    <tr>\n",
              "      <th>1</th>\n",
              "      <td>0.066009</td>\n",
              "      <td>0.067310</td>\n",
              "      <td>0.040229</td>\n",
              "      <td>0.019414</td>\n",
              "      <td>0.092666</td>\n",
              "      <td>0.073252</td>\n",
              "      <td>22.423285</td>\n",
              "      <td>634.613855</td>\n",
              "      <td>0.892193</td>\n",
              "      <td>0.513724</td>\n",
              "      <td>...</td>\n",
              "      <td>0.066009</td>\n",
              "      <td>0.107937</td>\n",
              "      <td>0.015826</td>\n",
              "      <td>0.250000</td>\n",
              "      <td>0.009014</td>\n",
              "      <td>0.007812</td>\n",
              "      <td>0.054688</td>\n",
              "      <td>0.046875</td>\n",
              "      <td>0.052632</td>\n",
              "      <td>1</td>\n",
              "    </tr>\n",
              "    <tr>\n",
              "      <th>2</th>\n",
              "      <td>0.077316</td>\n",
              "      <td>0.083829</td>\n",
              "      <td>0.036718</td>\n",
              "      <td>0.008701</td>\n",
              "      <td>0.131908</td>\n",
              "      <td>0.123207</td>\n",
              "      <td>30.757155</td>\n",
              "      <td>1024.927705</td>\n",
              "      <td>0.846389</td>\n",
              "      <td>0.478905</td>\n",
              "      <td>...</td>\n",
              "      <td>0.077316</td>\n",
              "      <td>0.098706</td>\n",
              "      <td>0.015656</td>\n",
              "      <td>0.271186</td>\n",
              "      <td>0.007990</td>\n",
              "      <td>0.007812</td>\n",
              "      <td>0.015625</td>\n",
              "      <td>0.007812</td>\n",
              "      <td>0.046512</td>\n",
              "      <td>1</td>\n",
              "    </tr>\n",
              "    <tr>\n",
              "      <th>3</th>\n",
              "      <td>0.151228</td>\n",
              "      <td>0.072111</td>\n",
              "      <td>0.158011</td>\n",
              "      <td>0.096582</td>\n",
              "      <td>0.207955</td>\n",
              "      <td>0.111374</td>\n",
              "      <td>1.232831</td>\n",
              "      <td>4.177296</td>\n",
              "      <td>0.963322</td>\n",
              "      <td>0.727232</td>\n",
              "      <td>...</td>\n",
              "      <td>0.151228</td>\n",
              "      <td>0.088965</td>\n",
              "      <td>0.017798</td>\n",
              "      <td>0.250000</td>\n",
              "      <td>0.201497</td>\n",
              "      <td>0.007812</td>\n",
              "      <td>0.562500</td>\n",
              "      <td>0.554688</td>\n",
              "      <td>0.247119</td>\n",
              "      <td>1</td>\n",
              "    </tr>\n",
              "    <tr>\n",
              "      <th>4</th>\n",
              "      <td>0.135120</td>\n",
              "      <td>0.079146</td>\n",
              "      <td>0.124656</td>\n",
              "      <td>0.078720</td>\n",
              "      <td>0.206045</td>\n",
              "      <td>0.127325</td>\n",
              "      <td>1.101174</td>\n",
              "      <td>4.333713</td>\n",
              "      <td>0.971955</td>\n",
              "      <td>0.783568</td>\n",
              "      <td>...</td>\n",
              "      <td>0.135120</td>\n",
              "      <td>0.106398</td>\n",
              "      <td>0.016931</td>\n",
              "      <td>0.266667</td>\n",
              "      <td>0.712812</td>\n",
              "      <td>0.007812</td>\n",
              "      <td>5.484375</td>\n",
              "      <td>5.476562</td>\n",
              "      <td>0.208274</td>\n",
              "      <td>1</td>\n",
              "    </tr>\n",
              "  </tbody>\n",
              "</table>\n",
              "<p>5 rows × 21 columns</p>\n",
              "</div>"
            ],
            "text/plain": [
              "   frecuencia_media        sd   mediana        Q1        Q3       IQR  \\\n",
              "0          0.059781  0.064241  0.032027  0.015071  0.090193  0.075122   \n",
              "1          0.066009  0.067310  0.040229  0.019414  0.092666  0.073252   \n",
              "2          0.077316  0.083829  0.036718  0.008701  0.131908  0.123207   \n",
              "3          0.151228  0.072111  0.158011  0.096582  0.207955  0.111374   \n",
              "4          0.135120  0.079146  0.124656  0.078720  0.206045  0.127325   \n",
              "\n",
              "        skew         kurt    sp.ent       sfm  ...  centroide   meanfun  \\\n",
              "0  12.863462   274.402905  0.893369  0.491918  ...   0.059781  0.084279   \n",
              "1  22.423285   634.613855  0.892193  0.513724  ...   0.066009  0.107937   \n",
              "2  30.757155  1024.927705  0.846389  0.478905  ...   0.077316  0.098706   \n",
              "3   1.232831     4.177296  0.963322  0.727232  ...   0.151228  0.088965   \n",
              "4   1.101174     4.333713  0.971955  0.783568  ...   0.135120  0.106398   \n",
              "\n",
              "     minfun    maxfun   meandom    mindom    maxdom   dfrange   modindx  \\\n",
              "0  0.015702  0.275862  0.007812  0.007812  0.007812  0.000000  0.000000   \n",
              "1  0.015826  0.250000  0.009014  0.007812  0.054688  0.046875  0.052632   \n",
              "2  0.015656  0.271186  0.007990  0.007812  0.015625  0.007812  0.046512   \n",
              "3  0.017798  0.250000  0.201497  0.007812  0.562500  0.554688  0.247119   \n",
              "4  0.016931  0.266667  0.712812  0.007812  5.484375  5.476562  0.208274   \n",
              "\n",
              "   genero  \n",
              "0       1  \n",
              "1       1  \n",
              "2       1  \n",
              "3       1  \n",
              "4       1  \n",
              "\n",
              "[5 rows x 21 columns]"
            ]
          },
          "execution_count": 4,
          "metadata": {},
          "output_type": "execute_result"
        }
      ],
      "source": [
        "data.genero.astype(\"category\")\n",
        "data['genero'] = Categórico_Numérico(data['genero'])\n",
        "data.head()"
      ]
    },
    {
      "cell_type": "markdown",
      "id": "67fecaa3",
      "metadata": {
        "id": "67fecaa3"
      },
      "source": [
        "# 4. Normalización"
      ]
    },
    {
      "cell_type": "code",
      "execution_count": null,
      "id": "17d91edc",
      "metadata": {
        "id": "17d91edc"
      },
      "outputs": [],
      "source": [
        "def Normalización(datos):\n",
        "    return (datos - datos.min())/(datos.max() - datos.min())"
      ]
    },
    {
      "cell_type": "code",
      "execution_count": null,
      "id": "55e32b92",
      "metadata": {
        "id": "55e32b92",
        "outputId": "7f8f67e6-6865-47ea-cd8f-815b61945f3c"
      },
      "outputs": [
        {
          "data": {
            "text/html": [
              "<div>\n",
              "<style scoped>\n",
              "    .dataframe tbody tr th:only-of-type {\n",
              "        vertical-align: middle;\n",
              "    }\n",
              "\n",
              "    .dataframe tbody tr th {\n",
              "        vertical-align: top;\n",
              "    }\n",
              "\n",
              "    .dataframe thead th {\n",
              "        text-align: right;\n",
              "    }\n",
              "</style>\n",
              "<table border=\"1\" class=\"dataframe\">\n",
              "  <thead>\n",
              "    <tr style=\"text-align: right;\">\n",
              "      <th></th>\n",
              "      <th>frecuencia_media</th>\n",
              "      <th>sd</th>\n",
              "      <th>mediana</th>\n",
              "      <th>Q1</th>\n",
              "      <th>Q3</th>\n",
              "      <th>IQR</th>\n",
              "      <th>skew</th>\n",
              "      <th>kurt</th>\n",
              "      <th>sp.ent</th>\n",
              "      <th>sfm</th>\n",
              "      <th>...</th>\n",
              "      <th>centroide</th>\n",
              "      <th>meanfun</th>\n",
              "      <th>minfun</th>\n",
              "      <th>maxfun</th>\n",
              "      <th>meandom</th>\n",
              "      <th>mindom</th>\n",
              "      <th>maxdom</th>\n",
              "      <th>dfrange</th>\n",
              "      <th>modindx</th>\n",
              "      <th>genero</th>\n",
              "    </tr>\n",
              "  </thead>\n",
              "  <tbody>\n",
              "    <tr>\n",
              "      <th>0</th>\n",
              "      <td>0.096419</td>\n",
              "      <td>0.473409</td>\n",
              "      <td>0.084125</td>\n",
              "      <td>0.060063</td>\n",
              "      <td>0.204956</td>\n",
              "      <td>0.254828</td>\n",
              "      <td>0.367853</td>\n",
              "      <td>0.208279</td>\n",
              "      <td>0.635798</td>\n",
              "      <td>0.564526</td>\n",
              "      <td>...</td>\n",
              "      <td>0.096419</td>\n",
              "      <td>0.157706</td>\n",
              "      <td>0.030501</td>\n",
              "      <td>0.981526</td>\n",
              "      <td>0.000000</td>\n",
              "      <td>0.006452</td>\n",
              "      <td>0.000000</td>\n",
              "      <td>0.000000</td>\n",
              "      <td>0.000000</td>\n",
              "      <td>1.0</td>\n",
              "    </tr>\n",
              "    <tr>\n",
              "      <th>1</th>\n",
              "      <td>0.125828</td>\n",
              "      <td>0.505075</td>\n",
              "      <td>0.116900</td>\n",
              "      <td>0.077635</td>\n",
              "      <td>0.215683</td>\n",
              "      <td>0.246961</td>\n",
              "      <td>0.644279</td>\n",
              "      <td>0.483766</td>\n",
              "      <td>0.630964</td>\n",
              "      <td>0.591578</td>\n",
              "      <td>...</td>\n",
              "      <td>0.125828</td>\n",
              "      <td>0.287642</td>\n",
              "      <td>0.031140</td>\n",
              "      <td>0.834600</td>\n",
              "      <td>0.000407</td>\n",
              "      <td>0.006452</td>\n",
              "      <td>0.002144</td>\n",
              "      <td>0.002146</td>\n",
              "      <td>0.056449</td>\n",
              "      <td>1.0</td>\n",
              "    </tr>\n",
              "    <tr>\n",
              "      <th>2</th>\n",
              "      <td>0.179222</td>\n",
              "      <td>0.675536</td>\n",
              "      <td>0.102873</td>\n",
              "      <td>0.034284</td>\n",
              "      <td>0.385912</td>\n",
              "      <td>0.457148</td>\n",
              "      <td>0.885255</td>\n",
              "      <td>0.782275</td>\n",
              "      <td>0.442738</td>\n",
              "      <td>0.548382</td>\n",
              "      <td>...</td>\n",
              "      <td>0.179222</td>\n",
              "      <td>0.236945</td>\n",
              "      <td>0.030264</td>\n",
              "      <td>0.954963</td>\n",
              "      <td>0.000060</td>\n",
              "      <td>0.006452</td>\n",
              "      <td>0.000357</td>\n",
              "      <td>0.000358</td>\n",
              "      <td>0.049885</td>\n",
              "      <td>1.0</td>\n",
              "    </tr>\n",
              "    <tr>\n",
              "      <th>3</th>\n",
              "      <td>0.528261</td>\n",
              "      <td>0.554611</td>\n",
              "      <td>0.587559</td>\n",
              "      <td>0.389906</td>\n",
              "      <td>0.715802</td>\n",
              "      <td>0.407358</td>\n",
              "      <td>0.031549</td>\n",
              "      <td>0.001613</td>\n",
              "      <td>0.923261</td>\n",
              "      <td>0.856457</td>\n",
              "      <td>...</td>\n",
              "      <td>0.528261</td>\n",
              "      <td>0.183442</td>\n",
              "      <td>0.041287</td>\n",
              "      <td>0.834600</td>\n",
              "      <td>0.065659</td>\n",
              "      <td>0.006452</td>\n",
              "      <td>0.025375</td>\n",
              "      <td>0.025393</td>\n",
              "      <td>0.265043</td>\n",
              "      <td>1.0</td>\n",
              "    </tr>\n",
              "    <tr>\n",
              "      <th>4</th>\n",
              "      <td>0.452195</td>\n",
              "      <td>0.627209</td>\n",
              "      <td>0.454272</td>\n",
              "      <td>0.317627</td>\n",
              "      <td>0.707515</td>\n",
              "      <td>0.474474</td>\n",
              "      <td>0.027742</td>\n",
              "      <td>0.001732</td>\n",
              "      <td>0.958736</td>\n",
              "      <td>0.926348</td>\n",
              "      <td>...</td>\n",
              "      <td>0.452195</td>\n",
              "      <td>0.279190</td>\n",
              "      <td>0.036829</td>\n",
              "      <td>0.929285</td>\n",
              "      <td>0.238994</td>\n",
              "      <td>0.006452</td>\n",
              "      <td>0.250536</td>\n",
              "      <td>0.250715</td>\n",
              "      <td>0.223380</td>\n",
              "      <td>1.0</td>\n",
              "    </tr>\n",
              "  </tbody>\n",
              "</table>\n",
              "<p>5 rows × 21 columns</p>\n",
              "</div>"
            ],
            "text/plain": [
              "   frecuencia_media        sd   mediana        Q1        Q3       IQR  \\\n",
              "0          0.096419  0.473409  0.084125  0.060063  0.204956  0.254828   \n",
              "1          0.125828  0.505075  0.116900  0.077635  0.215683  0.246961   \n",
              "2          0.179222  0.675536  0.102873  0.034284  0.385912  0.457148   \n",
              "3          0.528261  0.554611  0.587559  0.389906  0.715802  0.407358   \n",
              "4          0.452195  0.627209  0.454272  0.317627  0.707515  0.474474   \n",
              "\n",
              "       skew      kurt    sp.ent       sfm  ...  centroide   meanfun    minfun  \\\n",
              "0  0.367853  0.208279  0.635798  0.564526  ...   0.096419  0.157706  0.030501   \n",
              "1  0.644279  0.483766  0.630964  0.591578  ...   0.125828  0.287642  0.031140   \n",
              "2  0.885255  0.782275  0.442738  0.548382  ...   0.179222  0.236945  0.030264   \n",
              "3  0.031549  0.001613  0.923261  0.856457  ...   0.528261  0.183442  0.041287   \n",
              "4  0.027742  0.001732  0.958736  0.926348  ...   0.452195  0.279190  0.036829   \n",
              "\n",
              "     maxfun   meandom    mindom    maxdom   dfrange   modindx  genero  \n",
              "0  0.981526  0.000000  0.006452  0.000000  0.000000  0.000000     1.0  \n",
              "1  0.834600  0.000407  0.006452  0.002144  0.002146  0.056449     1.0  \n",
              "2  0.954963  0.000060  0.006452  0.000357  0.000358  0.049885     1.0  \n",
              "3  0.834600  0.065659  0.006452  0.025375  0.025393  0.265043     1.0  \n",
              "4  0.929285  0.238994  0.006452  0.250536  0.250715  0.223380     1.0  \n",
              "\n",
              "[5 rows x 21 columns]"
            ]
          },
          "execution_count": 6,
          "metadata": {},
          "output_type": "execute_result"
        }
      ],
      "source": [
        "data = Normalización(data)\n",
        "data.head()"
      ]
    },
    {
      "cell_type": "markdown",
      "id": "92a13465",
      "metadata": {
        "id": "92a13465"
      },
      "source": [
        "# 5. Separación de Datos de Test y Train"
      ]
    },
    {
      "cell_type": "code",
      "execution_count": null,
      "id": "1bee3be3",
      "metadata": {
        "id": "1bee3be3"
      },
      "outputs": [],
      "source": [
        "X = data.drop([\"genero\"],axis=1).values\n",
        "Y = data[\"genero\"].values\n",
        "Train_Data_X, Test_Data_X, Train_Data_Y, Test_Data_Y = train_test_split(X, Y, test_size=0.15, random_state=20000901)"
      ]
    },
    {
      "cell_type": "code",
      "execution_count": null,
      "id": "74831405",
      "metadata": {
        "id": "74831405",
        "outputId": "e218e535-0e34-49aa-9c04-8e01c7b258f9"
      },
      "outputs": [
        {
          "data": {
            "text/plain": [
              "array([[0.54207062, 0.45960222, 0.57920162, ..., 0.04945497, 0.04537732,\n",
              "        0.5052602 ],\n",
              "       [0.88361577, 0.20773064, 0.87804086, ..., 0.12723374, 0.12660944,\n",
              "        0.09227559],\n",
              "       [0.24757871, 0.54683045, 0.2196    , ..., 0.03967119, 0.03969957,\n",
              "        0.39744837],\n",
              "       ...,\n",
              "       [0.53075043, 0.53396205, 0.6445199 , ..., 0.03037884, 0.03040057,\n",
              "        0.20031091],\n",
              "       [0.58120205, 0.4290666 , 0.62666365, ..., 0.31379557, 0.31080114,\n",
              "        0.2439157 ],\n",
              "       [0.74043872, 0.26813958, 0.76716089, ..., 0.03716941, 0.0286123 ,\n",
              "        0.6138828 ]])"
            ]
          },
          "execution_count": 8,
          "metadata": {},
          "output_type": "execute_result"
        }
      ],
      "source": [
        "Train_Data_X"
      ]
    },
    {
      "cell_type": "code",
      "execution_count": null,
      "id": "596a21a4",
      "metadata": {
        "id": "596a21a4",
        "outputId": "5f4f7851-f1cd-4c3e-f947-e3a03491c22a"
      },
      "outputs": [
        {
          "data": {
            "text/plain": [
              "array([1., 0., 0., ..., 1., 1., 0.])"
            ]
          },
          "execution_count": 9,
          "metadata": {},
          "output_type": "execute_result"
        }
      ],
      "source": [
        "Train_Data_Y"
      ]
    },
    {
      "cell_type": "markdown",
      "id": "b192d383",
      "metadata": {
        "id": "b192d383"
      },
      "source": [
        "# 6. Implementación del Perceptrón"
      ]
    },
    {
      "cell_type": "markdown",
      "id": "f3adaf8d",
      "metadata": {
        "id": "f3adaf8d"
      },
      "source": [
        "## A. Función de Activación"
      ]
    },
    {
      "cell_type": "code",
      "execution_count": null,
      "id": "dc40573b",
      "metadata": {
        "id": "dc40573b"
      },
      "outputs": [],
      "source": [
        "def Función_Activación_Sigmoide(X):\n",
        "    return 1 if 1/(1+np.exp(X*-1)) >= 0.5 else 0"
      ]
    },
    {
      "cell_type": "code",
      "execution_count": null,
      "id": "6d5ca449",
      "metadata": {
        "id": "6d5ca449"
      },
      "outputs": [],
      "source": [
        "def Función_Activación_Escalón(X):\n",
        "    return 1 if X >= 0 else 0"
      ]
    },
    {
      "cell_type": "markdown",
      "id": "1c7ccfd3",
      "metadata": {
        "id": "1c7ccfd3"
      },
      "source": [
        "## B. Función para Actualizar Pesos"
      ]
    },
    {
      "cell_type": "code",
      "execution_count": null,
      "id": "994e5a15",
      "metadata": {
        "id": "994e5a15"
      },
      "outputs": [],
      "source": [
        "def Calcular_Pesos(Modo, Dendritas, WA = [], Delta = []):\n",
        "    W = []\n",
        "    if Modo == 0:\n",
        "        for i in range(Dendritas):\n",
        "            W.append(random.uniform(-1,1))\n",
        "    else:\n",
        "        for i in range(Dendritas):\n",
        "            W.append(WA[i] + Delta[i])\n",
        "    return W"
      ]
    },
    {
      "cell_type": "markdown",
      "id": "fbe29245",
      "metadata": {
        "id": "fbe29245"
      },
      "source": [
        "## C. Función para Calcular Error Cometido "
      ]
    },
    {
      "cell_type": "code",
      "execution_count": null,
      "id": "9f396070",
      "metadata": {
        "id": "9f396070"
      },
      "outputs": [],
      "source": [
        "def Calcular_Error_Cometido(Y_Real, Y_Obtenido):\n",
        "    return Y_Real - Y_Obtenido"
      ]
    },
    {
      "cell_type": "markdown",
      "id": "4df87571",
      "metadata": {
        "id": "4df87571"
      },
      "source": [
        "## D. Escoger Valor Aleatorio"
      ]
    },
    {
      "cell_type": "code",
      "execution_count": null,
      "id": "35a367ae",
      "metadata": {
        "id": "35a367ae"
      },
      "outputs": [],
      "source": [
        "def Seleccionar_Par_Aleatorio(Tamaño, X, Y):\n",
        "    value = random.randint(0,Tamaño-1)\n",
        "    X_Prueba = X[value]\n",
        "    Y_Prueba = Y[value]\n",
        "    return X_Prueba, Y_Prueba"
      ]
    },
    {
      "cell_type": "markdown",
      "id": "bf0d639e",
      "metadata": {
        "id": "bf0d639e"
      },
      "source": [
        "## E. Calcular el Producto Punto"
      ]
    },
    {
      "cell_type": "code",
      "execution_count": null,
      "id": "a0656085",
      "metadata": {
        "id": "a0656085"
      },
      "outputs": [],
      "source": [
        "def Calcular_Producto_Punto(X,W):\n",
        "    Value = 0\n",
        "    for i in range(len(W)):\n",
        "        Value = X[i]*W[i] + Value\n",
        "    return Value"
      ]
    },
    {
      "cell_type": "markdown",
      "id": "cb98609b",
      "metadata": {
        "id": "cb98609b"
      },
      "source": [
        "## F. Calcular Delta"
      ]
    },
    {
      "cell_type": "code",
      "execution_count": null,
      "id": "7c7c075d",
      "metadata": {
        "id": "7c7c075d"
      },
      "outputs": [],
      "source": [
        "def Calcular_Delta(Error, Coef, X):\n",
        "    Delta = []\n",
        "    for i in range(len(X)):\n",
        "        Delta.append(Error*Coef*X[i])\n",
        "    return Delta"
      ]
    },
    {
      "cell_type": "markdown",
      "id": "c5a05196",
      "metadata": {
        "id": "c5a05196"
      },
      "source": [
        "## G. Entrenar Perceptrón"
      ]
    },
    {
      "cell_type": "code",
      "execution_count": null,
      "id": "fceab4c1",
      "metadata": {
        "id": "fceab4c1"
      },
      "outputs": [],
      "source": [
        "def Entrenar_Perceptrón(Épocas, Coef_Aprendizaje, X, Y):\n",
        "    W = Calcular_Pesos(0,len(X[0]))\n",
        "    AX, AY = Seleccionar_Par_Aleatorio(len(X),X,Y)\n",
        "    PP = Calcular_Producto_Punto(AX,W)\n",
        "    Salida = Función_Activación_Sigmoide(PP)\n",
        "    for i in range(Épocas):\n",
        "        for j in range(len(X)):\n",
        "            Error_Cometido = Calcular_Error_Cometido(AY,Salida)\n",
        "            Delta = Calcular_Delta(Error_Cometido, Coef_Aprendizaje, AX)\n",
        "            W = Calcular_Pesos(1,len(W),W,Delta)\n",
        "            AX, AY = Seleccionar_Par_Aleatorio(len(X),X,Y)\n",
        "            PP = Calcular_Producto_Punto(AX,W)\n",
        "            Salida = Función_Activación_Sigmoide(PP)\n",
        "    return W"
      ]
    },
    {
      "cell_type": "code",
      "execution_count": null,
      "id": "72f47084",
      "metadata": {
        "id": "72f47084",
        "outputId": "f6fd2ab3-a1fd-475b-ca93-091b4e6b7b70"
      },
      "outputs": [
        {
          "name": "stdout",
          "output_type": "stream",
          "text": [
            "[0.2740266455803223, 0.13168551445988183, -0.09494965490539785, -0.07092601898791723, -0.05883486648984739, 0.13317660338188494, 0.14855211544570132, -0.1897942226488747, 0.19825480086215244, -0.1590226531301752, 0.026918265304219112, -0.013881402280051301, -0.4254185980804623, 0.11139893454335642, -0.002518179305675142, -0.002308550170028593, -0.0067607856647595044, 0.07135304524224748, -0.06543736888449318, -0.060158912174726506]\n"
          ]
        }
      ],
      "source": [
        "W = Entrenar_Perceptrón(500,0.01,Train_Data_X,Train_Data_Y)\n",
        "print(W)"
      ]
    },
    {
      "cell_type": "markdown",
      "id": "b2776b79",
      "metadata": {
        "id": "b2776b79"
      },
      "source": [
        "# 7. Probar el Perceptrón"
      ]
    },
    {
      "cell_type": "code",
      "execution_count": null,
      "id": "a2245a25",
      "metadata": {
        "id": "a2245a25"
      },
      "outputs": [],
      "source": [
        "def Test_Perceptrón(W,X,Y):\n",
        "    VP = 0\n",
        "    VN = 0\n",
        "    FP = 0\n",
        "    FN = 0\n",
        "    for i in range(len(Y)):\n",
        "        PP = Calcular_Producto_Punto(X[i],W)\n",
        "        Y_Obtenido = Función_Activación_Sigmoide(PP)\n",
        "        if Y_Obtenido == Y[i] and Y_Obtenido == 1:\n",
        "            VP = VP + 1\n",
        "        elif Y_Obtenido == Y[i] and Y_Obtenido == 0:\n",
        "            VN = VN + 1\n",
        "        elif Y_Obtenido != Y[i] and Y[i] == 1:\n",
        "            FN = FN + 1\n",
        "        else:\n",
        "            FP = FP + 1  \n",
        "            \n",
        "    M = [[' Predicción\\Real  ','Condición Positiva','Condición Negativa'],\n",
        "         ['Predicción Positiva','         '+str(VP)+'        ','         '+str(FP)+'        '],\n",
        "         ['Predicción Negativa','         '+str(FN)+'        ','         '+str(VN)+'        ']]\n",
        "    \n",
        "    for i in range(len(M)):\n",
        "        print(M[i])\n",
        "    \n",
        "    return VP, VN, FP, FN"
      ]
    },
    {
      "cell_type": "code",
      "execution_count": null,
      "id": "102052b3",
      "metadata": {
        "id": "102052b3",
        "outputId": "068039a4-b2b4-4e80-962c-80b634afd18b"
      },
      "outputs": [
        {
          "name": "stdout",
          "output_type": "stream",
          "text": [
            "[' Predicción\\\\Real  ', 'Condición Positiva', 'Condición Negativa']\n",
            "['Predicción Positiva', '         233        ', '         11        ']\n",
            "['Predicción Negativa', '         6        ', '         226        ']\n"
          ]
        }
      ],
      "source": [
        "VP, VN, FP, FN = Test_Perceptrón(W,Test_Data_X,Test_Data_Y)"
      ]
    },
    {
      "cell_type": "markdown",
      "id": "87a71bb6",
      "metadata": {
        "id": "87a71bb6"
      },
      "source": [
        "# 8. Métrica"
      ]
    },
    {
      "cell_type": "code",
      "execution_count": null,
      "id": "b908f79a",
      "metadata": {
        "id": "b908f79a"
      },
      "outputs": [],
      "source": [
        "def Precision(VP, FP):\n",
        "    return VP/(VP + FP)"
      ]
    },
    {
      "cell_type": "code",
      "execution_count": null,
      "id": "e65a77a9",
      "metadata": {
        "id": "e65a77a9"
      },
      "outputs": [],
      "source": [
        "def Exactitud(VP, VN, FP, FN):\n",
        "    return (VP + VN)/(VP + VN + FP + FN)"
      ]
    },
    {
      "cell_type": "code",
      "execution_count": null,
      "id": "e12cf018",
      "metadata": {
        "id": "e12cf018"
      },
      "outputs": [],
      "source": [
        "def Exhaustividad(VP, FN):\n",
        "    return VP/(VP + FN)"
      ]
    },
    {
      "cell_type": "code",
      "execution_count": null,
      "id": "3deae36b",
      "metadata": {
        "id": "3deae36b",
        "outputId": "51243f4c-4f8d-4ebb-bfe0-a3ca7fa34e17"
      },
      "outputs": [
        {
          "name": "stdout",
          "output_type": "stream",
          "text": [
            "Precisión    :  0.9549180327868853\n",
            "Exactitud    :  0.9642857142857143\n",
            "Exhautividad :  0.9748953974895398\n"
          ]
        }
      ],
      "source": [
        "print(\"Precisión    : \", Precision(VP,FP))\n",
        "print(\"Exactitud    : \", Exactitud(VP,VN,FP,FN))\n",
        "print(\"Exhautividad : \", Exhaustividad(VP,FN))"
      ]
    },
    {
      "cell_type": "markdown",
      "id": "804e91c5",
      "metadata": {
        "id": "804e91c5"
      },
      "source": [
        "# 9. Predicción"
      ]
    },
    {
      "cell_type": "code",
      "execution_count": null,
      "id": "fff449de",
      "metadata": {
        "id": "fff449de"
      },
      "outputs": [],
      "source": [
        "def Predecir(X, W):\n",
        "    for i in range(len(X)):\n",
        "        PP = Calcular_Producto_Punto(X,W)\n",
        "        Y_Obtenido = Función_Activación_Sigmoide(PP)\n",
        "    return Y_Obtenido"
      ]
    },
    {
      "cell_type": "code",
      "execution_count": null,
      "id": "c1e1e00e",
      "metadata": {
        "id": "c1e1e00e",
        "outputId": "59808405-99e8-4e72-c833-7b95f161a4a7"
      },
      "outputs": [
        {
          "name": "stdout",
          "output_type": "stream",
          "text": [
            "0\n"
          ]
        }
      ],
      "source": [
        "print(Predecir([0.24,  0.031,  0.25 ,  0.19,  0.23,\n",
        "                0.038,  2.49, 11.53,  0.86,  0.2,\n",
        "                0.22,  0.21,  0.168,  0.05,  0.28,\n",
        "                0.79,  0.024 ,  5.13  ,  5.09 ,  0.076],W))"
      ]
    }
  ],
  "metadata": {
    "kernelspec": {
      "display_name": "Python 3 (ipykernel)",
      "language": "python",
      "name": "python3"
    },
    "language_info": {
      "codemirror_mode": {
        "name": "ipython",
        "version": 3
      },
      "file_extension": ".py",
      "mimetype": "text/x-python",
      "name": "python",
      "nbconvert_exporter": "python",
      "pygments_lexer": "ipython3",
      "version": "3.9.12"
    },
    "colab": {
      "provenance": [],
      "include_colab_link": true
    }
  },
  "nbformat": 4,
  "nbformat_minor": 5
}