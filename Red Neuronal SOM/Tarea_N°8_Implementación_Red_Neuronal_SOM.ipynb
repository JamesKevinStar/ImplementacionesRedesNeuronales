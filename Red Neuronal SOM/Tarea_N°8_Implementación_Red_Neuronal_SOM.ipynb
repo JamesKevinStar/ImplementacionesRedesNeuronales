{
  "cells": [
    {
      "cell_type": "markdown",
      "metadata": {
        "id": "view-in-github",
        "colab_type": "text"
      },
      "source": [
        "<a href=\"https://colab.research.google.com/github/JamesKevinStar/ImplementacionesRedesNeuronales/blob/main/Red%20Neuronal%20SOM/Tarea_N%C2%B08_Implementaci%C3%B3n_Red_Neuronal_SOM.ipynb\" target=\"_parent\"><img src=\"https://colab.research.google.com/assets/colab-badge.svg\" alt=\"Open In Colab\"/></a>"
      ]
    },
    {
      "cell_type": "markdown",
      "id": "971bd778",
      "metadata": {
        "id": "971bd778"
      },
      "source": [
        "# Implementación de la Red Neuronal SOM\n",
        "```\n",
        "Docente     : Luis Beltran Palma Ttito\n",
        "Alumnos     : James Kevin Estrella Vilca (182909) - Raísa Melina Peña Luque (182927)\n",
        "Lugar       : Cusco, Perú, 2023\n",
        "Universidad : Universidad Nacional de San Antonio Abad del Cusco\n",
        "```"
      ]
    },
    {
      "cell_type": "markdown",
      "id": "d4cfebc8",
      "metadata": {
        "id": "d4cfebc8"
      },
      "source": [
        "# 1. Importar Librerías"
      ]
    },
    {
      "cell_type": "code",
      "execution_count": null,
      "id": "0cf8dd28",
      "metadata": {
        "id": "0cf8dd28"
      },
      "outputs": [],
      "source": [
        "import matplotlib.pyplot as plt\n",
        "import scipy.stats as stats\n",
        "import seaborn as sns\n",
        "import pandas as pd\n",
        "import numpy as np\n",
        "import statistics\n",
        "import random\n",
        "import pylab\n",
        "\n",
        "from matplotlib import pylab\n",
        "\n",
        "%matplotlib inline"
      ]
    },
    {
      "cell_type": "markdown",
      "id": "86da172c",
      "metadata": {
        "id": "86da172c"
      },
      "source": [
        "# 2. Leer Datos"
      ]
    },
    {
      "cell_type": "code",
      "source": [
        "data1 = pd.read_csv(\"ds_cluster11.csv\", delimiter = \",\")\n",
        "data1.head()"
      ],
      "metadata": {
        "colab": {
          "base_uri": "https://localhost:8080/",
          "height": 206
        },
        "id": "6pZnYs-aCvgb",
        "outputId": "841d3e3d-b5c4-43f8-b3a1-5171ffbcba03"
      },
      "id": "6pZnYs-aCvgb",
      "execution_count": null,
      "outputs": [
        {
          "output_type": "execute_result",
          "data": {
            "text/plain": [
              "     x    y\n",
              "0  5.1  0.2\n",
              "1  4.9  0.2\n",
              "2  4.7  0.2\n",
              "3  4.6  0.2\n",
              "4  5.0  0.2"
            ],
            "text/html": [
              "\n",
              "  <div id=\"df-ad28d821-f655-4eff-bbd9-1725d82e2605\">\n",
              "    <div class=\"colab-df-container\">\n",
              "      <div>\n",
              "<style scoped>\n",
              "    .dataframe tbody tr th:only-of-type {\n",
              "        vertical-align: middle;\n",
              "    }\n",
              "\n",
              "    .dataframe tbody tr th {\n",
              "        vertical-align: top;\n",
              "    }\n",
              "\n",
              "    .dataframe thead th {\n",
              "        text-align: right;\n",
              "    }\n",
              "</style>\n",
              "<table border=\"1\" class=\"dataframe\">\n",
              "  <thead>\n",
              "    <tr style=\"text-align: right;\">\n",
              "      <th></th>\n",
              "      <th>x</th>\n",
              "      <th>y</th>\n",
              "    </tr>\n",
              "  </thead>\n",
              "  <tbody>\n",
              "    <tr>\n",
              "      <th>0</th>\n",
              "      <td>5.1</td>\n",
              "      <td>0.2</td>\n",
              "    </tr>\n",
              "    <tr>\n",
              "      <th>1</th>\n",
              "      <td>4.9</td>\n",
              "      <td>0.2</td>\n",
              "    </tr>\n",
              "    <tr>\n",
              "      <th>2</th>\n",
              "      <td>4.7</td>\n",
              "      <td>0.2</td>\n",
              "    </tr>\n",
              "    <tr>\n",
              "      <th>3</th>\n",
              "      <td>4.6</td>\n",
              "      <td>0.2</td>\n",
              "    </tr>\n",
              "    <tr>\n",
              "      <th>4</th>\n",
              "      <td>5.0</td>\n",
              "      <td>0.2</td>\n",
              "    </tr>\n",
              "  </tbody>\n",
              "</table>\n",
              "</div>\n",
              "      <button class=\"colab-df-convert\" onclick=\"convertToInteractive('df-ad28d821-f655-4eff-bbd9-1725d82e2605')\"\n",
              "              title=\"Convert this dataframe to an interactive table.\"\n",
              "              style=\"display:none;\">\n",
              "        \n",
              "  <svg xmlns=\"http://www.w3.org/2000/svg\" height=\"24px\"viewBox=\"0 0 24 24\"\n",
              "       width=\"24px\">\n",
              "    <path d=\"M0 0h24v24H0V0z\" fill=\"none\"/>\n",
              "    <path d=\"M18.56 5.44l.94 2.06.94-2.06 2.06-.94-2.06-.94-.94-2.06-.94 2.06-2.06.94zm-11 1L8.5 8.5l.94-2.06 2.06-.94-2.06-.94L8.5 2.5l-.94 2.06-2.06.94zm10 10l.94 2.06.94-2.06 2.06-.94-2.06-.94-.94-2.06-.94 2.06-2.06.94z\"/><path d=\"M17.41 7.96l-1.37-1.37c-.4-.4-.92-.59-1.43-.59-.52 0-1.04.2-1.43.59L10.3 9.45l-7.72 7.72c-.78.78-.78 2.05 0 2.83L4 21.41c.39.39.9.59 1.41.59.51 0 1.02-.2 1.41-.59l7.78-7.78 2.81-2.81c.8-.78.8-2.07 0-2.86zM5.41 20L4 18.59l7.72-7.72 1.47 1.35L5.41 20z\"/>\n",
              "  </svg>\n",
              "      </button>\n",
              "      \n",
              "  <style>\n",
              "    .colab-df-container {\n",
              "      display:flex;\n",
              "      flex-wrap:wrap;\n",
              "      gap: 12px;\n",
              "    }\n",
              "\n",
              "    .colab-df-convert {\n",
              "      background-color: #E8F0FE;\n",
              "      border: none;\n",
              "      border-radius: 50%;\n",
              "      cursor: pointer;\n",
              "      display: none;\n",
              "      fill: #1967D2;\n",
              "      height: 32px;\n",
              "      padding: 0 0 0 0;\n",
              "      width: 32px;\n",
              "    }\n",
              "\n",
              "    .colab-df-convert:hover {\n",
              "      background-color: #E2EBFA;\n",
              "      box-shadow: 0px 1px 2px rgba(60, 64, 67, 0.3), 0px 1px 3px 1px rgba(60, 64, 67, 0.15);\n",
              "      fill: #174EA6;\n",
              "    }\n",
              "\n",
              "    [theme=dark] .colab-df-convert {\n",
              "      background-color: #3B4455;\n",
              "      fill: #D2E3FC;\n",
              "    }\n",
              "\n",
              "    [theme=dark] .colab-df-convert:hover {\n",
              "      background-color: #434B5C;\n",
              "      box-shadow: 0px 1px 3px 1px rgba(0, 0, 0, 0.15);\n",
              "      filter: drop-shadow(0px 1px 2px rgba(0, 0, 0, 0.3));\n",
              "      fill: #FFFFFF;\n",
              "    }\n",
              "  </style>\n",
              "\n",
              "      <script>\n",
              "        const buttonEl =\n",
              "          document.querySelector('#df-ad28d821-f655-4eff-bbd9-1725d82e2605 button.colab-df-convert');\n",
              "        buttonEl.style.display =\n",
              "          google.colab.kernel.accessAllowed ? 'block' : 'none';\n",
              "\n",
              "        async function convertToInteractive(key) {\n",
              "          const element = document.querySelector('#df-ad28d821-f655-4eff-bbd9-1725d82e2605');\n",
              "          const dataTable =\n",
              "            await google.colab.kernel.invokeFunction('convertToInteractive',\n",
              "                                                     [key], {});\n",
              "          if (!dataTable) return;\n",
              "\n",
              "          const docLinkHtml = 'Like what you see? Visit the ' +\n",
              "            '<a target=\"_blank\" href=https://colab.research.google.com/notebooks/data_table.ipynb>data table notebook</a>'\n",
              "            + ' to learn more about interactive tables.';\n",
              "          element.innerHTML = '';\n",
              "          dataTable['output_type'] = 'display_data';\n",
              "          await google.colab.output.renderOutput(dataTable, element);\n",
              "          const docLink = document.createElement('div');\n",
              "          docLink.innerHTML = docLinkHtml;\n",
              "          element.appendChild(docLink);\n",
              "        }\n",
              "      </script>\n",
              "    </div>\n",
              "  </div>\n",
              "  "
            ]
          },
          "metadata": {},
          "execution_count": 128
        }
      ]
    },
    {
      "cell_type": "code",
      "source": [
        "data2 = pd.read_csv(\"ds_cluster55.csv\", delimiter = \",\")\n",
        "data2.head()"
      ],
      "metadata": {
        "colab": {
          "base_uri": "https://localhost:8080/",
          "height": 206
        },
        "id": "S8AHzYc_rMLa",
        "outputId": "230022ae-9525-4139-89e1-72a4728b9708"
      },
      "id": "S8AHzYc_rMLa",
      "execution_count": null,
      "outputs": [
        {
          "output_type": "execute_result",
          "data": {
            "text/plain": [
              "   latitud  longitud  profundidad\n",
              "0   -20.42    181.62          562\n",
              "1   -20.62    181.03          650\n",
              "2   -26.00    184.10           42\n",
              "3   -17.97    181.66          626\n",
              "4   -20.42    181.96          649"
            ],
            "text/html": [
              "\n",
              "  <div id=\"df-b26d3aed-eb50-4d26-8964-cb75bfa36375\">\n",
              "    <div class=\"colab-df-container\">\n",
              "      <div>\n",
              "<style scoped>\n",
              "    .dataframe tbody tr th:only-of-type {\n",
              "        vertical-align: middle;\n",
              "    }\n",
              "\n",
              "    .dataframe tbody tr th {\n",
              "        vertical-align: top;\n",
              "    }\n",
              "\n",
              "    .dataframe thead th {\n",
              "        text-align: right;\n",
              "    }\n",
              "</style>\n",
              "<table border=\"1\" class=\"dataframe\">\n",
              "  <thead>\n",
              "    <tr style=\"text-align: right;\">\n",
              "      <th></th>\n",
              "      <th>latitud</th>\n",
              "      <th>longitud</th>\n",
              "      <th>profundidad</th>\n",
              "    </tr>\n",
              "  </thead>\n",
              "  <tbody>\n",
              "    <tr>\n",
              "      <th>0</th>\n",
              "      <td>-20.42</td>\n",
              "      <td>181.62</td>\n",
              "      <td>562</td>\n",
              "    </tr>\n",
              "    <tr>\n",
              "      <th>1</th>\n",
              "      <td>-20.62</td>\n",
              "      <td>181.03</td>\n",
              "      <td>650</td>\n",
              "    </tr>\n",
              "    <tr>\n",
              "      <th>2</th>\n",
              "      <td>-26.00</td>\n",
              "      <td>184.10</td>\n",
              "      <td>42</td>\n",
              "    </tr>\n",
              "    <tr>\n",
              "      <th>3</th>\n",
              "      <td>-17.97</td>\n",
              "      <td>181.66</td>\n",
              "      <td>626</td>\n",
              "    </tr>\n",
              "    <tr>\n",
              "      <th>4</th>\n",
              "      <td>-20.42</td>\n",
              "      <td>181.96</td>\n",
              "      <td>649</td>\n",
              "    </tr>\n",
              "  </tbody>\n",
              "</table>\n",
              "</div>\n",
              "      <button class=\"colab-df-convert\" onclick=\"convertToInteractive('df-b26d3aed-eb50-4d26-8964-cb75bfa36375')\"\n",
              "              title=\"Convert this dataframe to an interactive table.\"\n",
              "              style=\"display:none;\">\n",
              "        \n",
              "  <svg xmlns=\"http://www.w3.org/2000/svg\" height=\"24px\"viewBox=\"0 0 24 24\"\n",
              "       width=\"24px\">\n",
              "    <path d=\"M0 0h24v24H0V0z\" fill=\"none\"/>\n",
              "    <path d=\"M18.56 5.44l.94 2.06.94-2.06 2.06-.94-2.06-.94-.94-2.06-.94 2.06-2.06.94zm-11 1L8.5 8.5l.94-2.06 2.06-.94-2.06-.94L8.5 2.5l-.94 2.06-2.06.94zm10 10l.94 2.06.94-2.06 2.06-.94-2.06-.94-.94-2.06-.94 2.06-2.06.94z\"/><path d=\"M17.41 7.96l-1.37-1.37c-.4-.4-.92-.59-1.43-.59-.52 0-1.04.2-1.43.59L10.3 9.45l-7.72 7.72c-.78.78-.78 2.05 0 2.83L4 21.41c.39.39.9.59 1.41.59.51 0 1.02-.2 1.41-.59l7.78-7.78 2.81-2.81c.8-.78.8-2.07 0-2.86zM5.41 20L4 18.59l7.72-7.72 1.47 1.35L5.41 20z\"/>\n",
              "  </svg>\n",
              "      </button>\n",
              "      \n",
              "  <style>\n",
              "    .colab-df-container {\n",
              "      display:flex;\n",
              "      flex-wrap:wrap;\n",
              "      gap: 12px;\n",
              "    }\n",
              "\n",
              "    .colab-df-convert {\n",
              "      background-color: #E8F0FE;\n",
              "      border: none;\n",
              "      border-radius: 50%;\n",
              "      cursor: pointer;\n",
              "      display: none;\n",
              "      fill: #1967D2;\n",
              "      height: 32px;\n",
              "      padding: 0 0 0 0;\n",
              "      width: 32px;\n",
              "    }\n",
              "\n",
              "    .colab-df-convert:hover {\n",
              "      background-color: #E2EBFA;\n",
              "      box-shadow: 0px 1px 2px rgba(60, 64, 67, 0.3), 0px 1px 3px 1px rgba(60, 64, 67, 0.15);\n",
              "      fill: #174EA6;\n",
              "    }\n",
              "\n",
              "    [theme=dark] .colab-df-convert {\n",
              "      background-color: #3B4455;\n",
              "      fill: #D2E3FC;\n",
              "    }\n",
              "\n",
              "    [theme=dark] .colab-df-convert:hover {\n",
              "      background-color: #434B5C;\n",
              "      box-shadow: 0px 1px 3px 1px rgba(0, 0, 0, 0.15);\n",
              "      filter: drop-shadow(0px 1px 2px rgba(0, 0, 0, 0.3));\n",
              "      fill: #FFFFFF;\n",
              "    }\n",
              "  </style>\n",
              "\n",
              "      <script>\n",
              "        const buttonEl =\n",
              "          document.querySelector('#df-b26d3aed-eb50-4d26-8964-cb75bfa36375 button.colab-df-convert');\n",
              "        buttonEl.style.display =\n",
              "          google.colab.kernel.accessAllowed ? 'block' : 'none';\n",
              "\n",
              "        async function convertToInteractive(key) {\n",
              "          const element = document.querySelector('#df-b26d3aed-eb50-4d26-8964-cb75bfa36375');\n",
              "          const dataTable =\n",
              "            await google.colab.kernel.invokeFunction('convertToInteractive',\n",
              "                                                     [key], {});\n",
              "          if (!dataTable) return;\n",
              "\n",
              "          const docLinkHtml = 'Like what you see? Visit the ' +\n",
              "            '<a target=\"_blank\" href=https://colab.research.google.com/notebooks/data_table.ipynb>data table notebook</a>'\n",
              "            + ' to learn more about interactive tables.';\n",
              "          element.innerHTML = '';\n",
              "          dataTable['output_type'] = 'display_data';\n",
              "          await google.colab.output.renderOutput(dataTable, element);\n",
              "          const docLink = document.createElement('div');\n",
              "          docLink.innerHTML = docLinkHtml;\n",
              "          element.appendChild(docLink);\n",
              "        }\n",
              "      </script>\n",
              "    </div>\n",
              "  </div>\n",
              "  "
            ]
          },
          "metadata": {},
          "execution_count": 129
        }
      ]
    },
    {
      "cell_type": "markdown",
      "source": [
        "# 3. Normalizar"
      ],
      "metadata": {
        "id": "m4W08ScfjJIw"
      },
      "id": "m4W08ScfjJIw"
    },
    {
      "cell_type": "code",
      "source": [
        "def Normalización(datos):\n",
        "    return (datos - datos.min())/(datos.max() - datos.min())"
      ],
      "metadata": {
        "id": "rJK0OHy0jGZh"
      },
      "id": "rJK0OHy0jGZh",
      "execution_count": null,
      "outputs": []
    },
    {
      "cell_type": "code",
      "source": [
        "data1.loc[:,[\"x\",\"y\"]] = Normalización(data1.loc[:,[\"x\",\"y\"]])\n",
        "data1.head()"
      ],
      "metadata": {
        "colab": {
          "base_uri": "https://localhost:8080/",
          "height": 206
        },
        "id": "Vef5rLe5jG1Q",
        "outputId": "907994c0-1fff-4c29-e998-16fd75ed3a19"
      },
      "id": "Vef5rLe5jG1Q",
      "execution_count": null,
      "outputs": [
        {
          "output_type": "execute_result",
          "data": {
            "text/plain": [
              "          x         y\n",
              "0  0.222222  0.041667\n",
              "1  0.166667  0.041667\n",
              "2  0.111111  0.041667\n",
              "3  0.083333  0.041667\n",
              "4  0.194444  0.041667"
            ],
            "text/html": [
              "\n",
              "  <div id=\"df-ac46c6e1-34c7-4023-924a-bb6ce149343f\">\n",
              "    <div class=\"colab-df-container\">\n",
              "      <div>\n",
              "<style scoped>\n",
              "    .dataframe tbody tr th:only-of-type {\n",
              "        vertical-align: middle;\n",
              "    }\n",
              "\n",
              "    .dataframe tbody tr th {\n",
              "        vertical-align: top;\n",
              "    }\n",
              "\n",
              "    .dataframe thead th {\n",
              "        text-align: right;\n",
              "    }\n",
              "</style>\n",
              "<table border=\"1\" class=\"dataframe\">\n",
              "  <thead>\n",
              "    <tr style=\"text-align: right;\">\n",
              "      <th></th>\n",
              "      <th>x</th>\n",
              "      <th>y</th>\n",
              "    </tr>\n",
              "  </thead>\n",
              "  <tbody>\n",
              "    <tr>\n",
              "      <th>0</th>\n",
              "      <td>0.222222</td>\n",
              "      <td>0.041667</td>\n",
              "    </tr>\n",
              "    <tr>\n",
              "      <th>1</th>\n",
              "      <td>0.166667</td>\n",
              "      <td>0.041667</td>\n",
              "    </tr>\n",
              "    <tr>\n",
              "      <th>2</th>\n",
              "      <td>0.111111</td>\n",
              "      <td>0.041667</td>\n",
              "    </tr>\n",
              "    <tr>\n",
              "      <th>3</th>\n",
              "      <td>0.083333</td>\n",
              "      <td>0.041667</td>\n",
              "    </tr>\n",
              "    <tr>\n",
              "      <th>4</th>\n",
              "      <td>0.194444</td>\n",
              "      <td>0.041667</td>\n",
              "    </tr>\n",
              "  </tbody>\n",
              "</table>\n",
              "</div>\n",
              "      <button class=\"colab-df-convert\" onclick=\"convertToInteractive('df-ac46c6e1-34c7-4023-924a-bb6ce149343f')\"\n",
              "              title=\"Convert this dataframe to an interactive table.\"\n",
              "              style=\"display:none;\">\n",
              "        \n",
              "  <svg xmlns=\"http://www.w3.org/2000/svg\" height=\"24px\"viewBox=\"0 0 24 24\"\n",
              "       width=\"24px\">\n",
              "    <path d=\"M0 0h24v24H0V0z\" fill=\"none\"/>\n",
              "    <path d=\"M18.56 5.44l.94 2.06.94-2.06 2.06-.94-2.06-.94-.94-2.06-.94 2.06-2.06.94zm-11 1L8.5 8.5l.94-2.06 2.06-.94-2.06-.94L8.5 2.5l-.94 2.06-2.06.94zm10 10l.94 2.06.94-2.06 2.06-.94-2.06-.94-.94-2.06-.94 2.06-2.06.94z\"/><path d=\"M17.41 7.96l-1.37-1.37c-.4-.4-.92-.59-1.43-.59-.52 0-1.04.2-1.43.59L10.3 9.45l-7.72 7.72c-.78.78-.78 2.05 0 2.83L4 21.41c.39.39.9.59 1.41.59.51 0 1.02-.2 1.41-.59l7.78-7.78 2.81-2.81c.8-.78.8-2.07 0-2.86zM5.41 20L4 18.59l7.72-7.72 1.47 1.35L5.41 20z\"/>\n",
              "  </svg>\n",
              "      </button>\n",
              "      \n",
              "  <style>\n",
              "    .colab-df-container {\n",
              "      display:flex;\n",
              "      flex-wrap:wrap;\n",
              "      gap: 12px;\n",
              "    }\n",
              "\n",
              "    .colab-df-convert {\n",
              "      background-color: #E8F0FE;\n",
              "      border: none;\n",
              "      border-radius: 50%;\n",
              "      cursor: pointer;\n",
              "      display: none;\n",
              "      fill: #1967D2;\n",
              "      height: 32px;\n",
              "      padding: 0 0 0 0;\n",
              "      width: 32px;\n",
              "    }\n",
              "\n",
              "    .colab-df-convert:hover {\n",
              "      background-color: #E2EBFA;\n",
              "      box-shadow: 0px 1px 2px rgba(60, 64, 67, 0.3), 0px 1px 3px 1px rgba(60, 64, 67, 0.15);\n",
              "      fill: #174EA6;\n",
              "    }\n",
              "\n",
              "    [theme=dark] .colab-df-convert {\n",
              "      background-color: #3B4455;\n",
              "      fill: #D2E3FC;\n",
              "    }\n",
              "\n",
              "    [theme=dark] .colab-df-convert:hover {\n",
              "      background-color: #434B5C;\n",
              "      box-shadow: 0px 1px 3px 1px rgba(0, 0, 0, 0.15);\n",
              "      filter: drop-shadow(0px 1px 2px rgba(0, 0, 0, 0.3));\n",
              "      fill: #FFFFFF;\n",
              "    }\n",
              "  </style>\n",
              "\n",
              "      <script>\n",
              "        const buttonEl =\n",
              "          document.querySelector('#df-ac46c6e1-34c7-4023-924a-bb6ce149343f button.colab-df-convert');\n",
              "        buttonEl.style.display =\n",
              "          google.colab.kernel.accessAllowed ? 'block' : 'none';\n",
              "\n",
              "        async function convertToInteractive(key) {\n",
              "          const element = document.querySelector('#df-ac46c6e1-34c7-4023-924a-bb6ce149343f');\n",
              "          const dataTable =\n",
              "            await google.colab.kernel.invokeFunction('convertToInteractive',\n",
              "                                                     [key], {});\n",
              "          if (!dataTable) return;\n",
              "\n",
              "          const docLinkHtml = 'Like what you see? Visit the ' +\n",
              "            '<a target=\"_blank\" href=https://colab.research.google.com/notebooks/data_table.ipynb>data table notebook</a>'\n",
              "            + ' to learn more about interactive tables.';\n",
              "          element.innerHTML = '';\n",
              "          dataTable['output_type'] = 'display_data';\n",
              "          await google.colab.output.renderOutput(dataTable, element);\n",
              "          const docLink = document.createElement('div');\n",
              "          docLink.innerHTML = docLinkHtml;\n",
              "          element.appendChild(docLink);\n",
              "        }\n",
              "      </script>\n",
              "    </div>\n",
              "  </div>\n",
              "  "
            ]
          },
          "metadata": {},
          "execution_count": 130
        }
      ]
    },
    {
      "cell_type": "code",
      "source": [
        "data2.loc[:,[\"latitud\",\"longitud\",\"profundidad\"]] = Normalización(data2.loc[:,[\"latitud\",\"longitud\",\"profundidad\"]])\n",
        "data2.head()"
      ],
      "metadata": {
        "colab": {
          "base_uri": "https://localhost:8080/",
          "height": 206
        },
        "id": "2HxJQvrPrX7a",
        "outputId": "00709f8a-81bd-4406-c0ee-12072e960a29"
      },
      "id": "2HxJQvrPrX7a",
      "execution_count": null,
      "outputs": [
        {
          "output_type": "execute_result",
          "data": {
            "text/plain": [
              "    latitud  longitud  profundidad\n",
              "0  0.651956  0.710151     0.815625\n",
              "1  0.644779  0.683882     0.953125\n",
              "2  0.451740  0.820570     0.003125\n",
              "3  0.739864  0.711932     0.915625\n",
              "4  0.651956  0.725289     0.951562"
            ],
            "text/html": [
              "\n",
              "  <div id=\"df-7adca2f9-9136-4a1e-8c98-c74fb3c4b98c\">\n",
              "    <div class=\"colab-df-container\">\n",
              "      <div>\n",
              "<style scoped>\n",
              "    .dataframe tbody tr th:only-of-type {\n",
              "        vertical-align: middle;\n",
              "    }\n",
              "\n",
              "    .dataframe tbody tr th {\n",
              "        vertical-align: top;\n",
              "    }\n",
              "\n",
              "    .dataframe thead th {\n",
              "        text-align: right;\n",
              "    }\n",
              "</style>\n",
              "<table border=\"1\" class=\"dataframe\">\n",
              "  <thead>\n",
              "    <tr style=\"text-align: right;\">\n",
              "      <th></th>\n",
              "      <th>latitud</th>\n",
              "      <th>longitud</th>\n",
              "      <th>profundidad</th>\n",
              "    </tr>\n",
              "  </thead>\n",
              "  <tbody>\n",
              "    <tr>\n",
              "      <th>0</th>\n",
              "      <td>0.651956</td>\n",
              "      <td>0.710151</td>\n",
              "      <td>0.815625</td>\n",
              "    </tr>\n",
              "    <tr>\n",
              "      <th>1</th>\n",
              "      <td>0.644779</td>\n",
              "      <td>0.683882</td>\n",
              "      <td>0.953125</td>\n",
              "    </tr>\n",
              "    <tr>\n",
              "      <th>2</th>\n",
              "      <td>0.451740</td>\n",
              "      <td>0.820570</td>\n",
              "      <td>0.003125</td>\n",
              "    </tr>\n",
              "    <tr>\n",
              "      <th>3</th>\n",
              "      <td>0.739864</td>\n",
              "      <td>0.711932</td>\n",
              "      <td>0.915625</td>\n",
              "    </tr>\n",
              "    <tr>\n",
              "      <th>4</th>\n",
              "      <td>0.651956</td>\n",
              "      <td>0.725289</td>\n",
              "      <td>0.951562</td>\n",
              "    </tr>\n",
              "  </tbody>\n",
              "</table>\n",
              "</div>\n",
              "      <button class=\"colab-df-convert\" onclick=\"convertToInteractive('df-7adca2f9-9136-4a1e-8c98-c74fb3c4b98c')\"\n",
              "              title=\"Convert this dataframe to an interactive table.\"\n",
              "              style=\"display:none;\">\n",
              "        \n",
              "  <svg xmlns=\"http://www.w3.org/2000/svg\" height=\"24px\"viewBox=\"0 0 24 24\"\n",
              "       width=\"24px\">\n",
              "    <path d=\"M0 0h24v24H0V0z\" fill=\"none\"/>\n",
              "    <path d=\"M18.56 5.44l.94 2.06.94-2.06 2.06-.94-2.06-.94-.94-2.06-.94 2.06-2.06.94zm-11 1L8.5 8.5l.94-2.06 2.06-.94-2.06-.94L8.5 2.5l-.94 2.06-2.06.94zm10 10l.94 2.06.94-2.06 2.06-.94-2.06-.94-.94-2.06-.94 2.06-2.06.94z\"/><path d=\"M17.41 7.96l-1.37-1.37c-.4-.4-.92-.59-1.43-.59-.52 0-1.04.2-1.43.59L10.3 9.45l-7.72 7.72c-.78.78-.78 2.05 0 2.83L4 21.41c.39.39.9.59 1.41.59.51 0 1.02-.2 1.41-.59l7.78-7.78 2.81-2.81c.8-.78.8-2.07 0-2.86zM5.41 20L4 18.59l7.72-7.72 1.47 1.35L5.41 20z\"/>\n",
              "  </svg>\n",
              "      </button>\n",
              "      \n",
              "  <style>\n",
              "    .colab-df-container {\n",
              "      display:flex;\n",
              "      flex-wrap:wrap;\n",
              "      gap: 12px;\n",
              "    }\n",
              "\n",
              "    .colab-df-convert {\n",
              "      background-color: #E8F0FE;\n",
              "      border: none;\n",
              "      border-radius: 50%;\n",
              "      cursor: pointer;\n",
              "      display: none;\n",
              "      fill: #1967D2;\n",
              "      height: 32px;\n",
              "      padding: 0 0 0 0;\n",
              "      width: 32px;\n",
              "    }\n",
              "\n",
              "    .colab-df-convert:hover {\n",
              "      background-color: #E2EBFA;\n",
              "      box-shadow: 0px 1px 2px rgba(60, 64, 67, 0.3), 0px 1px 3px 1px rgba(60, 64, 67, 0.15);\n",
              "      fill: #174EA6;\n",
              "    }\n",
              "\n",
              "    [theme=dark] .colab-df-convert {\n",
              "      background-color: #3B4455;\n",
              "      fill: #D2E3FC;\n",
              "    }\n",
              "\n",
              "    [theme=dark] .colab-df-convert:hover {\n",
              "      background-color: #434B5C;\n",
              "      box-shadow: 0px 1px 3px 1px rgba(0, 0, 0, 0.15);\n",
              "      filter: drop-shadow(0px 1px 2px rgba(0, 0, 0, 0.3));\n",
              "      fill: #FFFFFF;\n",
              "    }\n",
              "  </style>\n",
              "\n",
              "      <script>\n",
              "        const buttonEl =\n",
              "          document.querySelector('#df-7adca2f9-9136-4a1e-8c98-c74fb3c4b98c button.colab-df-convert');\n",
              "        buttonEl.style.display =\n",
              "          google.colab.kernel.accessAllowed ? 'block' : 'none';\n",
              "\n",
              "        async function convertToInteractive(key) {\n",
              "          const element = document.querySelector('#df-7adca2f9-9136-4a1e-8c98-c74fb3c4b98c');\n",
              "          const dataTable =\n",
              "            await google.colab.kernel.invokeFunction('convertToInteractive',\n",
              "                                                     [key], {});\n",
              "          if (!dataTable) return;\n",
              "\n",
              "          const docLinkHtml = 'Like what you see? Visit the ' +\n",
              "            '<a target=\"_blank\" href=https://colab.research.google.com/notebooks/data_table.ipynb>data table notebook</a>'\n",
              "            + ' to learn more about interactive tables.';\n",
              "          element.innerHTML = '';\n",
              "          dataTable['output_type'] = 'display_data';\n",
              "          await google.colab.output.renderOutput(dataTable, element);\n",
              "          const docLink = document.createElement('div');\n",
              "          docLink.innerHTML = docLinkHtml;\n",
              "          element.appendChild(docLink);\n",
              "        }\n",
              "      </script>\n",
              "    </div>\n",
              "  </div>\n",
              "  "
            ]
          },
          "metadata": {},
          "execution_count": 131
        }
      ]
    },
    {
      "cell_type": "markdown",
      "source": [
        "# 4. DataFrame a Numpy"
      ],
      "metadata": {
        "id": "2CYu6q8ctFzs"
      },
      "id": "2CYu6q8ctFzs"
    },
    {
      "cell_type": "code",
      "execution_count": null,
      "id": "32febe60",
      "metadata": {
        "id": "32febe60"
      },
      "outputs": [],
      "source": [
        "def Df_Np(Data):\n",
        "    X = Data.values\n",
        "    return X"
      ]
    },
    {
      "cell_type": "code",
      "execution_count": null,
      "id": "6ac4cf1a",
      "metadata": {
        "id": "6ac4cf1a",
        "colab": {
          "base_uri": "https://localhost:8080/"
        },
        "outputId": "170b5dc0-21a6-44bf-c8d8-b4d92e7e0459"
      },
      "outputs": [
        {
          "output_type": "stream",
          "name": "stdout",
          "text": [
            "[[0.22222222 0.04166667]\n",
            " [0.16666667 0.04166667]\n",
            " [0.11111111 0.04166667]\n",
            " [0.08333333 0.04166667]\n",
            " [0.19444444 0.04166667]\n",
            " [0.30555556 0.125     ]\n",
            " [0.08333333 0.08333333]\n",
            " [0.19444444 0.04166667]\n",
            " [0.02777778 0.04166667]\n",
            " [0.16666667 0.        ]\n",
            " [0.30555556 0.04166667]\n",
            " [0.13888889 0.04166667]\n",
            " [0.13888889 0.        ]\n",
            " [0.         0.        ]\n",
            " [0.41666667 0.04166667]\n",
            " [0.38888889 0.125     ]\n",
            " [0.30555556 0.125     ]\n",
            " [0.22222222 0.08333333]\n",
            " [0.38888889 0.08333333]\n",
            " [0.22222222 0.08333333]\n",
            " [0.30555556 0.04166667]\n",
            " [0.22222222 0.125     ]\n",
            " [0.08333333 0.04166667]\n",
            " [0.22222222 0.16666667]\n",
            " [0.13888889 0.04166667]\n",
            " [0.19444444 0.04166667]\n",
            " [0.19444444 0.125     ]\n",
            " [0.25       0.04166667]\n",
            " [0.25       0.04166667]\n",
            " [0.11111111 0.04166667]\n",
            " [0.13888889 0.04166667]\n",
            " [0.30555556 0.125     ]\n",
            " [0.25       0.        ]\n",
            " [0.33333333 0.04166667]\n",
            " [0.16666667 0.04166667]\n",
            " [0.19444444 0.04166667]\n",
            " [0.33333333 0.04166667]\n",
            " [0.16666667 0.        ]\n",
            " [0.02777778 0.04166667]\n",
            " [0.22222222 0.04166667]\n",
            " [0.19444444 0.08333333]\n",
            " [0.05555556 0.08333333]\n",
            " [0.02777778 0.04166667]\n",
            " [0.19444444 0.20833333]\n",
            " [0.22222222 0.125     ]\n",
            " [0.13888889 0.08333333]\n",
            " [0.22222222 0.04166667]\n",
            " [0.08333333 0.04166667]\n",
            " [0.27777778 0.04166667]\n",
            " [0.19444444 0.04166667]\n",
            " [0.75       0.54166667]\n",
            " [0.58333333 0.58333333]\n",
            " [0.72222222 0.58333333]\n",
            " [0.33333333 0.5       ]\n",
            " [0.61111111 0.58333333]\n",
            " [0.38888889 0.5       ]\n",
            " [0.55555556 0.625     ]\n",
            " [0.16666667 0.375     ]\n",
            " [0.63888889 0.5       ]\n",
            " [0.25       0.54166667]\n",
            " [0.19444444 0.375     ]\n",
            " [0.44444444 0.58333333]\n",
            " [0.47222222 0.375     ]\n",
            " [0.5        0.54166667]\n",
            " [0.36111111 0.5       ]\n",
            " [0.66666667 0.54166667]\n",
            " [0.36111111 0.58333333]\n",
            " [0.41666667 0.375     ]\n",
            " [0.52777778 0.58333333]\n",
            " [0.36111111 0.41666667]\n",
            " [0.44444444 0.70833333]\n",
            " [0.5        0.5       ]\n",
            " [0.55555556 0.58333333]\n",
            " [0.5        0.45833333]\n",
            " [0.58333333 0.5       ]\n",
            " [0.63888889 0.54166667]\n",
            " [0.69444444 0.54166667]\n",
            " [0.66666667 0.66666667]\n",
            " [0.47222222 0.58333333]\n",
            " [0.38888889 0.375     ]\n",
            " [0.33333333 0.41666667]\n",
            " [0.33333333 0.375     ]\n",
            " [0.41666667 0.45833333]\n",
            " [0.47222222 0.625     ]\n",
            " [0.30555556 0.58333333]\n",
            " [0.47222222 0.625     ]\n",
            " [0.66666667 0.58333333]\n",
            " [0.55555556 0.5       ]\n",
            " [0.36111111 0.5       ]\n",
            " [0.33333333 0.5       ]\n",
            " [0.33333333 0.45833333]\n",
            " [0.5        0.54166667]\n",
            " [0.41666667 0.45833333]\n",
            " [0.19444444 0.375     ]\n",
            " [0.36111111 0.5       ]\n",
            " [0.38888889 0.45833333]\n",
            " [0.38888889 0.5       ]\n",
            " [0.52777778 0.5       ]\n",
            " [0.22222222 0.41666667]\n",
            " [0.38888889 0.5       ]\n",
            " [0.55555556 1.        ]\n",
            " [0.41666667 0.75      ]\n",
            " [0.77777778 0.83333333]\n",
            " [0.55555556 0.70833333]\n",
            " [0.61111111 0.875     ]\n",
            " [0.91666667 0.83333333]\n",
            " [0.16666667 0.66666667]\n",
            " [0.83333333 0.70833333]\n",
            " [0.66666667 0.70833333]\n",
            " [0.80555556 1.        ]\n",
            " [0.61111111 0.79166667]\n",
            " [0.58333333 0.75      ]\n",
            " [0.69444444 0.83333333]\n",
            " [0.38888889 0.79166667]\n",
            " [0.41666667 0.95833333]\n",
            " [0.58333333 0.91666667]\n",
            " [0.61111111 0.70833333]\n",
            " [0.94444444 0.875     ]\n",
            " [0.94444444 0.91666667]\n",
            " [0.47222222 0.58333333]\n",
            " [0.72222222 0.91666667]\n",
            " [0.36111111 0.79166667]\n",
            " [0.94444444 0.79166667]\n",
            " [0.55555556 0.70833333]\n",
            " [0.66666667 0.83333333]\n",
            " [0.80555556 0.70833333]\n",
            " [0.52777778 0.70833333]\n",
            " [0.5        0.70833333]\n",
            " [0.58333333 0.83333333]\n",
            " [0.80555556 0.625     ]\n",
            " [0.86111111 0.75      ]\n",
            " [1.         0.79166667]\n",
            " [0.58333333 0.875     ]\n",
            " [0.55555556 0.58333333]\n",
            " [0.5        0.54166667]\n",
            " [0.94444444 0.91666667]\n",
            " [0.55555556 0.95833333]\n",
            " [0.58333333 0.70833333]\n",
            " [0.47222222 0.70833333]\n",
            " [0.72222222 0.83333333]\n",
            " [0.66666667 0.95833333]\n",
            " [0.72222222 0.91666667]\n",
            " [0.41666667 0.75      ]\n",
            " [0.69444444 0.91666667]\n",
            " [0.66666667 1.        ]\n",
            " [0.66666667 0.91666667]\n",
            " [0.55555556 0.75      ]\n",
            " [0.61111111 0.79166667]\n",
            " [0.52777778 0.91666667]\n",
            " [0.44444444 0.70833333]]\n"
          ]
        }
      ],
      "source": [
        "X1 = Df_Np(data1)\n",
        "print(X1)"
      ]
    },
    {
      "cell_type": "code",
      "source": [
        "X2 = Df_Np(data2)\n",
        "print(X2)"
      ],
      "metadata": {
        "colab": {
          "base_uri": "https://localhost:8080/"
        },
        "id": "z-I1GIy0rujK",
        "outputId": "27ae4ca1-b831-4621-c2df-b18faea74e96"
      },
      "id": "z-I1GIy0rujK",
      "execution_count": null,
      "outputs": [
        {
          "output_type": "stream",
          "name": "stdout",
          "text": [
            "[[0.65195551 0.71015138 0.815625  ]\n",
            " [0.64477933 0.68388246 0.953125  ]\n",
            " [0.45174022 0.8205699  0.003125  ]\n",
            " ...\n",
            " [0.66236096 0.82502226 0.31875   ]\n",
            " [0.76031575 0.98530721 0.        ]\n",
            " [0.60997488 0.21772039 0.1953125 ]]\n"
          ]
        }
      ]
    },
    {
      "cell_type": "markdown",
      "id": "bcd2ff56",
      "metadata": {
        "id": "bcd2ff56"
      },
      "source": [
        "# 5. Implementación de la Red Neuronal SOM"
      ]
    },
    {
      "cell_type": "markdown",
      "source": [
        "## A. Generar Pesos"
      ],
      "metadata": {
        "id": "Xbf5dJNPpbo_"
      },
      "id": "Xbf5dJNPpbo_"
    },
    {
      "cell_type": "code",
      "source": [
        "def Generar_Pesos(Dimensiones, X):\n",
        "    W = np.random.rand(Dimensiones[0]*Dimensiones[1], X)\n",
        "    return W"
      ],
      "metadata": {
        "id": "5mkuFdvG7FP8"
      },
      "id": "5mkuFdvG7FP8",
      "execution_count": null,
      "outputs": []
    },
    {
      "cell_type": "markdown",
      "source": [
        "## B. Calcular Distancia Euclidiana"
      ],
      "metadata": {
        "id": "Wizy8XImtT_i"
      },
      "id": "Wizy8XImtT_i"
    },
    {
      "cell_type": "code",
      "source": [
        "def Distancia_Euclidiana(X, W):\n",
        "    D = []\n",
        "    for j in range(len(W)):\n",
        "        S = 0\n",
        "        for i in range(len(X)):\n",
        "            S = S + (W[j][i] - X[i])**2\n",
        "        D.append(S**(1/2))\n",
        "    return D"
      ],
      "metadata": {
        "id": "maql7E9U1wTV"
      },
      "id": "maql7E9U1wTV",
      "execution_count": null,
      "outputs": []
    },
    {
      "cell_type": "markdown",
      "source": [
        "## C. Cálculo de RO"
      ],
      "metadata": {
        "id": "uW0dHr6ltZO6"
      },
      "id": "uW0dHr6ltZO6"
    },
    {
      "cell_type": "code",
      "source": [
        "def Calcular_RO(RI, RF, IA, IT):\n",
        "    return RI + (RF-RI)*(IA/IT)"
      ],
      "metadata": {
        "id": "OoPmTcys5SwN"
      },
      "id": "OoPmTcys5SwN",
      "execution_count": null,
      "outputs": []
    },
    {
      "cell_type": "markdown",
      "source": [
        "## D. Cálculo Alfa"
      ],
      "metadata": {
        "id": "5MXZluaGtgrr"
      },
      "id": "5MXZluaGtgrr"
    },
    {
      "cell_type": "code",
      "source": [
        "def Calcular_ALFA(AI, AF, IA, IT):\n",
        "    return AI*(AF/AI)**(IA/IT)"
      ],
      "metadata": {
        "id": "mG0NghNe6OGN"
      },
      "id": "mG0NghNe6OGN",
      "execution_count": null,
      "outputs": []
    },
    {
      "cell_type": "markdown",
      "source": [
        "## E. Determinar qué neuronas se modifican"
      ],
      "metadata": {
        "id": "oDfVQJkptmVq"
      },
      "id": "oDfVQJkptmVq"
    },
    {
      "cell_type": "code",
      "source": [
        "def Vecindad(WD, RO):\n",
        "    R = []\n",
        "    for i in range(len(WD)):\n",
        "        if WD[i] <= RO:\n",
        "            R.append(1)\n",
        "        else:\n",
        "            R.append(0)\n",
        "    return R"
      ],
      "metadata": {
        "id": "qqZJL6rVAqqf"
      },
      "id": "qqZJL6rVAqqf",
      "execution_count": null,
      "outputs": []
    },
    {
      "cell_type": "markdown",
      "source": [
        "## F. Actualizar Pesos"
      ],
      "metadata": {
        "id": "NlpGUgfhtyMR"
      },
      "id": "NlpGUgfhtyMR"
    },
    {
      "cell_type": "code",
      "source": [
        "def Actualizar_Pesos(W, X, WD, Alfa):\n",
        "    for i in range(len(W)):\n",
        "        for j in range(len(W[i])):\n",
        "            W[i][j] = W[i][j] + Alfa*WD[i]*(X[j] - W[i][j])\n",
        "    return W"
      ],
      "metadata": {
        "id": "Tx30y7xBDdSF"
      },
      "id": "Tx30y7xBDdSF",
      "execution_count": null,
      "outputs": []
    },
    {
      "cell_type": "markdown",
      "source": [
        "## G. Entrenar la Red SOM"
      ],
      "metadata": {
        "id": "hEKwmdy7t49h"
      },
      "id": "hEKwmdy7t49h"
    },
    {
      "cell_type": "code",
      "source": [
        "def Entrenar_Red_SOM(X, Iteraciones, AI, AF, RI, RF, Dimensiones):\n",
        "    Alfas = []\n",
        "    Ros = []\n",
        "    W = Generar_Pesos(Dimensiones, len(X[0]))\n",
        "    for i in range(Iteraciones):\n",
        "        print(\"\\nITERACIÓN \",i)\n",
        "        Alfas.append(Calcular_ALFA(AI, AF, i + 1, Iteraciones))\n",
        "        print(Alfas)\n",
        "        Ros.append(Calcular_RO(RI, RF, i + 1, Iteraciones))\n",
        "        print(Alfas)\n",
        "        D = Distancia_Euclidiana(X[i%len(X)], W)\n",
        "        print(D)\n",
        "        Índice = D.index(min(D))\n",
        "        print(Índice)\n",
        "        WD = Distancia_Euclidiana(W[Índice], W)\n",
        "        print(WD)\n",
        "        WD = Vecindad(WD, Ros[i])\n",
        "        print(WD)\n",
        "        W = Actualizar_Pesos(W, X[i%len(X)], WD, Alfas[i])\n",
        "        print(W)\n",
        "    return W"
      ],
      "metadata": {
        "id": "Nltv6cYO6o81"
      },
      "id": "Nltv6cYO6o81",
      "execution_count": null,
      "outputs": []
    },
    {
      "cell_type": "markdown",
      "source": [
        "## H. Mostrar el Mapa de Color"
      ],
      "metadata": {
        "id": "BxJ-xqC5uNZr"
      },
      "id": "BxJ-xqC5uNZr"
    },
    {
      "cell_type": "code",
      "source": [
        "def Mostrar(W, Dimensiones):\n",
        "    L = len(W[0])\n",
        "    M = []\n",
        "    for i in range(len(W)):\n",
        "        Aux = 0\n",
        "        for j in range(L):\n",
        "            Aux = Aux + W[i][j]**2\n",
        "        M.append(Aux**(1/2))\n",
        "    Matriz = np.reshape(M, (Dimensiones[0],Dimensiones[1]))\n",
        "    print(Matriz)\n",
        "    plt.imshow(Matriz)\n",
        "    plt.colorbar()\n",
        "    plt.show()\n",
        "\n",
        "    M = np.array(M)\n",
        "    V = np.sort(M)\n",
        "    M = V.tolist()\n",
        "    Matriz = np.reshape(M, (Dimensiones[0],Dimensiones[1]))\n",
        "    plt.imshow(Matriz)\n",
        "    plt.colorbar()\n",
        "    plt.show()"
      ],
      "metadata": {
        "id": "n_2-XOLogiTZ"
      },
      "id": "n_2-XOLogiTZ",
      "execution_count": null,
      "outputs": []
    },
    {
      "cell_type": "markdown",
      "source": [
        "# 6. Prueba DataSet Cluster11"
      ],
      "metadata": {
        "id": "YHC6ChD6uAwq"
      },
      "id": "YHC6ChD6uAwq"
    },
    {
      "cell_type": "markdown",
      "source": [
        "## A. Prueba 1"
      ],
      "metadata": {
        "id": "hTqXRmXQvT-K"
      },
      "id": "hTqXRmXQvT-K"
    },
    {
      "cell_type": "code",
      "source": [
        "Dimensiones1 = [15,10]\n",
        "W1_1 = Entrenar_Red_SOM(X1, 450, 0.4, 0.1, 0.3, 0.05, Dimensiones1)\n",
        "print(W1_1)"
      ],
      "metadata": {
        "colab": {
          "base_uri": "https://localhost:8080/"
        },
        "id": "4q32sJG2kfL4",
        "outputId": "e2e472ab-3889-45bb-bf09-b0e6355facbb"
      },
      "id": "4q32sJG2kfL4",
      "execution_count": null,
      "outputs": [
        {
          "output_type": "stream",
          "name": "stdout",
          "text": [
            "[[0.18225998 0.16847079]\n",
            " [0.18225998 0.16847079]\n",
            " [0.41318514 0.5231156 ]\n",
            " [0.41318514 0.5231156 ]\n",
            " [0.41318514 0.5231156 ]\n",
            " [0.41318514 0.5231156 ]\n",
            " [0.41318514 0.5231156 ]\n",
            " [0.41318514 0.5231156 ]\n",
            " [0.52233471 0.77637609]\n",
            " [0.75951578 0.87576785]\n",
            " [0.41318514 0.5231156 ]\n",
            " [0.41318514 0.5231156 ]\n",
            " [0.41318514 0.5231156 ]\n",
            " [0.18225998 0.16847079]\n",
            " [0.75951579 0.87576785]\n",
            " [0.18225998 0.16847079]\n",
            " [0.7595158  0.87576784]\n",
            " [0.18225998 0.16847079]\n",
            " [0.18225998 0.16847079]\n",
            " [0.41318514 0.5231156 ]\n",
            " [0.93071848 0.21547577]\n",
            " [0.18225998 0.16847079]\n",
            " [0.41318514 0.5231156 ]\n",
            " [0.41318514 0.5231156 ]\n",
            " [0.41318514 0.5231156 ]\n",
            " [0.18225998 0.16847079]\n",
            " [0.18225998 0.16847079]\n",
            " [0.18225998 0.16847079]\n",
            " [0.18225998 0.16847079]\n",
            " [0.95783077 0.15696762]\n",
            " [0.41318514 0.5231156 ]\n",
            " [0.75951579 0.87576784]\n",
            " [0.41318514 0.5231156 ]\n",
            " [0.41318514 0.5231156 ]\n",
            " [0.41318514 0.5231156 ]\n",
            " [0.75951579 0.87576783]\n",
            " [0.01624486 0.94494571]\n",
            " [0.41318514 0.5231156 ]\n",
            " [0.41318514 0.5231156 ]\n",
            " [0.18225998 0.16847079]\n",
            " [0.75951573 0.87576782]\n",
            " [0.75951545 0.87576771]\n",
            " [0.18225998 0.16847079]\n",
            " [0.18225998 0.16847079]\n",
            " [0.18225998 0.16847079]\n",
            " [0.41318514 0.5231156 ]\n",
            " [0.95876479 0.30352855]\n",
            " [0.18225998 0.16847079]\n",
            " [0.18225998 0.16847079]\n",
            " [0.41318514 0.52311561]\n",
            " [0.18225998 0.16847079]\n",
            " [0.52232778 0.77638047]\n",
            " [0.18225998 0.16847079]\n",
            " [0.18225998 0.16847079]\n",
            " [0.41318514 0.5231156 ]\n",
            " [0.41318514 0.5231156 ]\n",
            " [0.41318514 0.5231156 ]\n",
            " [0.41318514 0.5231156 ]\n",
            " [0.18225998 0.16847079]\n",
            " [0.41318514 0.5231156 ]\n",
            " [0.41318514 0.5231156 ]\n",
            " [0.18225998 0.16847079]\n",
            " [0.41318514 0.5231156 ]\n",
            " [0.41318514 0.5231156 ]\n",
            " [0.18225998 0.16847079]\n",
            " [0.41318514 0.5231156 ]\n",
            " [0.41318514 0.5231156 ]\n",
            " [0.41318514 0.5231156 ]\n",
            " [0.52233327 0.77637455]\n",
            " [0.7595158  0.87576783]\n",
            " [0.41318514 0.5231156 ]\n",
            " [0.75951545 0.87576771]\n",
            " [0.41318514 0.5231156 ]\n",
            " [0.18225998 0.16847079]\n",
            " [0.41318514 0.5231156 ]\n",
            " [0.18225998 0.16847079]\n",
            " [0.18225998 0.16847079]\n",
            " [0.41318514 0.5231156 ]\n",
            " [0.41318514 0.5231156 ]\n",
            " [0.41318514 0.5231156 ]\n",
            " [0.41318514 0.5231156 ]\n",
            " [0.41318514 0.5231156 ]\n",
            " [0.7595158  0.87576784]\n",
            " [0.41318514 0.5231156 ]\n",
            " [0.41318514 0.5231156 ]\n",
            " [0.18225998 0.16847079]\n",
            " [0.41318514 0.5231156 ]\n",
            " [0.41318514 0.5231156 ]\n",
            " [0.7595158  0.87576784]\n",
            " [0.41318514 0.5231156 ]\n",
            " [0.41318514 0.5231156 ]\n",
            " [0.18225998 0.16847079]\n",
            " [0.41318514 0.5231156 ]\n",
            " [0.41318514 0.5231156 ]\n",
            " [0.41318514 0.5231156 ]\n",
            " [0.18225998 0.16847079]\n",
            " [0.7595153  0.87576768]\n",
            " [0.41318514 0.5231156 ]\n",
            " [0.7595158  0.87576784]\n",
            " [0.75951546 0.87576771]\n",
            " [0.7595158  0.87576783]\n",
            " [0.41318514 0.5231156 ]\n",
            " [0.41318514 0.5231156 ]\n",
            " [0.41318514 0.5231156 ]\n",
            " [0.18225998 0.16847079]\n",
            " [0.41318514 0.5231156 ]\n",
            " [0.18225998 0.16847079]\n",
            " [0.41318514 0.5231156 ]\n",
            " [0.41318514 0.5231156 ]\n",
            " [0.18225998 0.16847079]\n",
            " [0.41318514 0.5231156 ]\n",
            " [0.87371558 0.16077275]\n",
            " [0.41318514 0.5231156 ]\n",
            " [0.41318514 0.5231156 ]\n",
            " [0.18225998 0.16847079]\n",
            " [0.41318514 0.5231156 ]\n",
            " [0.18225998 0.16847079]\n",
            " [0.18225998 0.16847079]\n",
            " [0.75951545 0.87576771]\n",
            " [0.41318514 0.5231156 ]\n",
            " [0.41318514 0.5231156 ]\n",
            " [0.41318514 0.5231156 ]\n",
            " [0.41318514 0.5231156 ]\n",
            " [0.41318514 0.5231156 ]\n",
            " [0.18225998 0.16847079]\n",
            " [0.41318514 0.5231156 ]\n",
            " [0.41318514 0.5231156 ]\n",
            " [0.41318514 0.5231156 ]\n",
            " [0.41318514 0.5231156 ]\n",
            " [0.18225998 0.16847079]\n",
            " [0.41318514 0.5231156 ]\n",
            " [0.41318514 0.5231156 ]\n",
            " [0.18225998 0.16847079]\n",
            " [0.52233103 0.77636964]\n",
            " [0.41318514 0.5231156 ]\n",
            " [0.41318514 0.5231156 ]\n",
            " [0.18225998 0.16847079]\n",
            " [0.18225998 0.16847079]\n",
            " [0.41318514 0.5231156 ]\n",
            " [0.41318514 0.5231156 ]\n",
            " [0.9037954  0.17739716]\n",
            " [0.41318514 0.5231156 ]\n",
            " [0.18225998 0.16847079]\n",
            " [0.52235474 0.77638332]\n",
            " [0.18225998 0.16847079]\n",
            " [0.41318514 0.5231156 ]\n",
            " [0.18225998 0.16847079]\n",
            " [0.5223411  0.77638734]\n",
            " [0.41318514 0.5231156 ]\n",
            " [0.18225998 0.16847079]]\n"
          ]
        }
      ]
    },
    {
      "cell_type": "code",
      "source": [
        "Mostrar(W1_1, Dimensiones1)"
      ],
      "metadata": {
        "colab": {
          "base_uri": "https://localhost:8080/",
          "height": 513
        },
        "id": "7tQvV-eBmDLa",
        "outputId": "3adc3a7e-cd49-4a42-d089-781a57ced4ef"
      },
      "id": "7tQvV-eBmDLa",
      "execution_count": null,
      "outputs": [
        {
          "output_type": "display_data",
          "data": {
            "text/plain": [
              "<Figure size 432x288 with 2 Axes>"
            ],
            "image/png": "[encoded data removed]"
          },
          "metadata": {
            "needs_background": "light"
          }
        },
        {
          "output_type": "display_data",
          "data": {
            "text/plain": [
              "<Figure size 432x288 with 2 Axes>"
            ],
            "image/png": "[encoded data removed]"
          },
          "metadata": {
            "needs_background": "light"
          }
        }
      ]
    },
    {
      "cell_type": "markdown",
      "source": [
        "## B. Prueba 2"
      ],
      "metadata": {
        "id": "wKBg-vEnyoQL"
      },
      "id": "wKBg-vEnyoQL"
    },
    {
      "cell_type": "code",
      "source": [
        "W1_2 = Entrenar_Red_SOM(X1, 320, 0.6, 0.3, 0.4, 0.05, Dimensiones1)\n",
        "Mostrar(W1_2, Dimensiones1)"
      ],
      "metadata": {
        "colab": {
          "base_uri": "https://localhost:8080/",
          "height": 513
        },
        "id": "XZ_ifLYFvpmM",
        "outputId": "b8523351-1fbc-4a95-8510-ba22fd7faa78"
      },
      "id": "XZ_ifLYFvpmM",
      "execution_count": null,
      "outputs": [
        {
          "output_type": "display_data",
          "data": {
            "text/plain": [
              "<Figure size 432x288 with 2 Axes>"
            ],
            "image/png": "[encoded data removed]"
          },
          "metadata": {
            "needs_background": "light"
          }
        },
        {
          "output_type": "display_data",
          "data": {
            "text/plain": [
              "<Figure size 432x288 with 2 Axes>"
            ],
            "image/png": "[encoded data removed]"
          },
          "metadata": {
            "needs_background": "light"
          }
        }
      ]
    },
    {
      "cell_type": "markdown",
      "source": [
        "# 7. Prueba DataSet Cluster55"
      ],
      "metadata": {
        "id": "eLo6lLczuaDK"
      },
      "id": "eLo6lLczuaDK"
    },
    {
      "cell_type": "markdown",
      "source": [
        "## A. Prueba 1"
      ],
      "metadata": {
        "id": "hgTxdpUbwoAi"
      },
      "id": "hgTxdpUbwoAi"
    },
    {
      "cell_type": "code",
      "source": [
        "Dimensiones2 = [25,40]\n",
        "W2_1 = Entrenar_Red_SOM(X2, 2000, 0.6, 0.25, 0.27, 0.05, Dimensiones2)\n",
        "print(W2_1)"
      ],
      "metadata": {
        "colab": {
          "base_uri": "https://localhost:8080/"
        },
        "id": "AJ3vN8PCr2wC",
        "outputId": "7a2d08cc-bcb1-4d0f-a0ea-88e2293e6577"
      },
      "id": "AJ3vN8PCr2wC",
      "execution_count": null,
      "outputs": [
        {
          "output_type": "stream",
          "name": "stdout",
          "text": [
            "[[0.38620664 0.77814563 0.07776007]\n",
            " [0.68158315 0.82784818 0.3013033 ]\n",
            " [0.88898051 0.22617274 0.94726264]\n",
            " ...\n",
            " [0.38620664 0.77814563 0.07776007]\n",
            " [0.59980613 0.21715131 0.11749183]\n",
            " [0.8889805  0.22617272 0.94726262]]\n"
          ]
        }
      ]
    },
    {
      "cell_type": "code",
      "source": [
        "Mostrar(W2_1, Dimensiones2)"
      ],
      "metadata": {
        "colab": {
          "base_uri": "https://localhost:8080/",
          "height": 487
        },
        "id": "2-liTxuAsVOp",
        "outputId": "9cd1a5f9-791f-49f4-b7a0-53013b1dc912"
      },
      "id": "2-liTxuAsVOp",
      "execution_count": null,
      "outputs": [
        {
          "output_type": "display_data",
          "data": {
            "text/plain": [
              "<Figure size 432x288 with 2 Axes>"
            ],
            "image/png": "[encoded data removed]"
          },
          "metadata": {
            "needs_background": "light"
          }
        },
        {
          "output_type": "display_data",
          "data": {
            "text/plain": [
              "<Figure size 432x288 with 2 Axes>"
            ],
            "image/png": "[encoded data removed]"
          },
          "metadata": {
            "needs_background": "light"
          }
        }
      ]
    },
    {
      "cell_type": "markdown",
      "source": [
        "## B. Prueba 2"
      ],
      "metadata": {
        "id": "A9Ax-gPwo4TJ"
      },
      "id": "A9Ax-gPwo4TJ"
    },
    {
      "cell_type": "code",
      "source": [
        "W2_2 = Entrenar_Red_SOM(X2, 1500, 0.4, 0.14, 0.5, 0.1, Dimensiones2)\n",
        "Mostrar(W2_2, Dimensiones2)"
      ],
      "metadata": {
        "colab": {
          "base_uri": "https://localhost:8080/",
          "height": 479
        },
        "id": "6swlm_OWw45r",
        "outputId": "19a9d600-a775-47e8-c669-a4eca7f74617"
      },
      "id": "6swlm_OWw45r",
      "execution_count": null,
      "outputs": [
        {
          "output_type": "display_data",
          "data": {
            "text/plain": [
              "<Figure size 432x288 with 2 Axes>"
            ],
            "image/png": "[encoded data removed]"
          },
          "metadata": {
            "needs_background": "light"
          }
        },
        {
          "output_type": "display_data",
          "data": {
            "text/plain": [
              "<Figure size 432x288 with 2 Axes>"
            ],
            "image/png": "[encoded data removed]"
          },
          "metadata": {
            "needs_background": "light"
          }
        }
      ]
    }
  ],
  "metadata": {
    "kernelspec": {
      "display_name": "Python 3 (ipykernel)",
      "language": "python",
      "name": "python3"
    },
    "language_info": {
      "codemirror_mode": {
        "name": "ipython",
        "version": 3
      },
      "file_extension": ".py",
      "mimetype": "text/x-python",
      "name": "python",
      "nbconvert_exporter": "python",
      "pygments_lexer": "ipython3",
      "version": "3.9.12"
    },
    "colab": {
      "provenance": [],
      "include_colab_link": true
    },
    "gpuClass": "standard"
  },
  "nbformat": 4,
  "nbformat_minor": 5
}