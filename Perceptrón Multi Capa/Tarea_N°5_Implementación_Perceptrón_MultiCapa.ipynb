{
  "cells": [
    {
      "cell_type": "markdown",
      "metadata": {
        "id": "view-in-github",
        "colab_type": "text"
      },
      "source": [
        "<a href=\"https://colab.research.google.com/github/JamesKevinStar/ImplementacionesRedesNeuronales/blob/main/Perceptr%C3%B3n%20Multi%20Capa/Tarea_N%C2%B05_Implementaci%C3%B3n_Perceptr%C3%B3n_MultiCapa.ipynb\" target=\"_parent\"><img src=\"https://colab.research.google.com/assets/colab-badge.svg\" alt=\"Open In Colab\"/></a>"
      ]
    },
    {
      "cell_type": "markdown",
      "id": "971bd778",
      "metadata": {
        "id": "971bd778"
      },
      "source": [
        "# Implementación del Perceptrón Multicapa\n",
        "```\n",
        "Docente     : Luis Beltran Palma Ttito\n",
        "Alumnos     : James Kevin Estrella Vilca (182909) - Raísa Melina Peña Luque (182927)\n",
        "Lugar       : Cusco, Perú, 2022\n",
        "Universidad : Universidad Nacional de San Antonio Abad del Cusco\n",
        "```"
      ]
    },
    {
      "cell_type": "markdown",
      "id": "d4cfebc8",
      "metadata": {
        "id": "d4cfebc8"
      },
      "source": [
        "# 1. Importar Librerías"
      ]
    },
    {
      "cell_type": "code",
      "execution_count": null,
      "id": "0cf8dd28",
      "metadata": {
        "id": "0cf8dd28"
      },
      "outputs": [],
      "source": [
        "import matplotlib.pyplot as plt\n",
        "import scipy.stats as stats\n",
        "import seaborn as sns\n",
        "import pandas as pd\n",
        "import numpy as np\n",
        "import statistics\n",
        "import random\n",
        "import pylab\n",
        "\n",
        "from sklearn.model_selection import train_test_split\n",
        "from keras.utils.np_utils import to_categorical\n",
        "from sklearn.metrics import confusion_matrix\n",
        "from matplotlib import pylab\n",
        "\n",
        "%matplotlib inline"
      ]
    },
    {
      "cell_type": "markdown",
      "id": "86da172c",
      "metadata": {
        "id": "86da172c"
      },
      "source": [
        "# 2. Leer Datos"
      ]
    },
    {
      "cell_type": "code",
      "execution_count": null,
      "id": "01517dfc",
      "metadata": {
        "colab": {
          "base_uri": "https://localhost:8080/",
          "height": 206
        },
        "id": "01517dfc",
        "outputId": "e47b7681-fd68-4ed0-b816-297daea64e6b"
      },
      "outputs": [
        {
          "output_type": "execute_result",
          "data": {
            "text/plain": [
              "   Sepal.Length  Sepal.Width  Petal.Length  Petal.Width Species\n",
              "0           5.1          3.5           1.4          0.2  setosa\n",
              "1           4.9          3.0           1.4          0.2  setosa\n",
              "2           4.7          3.2           1.3          0.2  setosa\n",
              "3           4.6          3.1           1.5          0.2  setosa\n",
              "4           5.0          3.6           1.4          0.2  setosa"
            ],
            "text/html": [
              "\n",
              "  <div id=\"df-402c5110-5d21-482e-aa45-0883d7ce868f\">\n",
              "    <div class=\"colab-df-container\">\n",
              "      <div>\n",
              "<style scoped>\n",
              "    .dataframe tbody tr th:only-of-type {\n",
              "        vertical-align: middle;\n",
              "    }\n",
              "\n",
              "    .dataframe tbody tr th {\n",
              "        vertical-align: top;\n",
              "    }\n",
              "\n",
              "    .dataframe thead th {\n",
              "        text-align: right;\n",
              "    }\n",
              "</style>\n",
              "<table border=\"1\" class=\"dataframe\">\n",
              "  <thead>\n",
              "    <tr style=\"text-align: right;\">\n",
              "      <th></th>\n",
              "      <th>Sepal.Length</th>\n",
              "      <th>Sepal.Width</th>\n",
              "      <th>Petal.Length</th>\n",
              "      <th>Petal.Width</th>\n",
              "      <th>Species</th>\n",
              "    </tr>\n",
              "  </thead>\n",
              "  <tbody>\n",
              "    <tr>\n",
              "      <th>0</th>\n",
              "      <td>5.1</td>\n",
              "      <td>3.5</td>\n",
              "      <td>1.4</td>\n",
              "      <td>0.2</td>\n",
              "      <td>setosa</td>\n",
              "    </tr>\n",
              "    <tr>\n",
              "      <th>1</th>\n",
              "      <td>4.9</td>\n",
              "      <td>3.0</td>\n",
              "      <td>1.4</td>\n",
              "      <td>0.2</td>\n",
              "      <td>setosa</td>\n",
              "    </tr>\n",
              "    <tr>\n",
              "      <th>2</th>\n",
              "      <td>4.7</td>\n",
              "      <td>3.2</td>\n",
              "      <td>1.3</td>\n",
              "      <td>0.2</td>\n",
              "      <td>setosa</td>\n",
              "    </tr>\n",
              "    <tr>\n",
              "      <th>3</th>\n",
              "      <td>4.6</td>\n",
              "      <td>3.1</td>\n",
              "      <td>1.5</td>\n",
              "      <td>0.2</td>\n",
              "      <td>setosa</td>\n",
              "    </tr>\n",
              "    <tr>\n",
              "      <th>4</th>\n",
              "      <td>5.0</td>\n",
              "      <td>3.6</td>\n",
              "      <td>1.4</td>\n",
              "      <td>0.2</td>\n",
              "      <td>setosa</td>\n",
              "    </tr>\n",
              "  </tbody>\n",
              "</table>\n",
              "</div>\n",
              "      <button class=\"colab-df-convert\" onclick=\"convertToInteractive('df-402c5110-5d21-482e-aa45-0883d7ce868f')\"\n",
              "              title=\"Convert this dataframe to an interactive table.\"\n",
              "              style=\"display:none;\">\n",
              "        \n",
              "  <svg xmlns=\"http://www.w3.org/2000/svg\" height=\"24px\"viewBox=\"0 0 24 24\"\n",
              "       width=\"24px\">\n",
              "    <path d=\"M0 0h24v24H0V0z\" fill=\"none\"/>\n",
              "    <path d=\"M18.56 5.44l.94 2.06.94-2.06 2.06-.94-2.06-.94-.94-2.06-.94 2.06-2.06.94zm-11 1L8.5 8.5l.94-2.06 2.06-.94-2.06-.94L8.5 2.5l-.94 2.06-2.06.94zm10 10l.94 2.06.94-2.06 2.06-.94-2.06-.94-.94-2.06-.94 2.06-2.06.94z\"/><path d=\"M17.41 7.96l-1.37-1.37c-.4-.4-.92-.59-1.43-.59-.52 0-1.04.2-1.43.59L10.3 9.45l-7.72 7.72c-.78.78-.78 2.05 0 2.83L4 21.41c.39.39.9.59 1.41.59.51 0 1.02-.2 1.41-.59l7.78-7.78 2.81-2.81c.8-.78.8-2.07 0-2.86zM5.41 20L4 18.59l7.72-7.72 1.47 1.35L5.41 20z\"/>\n",
              "  </svg>\n",
              "      </button>\n",
              "      \n",
              "  <style>\n",
              "    .colab-df-container {\n",
              "      display:flex;\n",
              "      flex-wrap:wrap;\n",
              "      gap: 12px;\n",
              "    }\n",
              "\n",
              "    .colab-df-convert {\n",
              "      background-color: #E8F0FE;\n",
              "      border: none;\n",
              "      border-radius: 50%;\n",
              "      cursor: pointer;\n",
              "      display: none;\n",
              "      fill: #1967D2;\n",
              "      height: 32px;\n",
              "      padding: 0 0 0 0;\n",
              "      width: 32px;\n",
              "    }\n",
              "\n",
              "    .colab-df-convert:hover {\n",
              "      background-color: #E2EBFA;\n",
              "      box-shadow: 0px 1px 2px rgba(60, 64, 67, 0.3), 0px 1px 3px 1px rgba(60, 64, 67, 0.15);\n",
              "      fill: #174EA6;\n",
              "    }\n",
              "\n",
              "    [theme=dark] .colab-df-convert {\n",
              "      background-color: #3B4455;\n",
              "      fill: #D2E3FC;\n",
              "    }\n",
              "\n",
              "    [theme=dark] .colab-df-convert:hover {\n",
              "      background-color: #434B5C;\n",
              "      box-shadow: 0px 1px 3px 1px rgba(0, 0, 0, 0.15);\n",
              "      filter: drop-shadow(0px 1px 2px rgba(0, 0, 0, 0.3));\n",
              "      fill: #FFFFFF;\n",
              "    }\n",
              "  </style>\n",
              "\n",
              "      <script>\n",
              "        const buttonEl =\n",
              "          document.querySelector('#df-402c5110-5d21-482e-aa45-0883d7ce868f button.colab-df-convert');\n",
              "        buttonEl.style.display =\n",
              "          google.colab.kernel.accessAllowed ? 'block' : 'none';\n",
              "\n",
              "        async function convertToInteractive(key) {\n",
              "          const element = document.querySelector('#df-402c5110-5d21-482e-aa45-0883d7ce868f');\n",
              "          const dataTable =\n",
              "            await google.colab.kernel.invokeFunction('convertToInteractive',\n",
              "                                                     [key], {});\n",
              "          if (!dataTable) return;\n",
              "\n",
              "          const docLinkHtml = 'Like what you see? Visit the ' +\n",
              "            '<a target=\"_blank\" href=https://colab.research.google.com/notebooks/data_table.ipynb>data table notebook</a>'\n",
              "            + ' to learn more about interactive tables.';\n",
              "          element.innerHTML = '';\n",
              "          dataTable['output_type'] = 'display_data';\n",
              "          await google.colab.output.renderOutput(dataTable, element);\n",
              "          const docLink = document.createElement('div');\n",
              "          docLink.innerHTML = docLinkHtml;\n",
              "          element.appendChild(docLink);\n",
              "        }\n",
              "      </script>\n",
              "    </div>\n",
              "  </div>\n",
              "  "
            ]
          },
          "metadata": {},
          "execution_count": 459
        }
      ],
      "source": [
        "data = pd.read_csv(\"iris.csv\")\n",
        "data.head()"
      ]
    },
    {
      "cell_type": "markdown",
      "id": "f764cf20",
      "metadata": {
        "id": "f764cf20"
      },
      "source": [
        "# 3. Preparación de Datos"
      ]
    },
    {
      "cell_type": "markdown",
      "source": [
        "## A. Convertir Categórico a Numérico"
      ],
      "metadata": {
        "id": "n_gbR1fEVy7z"
      },
      "id": "n_gbR1fEVy7z"
    },
    {
      "cell_type": "code",
      "execution_count": null,
      "id": "cb10cbe0",
      "metadata": {
        "id": "cb10cbe0"
      },
      "outputs": [],
      "source": [
        "def Categórico_Numérico(datos):\n",
        "    datos = datos.astype(\"category\")\n",
        "    return datos.astype(\"category\").cat.codes"
      ]
    },
    {
      "cell_type": "code",
      "execution_count": null,
      "id": "de210385",
      "metadata": {
        "colab": {
          "base_uri": "https://localhost:8080/",
          "height": 206
        },
        "id": "de210385",
        "outputId": "c2317254-7f74-4f70-8065-fb9d6bc54e3f"
      },
      "outputs": [
        {
          "output_type": "execute_result",
          "data": {
            "text/plain": [
              "   Sepal.Length  Sepal.Width  Petal.Length  Petal.Width  Species\n",
              "0           5.1          3.5           1.4          0.2        0\n",
              "1           4.9          3.0           1.4          0.2        0\n",
              "2           4.7          3.2           1.3          0.2        0\n",
              "3           4.6          3.1           1.5          0.2        0\n",
              "4           5.0          3.6           1.4          0.2        0"
            ],
            "text/html": [
              "\n",
              "  <div id=\"df-26d68125-22e7-49d8-991f-d92431d57af3\">\n",
              "    <div class=\"colab-df-container\">\n",
              "      <div>\n",
              "<style scoped>\n",
              "    .dataframe tbody tr th:only-of-type {\n",
              "        vertical-align: middle;\n",
              "    }\n",
              "\n",
              "    .dataframe tbody tr th {\n",
              "        vertical-align: top;\n",
              "    }\n",
              "\n",
              "    .dataframe thead th {\n",
              "        text-align: right;\n",
              "    }\n",
              "</style>\n",
              "<table border=\"1\" class=\"dataframe\">\n",
              "  <thead>\n",
              "    <tr style=\"text-align: right;\">\n",
              "      <th></th>\n",
              "      <th>Sepal.Length</th>\n",
              "      <th>Sepal.Width</th>\n",
              "      <th>Petal.Length</th>\n",
              "      <th>Petal.Width</th>\n",
              "      <th>Species</th>\n",
              "    </tr>\n",
              "  </thead>\n",
              "  <tbody>\n",
              "    <tr>\n",
              "      <th>0</th>\n",
              "      <td>5.1</td>\n",
              "      <td>3.5</td>\n",
              "      <td>1.4</td>\n",
              "      <td>0.2</td>\n",
              "      <td>0</td>\n",
              "    </tr>\n",
              "    <tr>\n",
              "      <th>1</th>\n",
              "      <td>4.9</td>\n",
              "      <td>3.0</td>\n",
              "      <td>1.4</td>\n",
              "      <td>0.2</td>\n",
              "      <td>0</td>\n",
              "    </tr>\n",
              "    <tr>\n",
              "      <th>2</th>\n",
              "      <td>4.7</td>\n",
              "      <td>3.2</td>\n",
              "      <td>1.3</td>\n",
              "      <td>0.2</td>\n",
              "      <td>0</td>\n",
              "    </tr>\n",
              "    <tr>\n",
              "      <th>3</th>\n",
              "      <td>4.6</td>\n",
              "      <td>3.1</td>\n",
              "      <td>1.5</td>\n",
              "      <td>0.2</td>\n",
              "      <td>0</td>\n",
              "    </tr>\n",
              "    <tr>\n",
              "      <th>4</th>\n",
              "      <td>5.0</td>\n",
              "      <td>3.6</td>\n",
              "      <td>1.4</td>\n",
              "      <td>0.2</td>\n",
              "      <td>0</td>\n",
              "    </tr>\n",
              "  </tbody>\n",
              "</table>\n",
              "</div>\n",
              "      <button class=\"colab-df-convert\" onclick=\"convertToInteractive('df-26d68125-22e7-49d8-991f-d92431d57af3')\"\n",
              "              title=\"Convert this dataframe to an interactive table.\"\n",
              "              style=\"display:none;\">\n",
              "        \n",
              "  <svg xmlns=\"http://www.w3.org/2000/svg\" height=\"24px\"viewBox=\"0 0 24 24\"\n",
              "       width=\"24px\">\n",
              "    <path d=\"M0 0h24v24H0V0z\" fill=\"none\"/>\n",
              "    <path d=\"M18.56 5.44l.94 2.06.94-2.06 2.06-.94-2.06-.94-.94-2.06-.94 2.06-2.06.94zm-11 1L8.5 8.5l.94-2.06 2.06-.94-2.06-.94L8.5 2.5l-.94 2.06-2.06.94zm10 10l.94 2.06.94-2.06 2.06-.94-2.06-.94-.94-2.06-.94 2.06-2.06.94z\"/><path d=\"M17.41 7.96l-1.37-1.37c-.4-.4-.92-.59-1.43-.59-.52 0-1.04.2-1.43.59L10.3 9.45l-7.72 7.72c-.78.78-.78 2.05 0 2.83L4 21.41c.39.39.9.59 1.41.59.51 0 1.02-.2 1.41-.59l7.78-7.78 2.81-2.81c.8-.78.8-2.07 0-2.86zM5.41 20L4 18.59l7.72-7.72 1.47 1.35L5.41 20z\"/>\n",
              "  </svg>\n",
              "      </button>\n",
              "      \n",
              "  <style>\n",
              "    .colab-df-container {\n",
              "      display:flex;\n",
              "      flex-wrap:wrap;\n",
              "      gap: 12px;\n",
              "    }\n",
              "\n",
              "    .colab-df-convert {\n",
              "      background-color: #E8F0FE;\n",
              "      border: none;\n",
              "      border-radius: 50%;\n",
              "      cursor: pointer;\n",
              "      display: none;\n",
              "      fill: #1967D2;\n",
              "      height: 32px;\n",
              "      padding: 0 0 0 0;\n",
              "      width: 32px;\n",
              "    }\n",
              "\n",
              "    .colab-df-convert:hover {\n",
              "      background-color: #E2EBFA;\n",
              "      box-shadow: 0px 1px 2px rgba(60, 64, 67, 0.3), 0px 1px 3px 1px rgba(60, 64, 67, 0.15);\n",
              "      fill: #174EA6;\n",
              "    }\n",
              "\n",
              "    [theme=dark] .colab-df-convert {\n",
              "      background-color: #3B4455;\n",
              "      fill: #D2E3FC;\n",
              "    }\n",
              "\n",
              "    [theme=dark] .colab-df-convert:hover {\n",
              "      background-color: #434B5C;\n",
              "      box-shadow: 0px 1px 3px 1px rgba(0, 0, 0, 0.15);\n",
              "      filter: drop-shadow(0px 1px 2px rgba(0, 0, 0, 0.3));\n",
              "      fill: #FFFFFF;\n",
              "    }\n",
              "  </style>\n",
              "\n",
              "      <script>\n",
              "        const buttonEl =\n",
              "          document.querySelector('#df-26d68125-22e7-49d8-991f-d92431d57af3 button.colab-df-convert');\n",
              "        buttonEl.style.display =\n",
              "          google.colab.kernel.accessAllowed ? 'block' : 'none';\n",
              "\n",
              "        async function convertToInteractive(key) {\n",
              "          const element = document.querySelector('#df-26d68125-22e7-49d8-991f-d92431d57af3');\n",
              "          const dataTable =\n",
              "            await google.colab.kernel.invokeFunction('convertToInteractive',\n",
              "                                                     [key], {});\n",
              "          if (!dataTable) return;\n",
              "\n",
              "          const docLinkHtml = 'Like what you see? Visit the ' +\n",
              "            '<a target=\"_blank\" href=https://colab.research.google.com/notebooks/data_table.ipynb>data table notebook</a>'\n",
              "            + ' to learn more about interactive tables.';\n",
              "          element.innerHTML = '';\n",
              "          dataTable['output_type'] = 'display_data';\n",
              "          await google.colab.output.renderOutput(dataTable, element);\n",
              "          const docLink = document.createElement('div');\n",
              "          docLink.innerHTML = docLinkHtml;\n",
              "          element.appendChild(docLink);\n",
              "        }\n",
              "      </script>\n",
              "    </div>\n",
              "  </div>\n",
              "  "
            ]
          },
          "metadata": {},
          "execution_count": 461
        }
      ],
      "source": [
        "data.astype(\"category\")\n",
        "data['Species'] = Categórico_Numérico(data['Species'])\n",
        "data.head()"
      ]
    },
    {
      "cell_type": "markdown",
      "id": "dd7faa6c",
      "metadata": {
        "id": "dd7faa6c"
      },
      "source": [
        "## B. Normalización"
      ]
    },
    {
      "cell_type": "code",
      "execution_count": null,
      "id": "13b8af1f",
      "metadata": {
        "id": "13b8af1f"
      },
      "outputs": [],
      "source": [
        "def Normalización(datos):\n",
        "    return (datos - datos.min())/(datos.max() - datos.min())"
      ]
    },
    {
      "cell_type": "code",
      "execution_count": null,
      "id": "f0443e4a",
      "metadata": {
        "colab": {
          "base_uri": "https://localhost:8080/",
          "height": 206
        },
        "id": "f0443e4a",
        "outputId": "e2b281c1-f3a8-40b3-f032-8c10e374d40f"
      },
      "outputs": [
        {
          "output_type": "execute_result",
          "data": {
            "text/plain": [
              "   Sepal.Length  Sepal.Width  Petal.Length  Petal.Width  Species\n",
              "0      0.222222     0.625000      0.067797     0.041667        0\n",
              "1      0.166667     0.416667      0.067797     0.041667        0\n",
              "2      0.111111     0.500000      0.050847     0.041667        0\n",
              "3      0.083333     0.458333      0.084746     0.041667        0\n",
              "4      0.194444     0.666667      0.067797     0.041667        0"
            ],
            "text/html": [
              "\n",
              "  <div id=\"df-5c574584-556c-4d41-92f0-27ddac65e688\">\n",
              "    <div class=\"colab-df-container\">\n",
              "      <div>\n",
              "<style scoped>\n",
              "    .dataframe tbody tr th:only-of-type {\n",
              "        vertical-align: middle;\n",
              "    }\n",
              "\n",
              "    .dataframe tbody tr th {\n",
              "        vertical-align: top;\n",
              "    }\n",
              "\n",
              "    .dataframe thead th {\n",
              "        text-align: right;\n",
              "    }\n",
              "</style>\n",
              "<table border=\"1\" class=\"dataframe\">\n",
              "  <thead>\n",
              "    <tr style=\"text-align: right;\">\n",
              "      <th></th>\n",
              "      <th>Sepal.Length</th>\n",
              "      <th>Sepal.Width</th>\n",
              "      <th>Petal.Length</th>\n",
              "      <th>Petal.Width</th>\n",
              "      <th>Species</th>\n",
              "    </tr>\n",
              "  </thead>\n",
              "  <tbody>\n",
              "    <tr>\n",
              "      <th>0</th>\n",
              "      <td>0.222222</td>\n",
              "      <td>0.625000</td>\n",
              "      <td>0.067797</td>\n",
              "      <td>0.041667</td>\n",
              "      <td>0</td>\n",
              "    </tr>\n",
              "    <tr>\n",
              "      <th>1</th>\n",
              "      <td>0.166667</td>\n",
              "      <td>0.416667</td>\n",
              "      <td>0.067797</td>\n",
              "      <td>0.041667</td>\n",
              "      <td>0</td>\n",
              "    </tr>\n",
              "    <tr>\n",
              "      <th>2</th>\n",
              "      <td>0.111111</td>\n",
              "      <td>0.500000</td>\n",
              "      <td>0.050847</td>\n",
              "      <td>0.041667</td>\n",
              "      <td>0</td>\n",
              "    </tr>\n",
              "    <tr>\n",
              "      <th>3</th>\n",
              "      <td>0.083333</td>\n",
              "      <td>0.458333</td>\n",
              "      <td>0.084746</td>\n",
              "      <td>0.041667</td>\n",
              "      <td>0</td>\n",
              "    </tr>\n",
              "    <tr>\n",
              "      <th>4</th>\n",
              "      <td>0.194444</td>\n",
              "      <td>0.666667</td>\n",
              "      <td>0.067797</td>\n",
              "      <td>0.041667</td>\n",
              "      <td>0</td>\n",
              "    </tr>\n",
              "  </tbody>\n",
              "</table>\n",
              "</div>\n",
              "      <button class=\"colab-df-convert\" onclick=\"convertToInteractive('df-5c574584-556c-4d41-92f0-27ddac65e688')\"\n",
              "              title=\"Convert this dataframe to an interactive table.\"\n",
              "              style=\"display:none;\">\n",
              "        \n",
              "  <svg xmlns=\"http://www.w3.org/2000/svg\" height=\"24px\"viewBox=\"0 0 24 24\"\n",
              "       width=\"24px\">\n",
              "    <path d=\"M0 0h24v24H0V0z\" fill=\"none\"/>\n",
              "    <path d=\"M18.56 5.44l.94 2.06.94-2.06 2.06-.94-2.06-.94-.94-2.06-.94 2.06-2.06.94zm-11 1L8.5 8.5l.94-2.06 2.06-.94-2.06-.94L8.5 2.5l-.94 2.06-2.06.94zm10 10l.94 2.06.94-2.06 2.06-.94-2.06-.94-.94-2.06-.94 2.06-2.06.94z\"/><path d=\"M17.41 7.96l-1.37-1.37c-.4-.4-.92-.59-1.43-.59-.52 0-1.04.2-1.43.59L10.3 9.45l-7.72 7.72c-.78.78-.78 2.05 0 2.83L4 21.41c.39.39.9.59 1.41.59.51 0 1.02-.2 1.41-.59l7.78-7.78 2.81-2.81c.8-.78.8-2.07 0-2.86zM5.41 20L4 18.59l7.72-7.72 1.47 1.35L5.41 20z\"/>\n",
              "  </svg>\n",
              "      </button>\n",
              "      \n",
              "  <style>\n",
              "    .colab-df-container {\n",
              "      display:flex;\n",
              "      flex-wrap:wrap;\n",
              "      gap: 12px;\n",
              "    }\n",
              "\n",
              "    .colab-df-convert {\n",
              "      background-color: #E8F0FE;\n",
              "      border: none;\n",
              "      border-radius: 50%;\n",
              "      cursor: pointer;\n",
              "      display: none;\n",
              "      fill: #1967D2;\n",
              "      height: 32px;\n",
              "      padding: 0 0 0 0;\n",
              "      width: 32px;\n",
              "    }\n",
              "\n",
              "    .colab-df-convert:hover {\n",
              "      background-color: #E2EBFA;\n",
              "      box-shadow: 0px 1px 2px rgba(60, 64, 67, 0.3), 0px 1px 3px 1px rgba(60, 64, 67, 0.15);\n",
              "      fill: #174EA6;\n",
              "    }\n",
              "\n",
              "    [theme=dark] .colab-df-convert {\n",
              "      background-color: #3B4455;\n",
              "      fill: #D2E3FC;\n",
              "    }\n",
              "\n",
              "    [theme=dark] .colab-df-convert:hover {\n",
              "      background-color: #434B5C;\n",
              "      box-shadow: 0px 1px 3px 1px rgba(0, 0, 0, 0.15);\n",
              "      filter: drop-shadow(0px 1px 2px rgba(0, 0, 0, 0.3));\n",
              "      fill: #FFFFFF;\n",
              "    }\n",
              "  </style>\n",
              "\n",
              "      <script>\n",
              "        const buttonEl =\n",
              "          document.querySelector('#df-5c574584-556c-4d41-92f0-27ddac65e688 button.colab-df-convert');\n",
              "        buttonEl.style.display =\n",
              "          google.colab.kernel.accessAllowed ? 'block' : 'none';\n",
              "\n",
              "        async function convertToInteractive(key) {\n",
              "          const element = document.querySelector('#df-5c574584-556c-4d41-92f0-27ddac65e688');\n",
              "          const dataTable =\n",
              "            await google.colab.kernel.invokeFunction('convertToInteractive',\n",
              "                                                     [key], {});\n",
              "          if (!dataTable) return;\n",
              "\n",
              "          const docLinkHtml = 'Like what you see? Visit the ' +\n",
              "            '<a target=\"_blank\" href=https://colab.research.google.com/notebooks/data_table.ipynb>data table notebook</a>'\n",
              "            + ' to learn more about interactive tables.';\n",
              "          element.innerHTML = '';\n",
              "          dataTable['output_type'] = 'display_data';\n",
              "          await google.colab.output.renderOutput(dataTable, element);\n",
              "          const docLink = document.createElement('div');\n",
              "          docLink.innerHTML = docLinkHtml;\n",
              "          element.appendChild(docLink);\n",
              "        }\n",
              "      </script>\n",
              "    </div>\n",
              "  </div>\n",
              "  "
            ]
          },
          "metadata": {},
          "execution_count": 463
        }
      ],
      "source": [
        "data.loc[:,[\"Sepal.Length\",\"Sepal.Width\",\"Petal.Length\",\"Petal.Width\"]] = Normalización(data.loc[:,[\"Sepal.Length\",\"Sepal.Width\",\"Petal.Length\",\"Petal.Width\"]])\n",
        "data.head()"
      ]
    },
    {
      "cell_type": "markdown",
      "id": "a9d3ebc0",
      "metadata": {
        "id": "a9d3ebc0"
      },
      "source": [
        "# 4. Separación de Datos de Test - Train"
      ]
    },
    {
      "cell_type": "code",
      "execution_count": null,
      "id": "32febe60",
      "metadata": {
        "id": "32febe60"
      },
      "outputs": [],
      "source": [
        "def Separar_Datos(Data, Categoría, Proporción, Semilla):\n",
        "    X = Data.drop([Categoría],axis=1).values\n",
        "    Y = Data[Categoría].values\n",
        "    Dif = len(set(Y))\n",
        "    Clases = to_categorical(Y.tolist(), Dif)\n",
        "    Clases_Dif = []\n",
        "    for i in range(len(Clases)):\n",
        "        if len(Clases_Dif) == 0:\n",
        "            Clases_Dif.append(Clases[i].tolist())\n",
        "        else:\n",
        "            if Clases[i].tolist() not in Clases_Dif:\n",
        "                Clases_Dif.append(Clases[i].tolist())\n",
        "    Train_Data_X, Test_Data_X, Train_Data_Y, Test_Data_Y = train_test_split(X, Y, test_size=Proporción, random_state=Semilla)\n",
        "    return Train_Data_X, Train_Data_Y, Test_Data_X, Test_Data_Y, Dif, Clases_Dif"
      ]
    },
    {
      "cell_type": "code",
      "execution_count": null,
      "id": "6ac4cf1a",
      "metadata": {
        "id": "6ac4cf1a"
      },
      "outputs": [],
      "source": [
        "Train_Data_X, Train_Data_Y, Test_Data_X, Test_Data_Y, Valores_Diferentes, Clases = Separar_Datos(data, \"Species\", 0.1, 20000901)"
      ]
    },
    {
      "cell_type": "code",
      "execution_count": null,
      "id": "297fc4a5",
      "metadata": {
        "scrolled": true,
        "colab": {
          "base_uri": "https://localhost:8080/"
        },
        "id": "297fc4a5",
        "outputId": "19e9a376-a88f-45b6-c256-b8ee7cfa8965"
      },
      "outputs": [
        {
          "output_type": "stream",
          "name": "stdout",
          "text": [
            "[[1.0, 0.0, 0.0], [0.0, 1.0, 0.0], [0.0, 0.0, 1.0]]\n"
          ]
        }
      ],
      "source": [
        "print(Clases)"
      ]
    },
    {
      "cell_type": "code",
      "source": [
        "def Ordenar_Clases(Clases):\n",
        "    Clases = sorted(Clases, key=lambda x: x.index(1.0))\n",
        "    return Clases"
      ],
      "metadata": {
        "id": "knRIvghvUFGj"
      },
      "id": "knRIvghvUFGj",
      "execution_count": null,
      "outputs": []
    },
    {
      "cell_type": "code",
      "source": [
        "Clases = Ordenar_Clases(Clases)\n",
        "print(Clases)"
      ],
      "metadata": {
        "colab": {
          "base_uri": "https://localhost:8080/"
        },
        "id": "zLHqKDrtUPtO",
        "outputId": "560f462c-9eb1-490b-bce9-c6aba07b0224"
      },
      "id": "zLHqKDrtUPtO",
      "execution_count": null,
      "outputs": [
        {
          "output_type": "stream",
          "name": "stdout",
          "text": [
            "[[1.0, 0.0, 0.0], [0.0, 1.0, 0.0], [0.0, 0.0, 1.0]]\n"
          ]
        }
      ]
    },
    {
      "cell_type": "code",
      "execution_count": null,
      "id": "748bc9d3",
      "metadata": {
        "colab": {
          "base_uri": "https://localhost:8080/"
        },
        "id": "748bc9d3",
        "outputId": "adb528dd-88fb-44ee-f545-7f096e1974f4"
      },
      "outputs": [
        {
          "output_type": "execute_result",
          "data": {
            "text/plain": [
              "array([[0.47222222, 0.41666667, 0.6440678 , 0.70833333],\n",
              "       [0.30555556, 0.70833333, 0.08474576, 0.04166667],\n",
              "       [0.94444444, 0.25      , 1.        , 0.91666667],\n",
              "       [0.22222222, 0.70833333, 0.08474576, 0.125     ],\n",
              "       [0.44444444, 0.41666667, 0.54237288, 0.58333333],\n",
              "       [0.05555556, 0.125     , 0.05084746, 0.08333333],\n",
              "       [0.55555556, 0.33333333, 0.69491525, 0.58333333],\n",
              "       [0.16666667, 0.45833333, 0.08474576, 0.04166667],\n",
              "       [0.72222222, 0.45833333, 0.66101695, 0.58333333],\n",
              "       [0.69444444, 0.41666667, 0.76271186, 0.83333333],\n",
              "       [0.22222222, 0.625     , 0.06779661, 0.04166667],\n",
              "       [0.47222222, 0.08333333, 0.6779661 , 0.58333333],\n",
              "       [0.41666667, 0.33333333, 0.69491525, 0.95833333],\n",
              "       [0.80555556, 0.41666667, 0.81355932, 0.625     ],\n",
              "       [0.61111111, 0.33333333, 0.61016949, 0.58333333],\n",
              "       [0.52777778, 0.375     , 0.55932203, 0.5       ],\n",
              "       [0.13888889, 0.58333333, 0.15254237, 0.04166667],\n",
              "       [0.58333333, 0.29166667, 0.72881356, 0.75      ],\n",
              "       [0.5       , 0.33333333, 0.50847458, 0.5       ],\n",
              "       [0.58333333, 0.33333333, 0.77966102, 0.83333333],\n",
              "       [0.38888889, 0.33333333, 0.59322034, 0.5       ],\n",
              "       [0.22222222, 0.75      , 0.10169492, 0.04166667],\n",
              "       [0.08333333, 0.5       , 0.06779661, 0.04166667],\n",
              "       [0.30555556, 0.41666667, 0.59322034, 0.58333333],\n",
              "       [0.25      , 0.875     , 0.08474576, 0.        ],\n",
              "       [0.33333333, 0.25      , 0.57627119, 0.45833333],\n",
              "       [0.66666667, 0.45833333, 0.57627119, 0.54166667],\n",
              "       [0.72222222, 0.45833333, 0.69491525, 0.91666667],\n",
              "       [0.16666667, 0.41666667, 0.06779661, 0.04166667],\n",
              "       [0.66666667, 0.54166667, 0.79661017, 1.        ],\n",
              "       [0.58333333, 0.5       , 0.59322034, 0.58333333],\n",
              "       [0.19444444, 0.625     , 0.10169492, 0.20833333],\n",
              "       [0.58333333, 0.5       , 0.72881356, 0.91666667],\n",
              "       [0.22222222, 0.54166667, 0.11864407, 0.16666667],\n",
              "       [0.30555556, 0.58333333, 0.08474576, 0.125     ],\n",
              "       [0.11111111, 0.5       , 0.05084746, 0.04166667],\n",
              "       [0.55555556, 0.375     , 0.77966102, 0.70833333],\n",
              "       [0.38888889, 1.        , 0.08474576, 0.125     ],\n",
              "       [0.47222222, 0.08333333, 0.50847458, 0.375     ],\n",
              "       [0.33333333, 0.20833333, 0.50847458, 0.5       ],\n",
              "       [0.41666667, 0.83333333, 0.03389831, 0.04166667],\n",
              "       [0.5       , 0.41666667, 0.61016949, 0.54166667],\n",
              "       [0.58333333, 0.45833333, 0.76271186, 0.70833333],\n",
              "       [0.02777778, 0.375     , 0.06779661, 0.04166667],\n",
              "       [0.19444444, 0.41666667, 0.10169492, 0.04166667],\n",
              "       [0.25      , 0.29166667, 0.49152542, 0.54166667],\n",
              "       [0.30555556, 0.79166667, 0.05084746, 0.125     ],\n",
              "       [0.66666667, 0.45833333, 0.62711864, 0.58333333],\n",
              "       [0.36111111, 0.20833333, 0.49152542, 0.41666667],\n",
              "       [0.41666667, 0.29166667, 0.49152542, 0.45833333],\n",
              "       [0.38888889, 0.25      , 0.42372881, 0.375     ],\n",
              "       [0.77777778, 0.41666667, 0.83050847, 0.83333333],\n",
              "       [0.94444444, 0.75      , 0.96610169, 0.875     ],\n",
              "       [0.66666667, 0.41666667, 0.71186441, 0.91666667],\n",
              "       [0.55555556, 0.125     , 0.57627119, 0.5       ],\n",
              "       [0.66666667, 0.20833333, 0.81355932, 0.70833333],\n",
              "       [0.19444444, 0.625     , 0.05084746, 0.08333333],\n",
              "       [0.5       , 0.41666667, 0.66101695, 0.70833333],\n",
              "       [0.5       , 0.375     , 0.62711864, 0.54166667],\n",
              "       [0.41666667, 0.25      , 0.50847458, 0.45833333],\n",
              "       [0.75      , 0.5       , 0.62711864, 0.54166667],\n",
              "       [0.13888889, 0.45833333, 0.10169492, 0.04166667],\n",
              "       [0.30555556, 0.58333333, 0.11864407, 0.04166667],\n",
              "       [0.02777778, 0.41666667, 0.05084746, 0.04166667],\n",
              "       [0.61111111, 0.41666667, 0.76271186, 0.70833333],\n",
              "       [0.36111111, 0.375     , 0.44067797, 0.5       ],\n",
              "       [0.16666667, 0.45833333, 0.08474576, 0.        ],\n",
              "       [0.36111111, 0.29166667, 0.54237288, 0.5       ],\n",
              "       [0.22222222, 0.75      , 0.08474576, 0.08333333],\n",
              "       [0.5       , 0.25      , 0.77966102, 0.54166667],\n",
              "       [0.13888889, 0.41666667, 0.06779661, 0.        ],\n",
              "       [0.38888889, 0.33333333, 0.52542373, 0.5       ],\n",
              "       [0.80555556, 0.66666667, 0.86440678, 1.        ],\n",
              "       [0.19444444, 0.54166667, 0.06779661, 0.04166667],\n",
              "       [0.83333333, 0.375     , 0.89830508, 0.70833333],\n",
              "       [0.33333333, 0.625     , 0.05084746, 0.04166667],\n",
              "       [0.19444444, 0.        , 0.42372881, 0.375     ],\n",
              "       [0.52777778, 0.58333333, 0.74576271, 0.91666667],\n",
              "       [0.19444444, 0.125     , 0.38983051, 0.375     ],\n",
              "       [0.08333333, 0.45833333, 0.08474576, 0.04166667],\n",
              "       [0.72222222, 0.45833333, 0.74576271, 0.83333333],\n",
              "       [1.        , 0.75      , 0.91525424, 0.79166667],\n",
              "       [0.25      , 0.58333333, 0.06779661, 0.04166667],\n",
              "       [0.61111111, 0.5       , 0.69491525, 0.79166667],\n",
              "       [0.13888889, 0.41666667, 0.06779661, 0.08333333],\n",
              "       [0.66666667, 0.41666667, 0.6779661 , 0.66666667],\n",
              "       [0.19444444, 0.5       , 0.03389831, 0.04166667],\n",
              "       [0.61111111, 0.41666667, 0.71186441, 0.79166667],\n",
              "       [0.55555556, 0.54166667, 0.62711864, 0.625     ],\n",
              "       [0.47222222, 0.29166667, 0.69491525, 0.625     ],\n",
              "       [0.69444444, 0.33333333, 0.6440678 , 0.54166667],\n",
              "       [0.16666667, 0.20833333, 0.59322034, 0.66666667],\n",
              "       [0.55555556, 0.20833333, 0.6779661 , 0.75      ],\n",
              "       [0.66666667, 0.45833333, 0.77966102, 0.95833333],\n",
              "       [0.08333333, 0.58333333, 0.06779661, 0.08333333],\n",
              "       [0.63888889, 0.375     , 0.61016949, 0.5       ],\n",
              "       [0.41666667, 0.29166667, 0.69491525, 0.75      ],\n",
              "       [0.52777778, 0.33333333, 0.6440678 , 0.70833333],\n",
              "       [0.61111111, 0.41666667, 0.81355932, 0.875     ],\n",
              "       [0.36111111, 0.33333333, 0.66101695, 0.79166667],\n",
              "       [0.36111111, 0.41666667, 0.59322034, 0.58333333],\n",
              "       [0.66666667, 0.54166667, 0.79661017, 0.83333333],\n",
              "       [0.22222222, 0.58333333, 0.08474576, 0.04166667],\n",
              "       [0.22222222, 0.625     , 0.06779661, 0.08333333],\n",
              "       [0.30555556, 0.79166667, 0.11864407, 0.125     ],\n",
              "       [0.91666667, 0.41666667, 0.94915254, 0.83333333],\n",
              "       [0.69444444, 0.5       , 0.83050847, 0.91666667],\n",
              "       [0.02777778, 0.5       , 0.05084746, 0.04166667],\n",
              "       [0.63888889, 0.41666667, 0.57627119, 0.54166667],\n",
              "       [0.        , 0.41666667, 0.01694915, 0.        ],\n",
              "       [0.44444444, 0.5       , 0.6440678 , 0.70833333],\n",
              "       [0.47222222, 0.375     , 0.59322034, 0.58333333],\n",
              "       [0.55555556, 0.58333333, 0.77966102, 0.95833333],\n",
              "       [0.22222222, 0.75      , 0.15254237, 0.125     ],\n",
              "       [0.86111111, 0.33333333, 0.86440678, 0.75      ],\n",
              "       [0.41666667, 0.29166667, 0.69491525, 0.75      ],\n",
              "       [0.38888889, 0.20833333, 0.6779661 , 0.79166667],\n",
              "       [0.36111111, 0.41666667, 0.52542373, 0.5       ],\n",
              "       [0.80555556, 0.5       , 0.84745763, 0.70833333],\n",
              "       [0.58333333, 0.375     , 0.55932203, 0.5       ],\n",
              "       [0.94444444, 0.33333333, 0.96610169, 0.79166667],\n",
              "       [0.16666667, 0.66666667, 0.06779661, 0.        ],\n",
              "       [0.55555556, 0.29166667, 0.66101695, 0.70833333],\n",
              "       [0.33333333, 0.91666667, 0.06779661, 0.04166667],\n",
              "       [0.94444444, 0.41666667, 0.86440678, 0.91666667],\n",
              "       [0.27777778, 0.70833333, 0.08474576, 0.04166667],\n",
              "       [0.33333333, 0.16666667, 0.45762712, 0.375     ],\n",
              "       [0.19444444, 0.58333333, 0.10169492, 0.125     ],\n",
              "       [0.41666667, 0.29166667, 0.52542373, 0.375     ],\n",
              "       [0.44444444, 0.41666667, 0.69491525, 0.70833333],\n",
              "       [0.33333333, 0.125     , 0.50847458, 0.5       ],\n",
              "       [0.55555556, 0.20833333, 0.66101695, 0.58333333],\n",
              "       [0.16666667, 0.16666667, 0.38983051, 0.375     ],\n",
              "       [0.11111111, 0.5       , 0.10169492, 0.04166667],\n",
              "       [0.38888889, 0.41666667, 0.54237288, 0.45833333]])"
            ]
          },
          "metadata": {},
          "execution_count": 469
        }
      ],
      "source": [
        "Train_Data_X"
      ]
    },
    {
      "cell_type": "code",
      "execution_count": null,
      "id": "30263d7b",
      "metadata": {
        "colab": {
          "base_uri": "https://localhost:8080/"
        },
        "id": "30263d7b",
        "outputId": "fd8e57a6-5fe9-4d52-9d04-84e7277be302"
      },
      "outputs": [
        {
          "output_type": "execute_result",
          "data": {
            "text/plain": [
              "array([2, 0, 2, 0, 1, 0, 2, 0, 1, 2, 0, 2, 2, 2, 1, 1, 0, 2, 1, 2, 1, 0,\n",
              "       0, 1, 0, 1, 1, 2, 0, 2, 1, 0, 2, 0, 0, 0, 2, 0, 1, 1, 0, 1, 2, 0,\n",
              "       0, 1, 0, 1, 1, 1, 1, 2, 2, 2, 1, 2, 0, 2, 1, 1, 1, 0, 0, 0, 2, 1,\n",
              "       0, 1, 0, 2, 0, 1, 2, 0, 2, 0, 1, 2, 1, 0, 2, 2, 0, 2, 0, 1, 0, 2,\n",
              "       1, 1, 1, 2, 2, 2, 0, 1, 2, 2, 2, 2, 1, 2, 0, 0, 0, 2, 2, 0, 1, 0,\n",
              "       1, 1, 2, 0, 2, 2, 2, 1, 2, 1, 2, 0, 2, 0, 2, 0, 1, 0, 1, 2, 1, 1,\n",
              "       1, 0, 1], dtype=int8)"
            ]
          },
          "metadata": {},
          "execution_count": 470
        }
      ],
      "source": [
        "Train_Data_Y"
      ]
    },
    {
      "cell_type": "markdown",
      "source": [
        "# 5. Conversión del Atributo de Salida en Binario"
      ],
      "metadata": {
        "id": "BmKTahbjWsqc"
      },
      "id": "BmKTahbjWsqc"
    },
    {
      "cell_type": "code",
      "execution_count": null,
      "id": "50912a02",
      "metadata": {
        "colab": {
          "base_uri": "https://localhost:8080/"
        },
        "id": "50912a02",
        "outputId": "85e07b8c-1260-4343-c6ad-a9979d83f10c"
      },
      "outputs": [
        {
          "output_type": "stream",
          "name": "stdout",
          "text": [
            "[[0. 0. 1.]\n",
            " [1. 0. 0.]\n",
            " [0. 0. 1.]\n",
            " [1. 0. 0.]\n",
            " [0. 1. 0.]\n",
            " [1. 0. 0.]\n",
            " [0. 0. 1.]\n",
            " [1. 0. 0.]\n",
            " [0. 1. 0.]\n",
            " [0. 0. 1.]\n",
            " [1. 0. 0.]\n",
            " [0. 0. 1.]\n",
            " [0. 0. 1.]\n",
            " [0. 0. 1.]\n",
            " [0. 1. 0.]\n",
            " [0. 1. 0.]\n",
            " [1. 0. 0.]\n",
            " [0. 0. 1.]\n",
            " [0. 1. 0.]\n",
            " [0. 0. 1.]\n",
            " [0. 1. 0.]\n",
            " [1. 0. 0.]\n",
            " [1. 0. 0.]\n",
            " [0. 1. 0.]\n",
            " [1. 0. 0.]\n",
            " [0. 1. 0.]\n",
            " [0. 1. 0.]\n",
            " [0. 0. 1.]\n",
            " [1. 0. 0.]\n",
            " [0. 0. 1.]\n",
            " [0. 1. 0.]\n",
            " [1. 0. 0.]\n",
            " [0. 0. 1.]\n",
            " [1. 0. 0.]\n",
            " [1. 0. 0.]\n",
            " [1. 0. 0.]\n",
            " [0. 0. 1.]\n",
            " [1. 0. 0.]\n",
            " [0. 1. 0.]\n",
            " [0. 1. 0.]\n",
            " [1. 0. 0.]\n",
            " [0. 1. 0.]\n",
            " [0. 0. 1.]\n",
            " [1. 0. 0.]\n",
            " [1. 0. 0.]\n",
            " [0. 1. 0.]\n",
            " [1. 0. 0.]\n",
            " [0. 1. 0.]\n",
            " [0. 1. 0.]\n",
            " [0. 1. 0.]\n",
            " [0. 1. 0.]\n",
            " [0. 0. 1.]\n",
            " [0. 0. 1.]\n",
            " [0. 0. 1.]\n",
            " [0. 1. 0.]\n",
            " [0. 0. 1.]\n",
            " [1. 0. 0.]\n",
            " [0. 0. 1.]\n",
            " [0. 1. 0.]\n",
            " [0. 1. 0.]\n",
            " [0. 1. 0.]\n",
            " [1. 0. 0.]\n",
            " [1. 0. 0.]\n",
            " [1. 0. 0.]\n",
            " [0. 0. 1.]\n",
            " [0. 1. 0.]\n",
            " [1. 0. 0.]\n",
            " [0. 1. 0.]\n",
            " [1. 0. 0.]\n",
            " [0. 0. 1.]\n",
            " [1. 0. 0.]\n",
            " [0. 1. 0.]\n",
            " [0. 0. 1.]\n",
            " [1. 0. 0.]\n",
            " [0. 0. 1.]\n",
            " [1. 0. 0.]\n",
            " [0. 1. 0.]\n",
            " [0. 0. 1.]\n",
            " [0. 1. 0.]\n",
            " [1. 0. 0.]\n",
            " [0. 0. 1.]\n",
            " [0. 0. 1.]\n",
            " [1. 0. 0.]\n",
            " [0. 0. 1.]\n",
            " [1. 0. 0.]\n",
            " [0. 1. 0.]\n",
            " [1. 0. 0.]\n",
            " [0. 0. 1.]\n",
            " [0. 1. 0.]\n",
            " [0. 1. 0.]\n",
            " [0. 1. 0.]\n",
            " [0. 0. 1.]\n",
            " [0. 0. 1.]\n",
            " [0. 0. 1.]\n",
            " [1. 0. 0.]\n",
            " [0. 1. 0.]\n",
            " [0. 0. 1.]\n",
            " [0. 0. 1.]\n",
            " [0. 0. 1.]\n",
            " [0. 0. 1.]\n",
            " [0. 1. 0.]\n",
            " [0. 0. 1.]\n",
            " [1. 0. 0.]\n",
            " [1. 0. 0.]\n",
            " [1. 0. 0.]\n",
            " [0. 0. 1.]\n",
            " [0. 0. 1.]\n",
            " [1. 0. 0.]\n",
            " [0. 1. 0.]\n",
            " [1. 0. 0.]\n",
            " [0. 1. 0.]\n",
            " [0. 1. 0.]\n",
            " [0. 0. 1.]\n",
            " [1. 0. 0.]\n",
            " [0. 0. 1.]\n",
            " [0. 0. 1.]\n",
            " [0. 0. 1.]\n",
            " [0. 1. 0.]\n",
            " [0. 0. 1.]\n",
            " [0. 1. 0.]\n",
            " [0. 0. 1.]\n",
            " [1. 0. 0.]\n",
            " [0. 0. 1.]\n",
            " [1. 0. 0.]\n",
            " [0. 0. 1.]\n",
            " [1. 0. 0.]\n",
            " [0. 1. 0.]\n",
            " [1. 0. 0.]\n",
            " [0. 1. 0.]\n",
            " [0. 0. 1.]\n",
            " [0. 1. 0.]\n",
            " [0. 1. 0.]\n",
            " [0. 1. 0.]\n",
            " [1. 0. 0.]\n",
            " [0. 1. 0.]]\n"
          ]
        }
      ],
      "source": [
        "Train_Data_Y = to_categorical(Train_Data_Y, Valores_Diferentes)\n",
        "print(Train_Data_Y)"
      ]
    },
    {
      "cell_type": "code",
      "execution_count": null,
      "id": "8fbba330",
      "metadata": {
        "colab": {
          "base_uri": "https://localhost:8080/"
        },
        "id": "8fbba330",
        "outputId": "5989d006-7560-4443-ffa7-43aa21de62e9"
      },
      "outputs": [
        {
          "output_type": "execute_result",
          "data": {
            "text/plain": [
              "array([0, 1, 0, 2, 0, 1, 0, 1, 0, 2, 1, 1, 2, 1, 0], dtype=int8)"
            ]
          },
          "metadata": {},
          "execution_count": 472
        }
      ],
      "source": [
        "Test_Data_Y"
      ]
    },
    {
      "cell_type": "code",
      "execution_count": null,
      "id": "c29d5294",
      "metadata": {
        "colab": {
          "base_uri": "https://localhost:8080/"
        },
        "id": "c29d5294",
        "outputId": "3c8e3b6a-7b98-4bdb-88b5-93c75f408ddc"
      },
      "outputs": [
        {
          "output_type": "stream",
          "name": "stdout",
          "text": [
            "[[1. 0. 0.]\n",
            " [0. 1. 0.]\n",
            " [1. 0. 0.]\n",
            " [0. 0. 1.]\n",
            " [1. 0. 0.]\n",
            " [0. 1. 0.]\n",
            " [1. 0. 0.]\n",
            " [0. 1. 0.]\n",
            " [1. 0. 0.]\n",
            " [0. 0. 1.]\n",
            " [0. 1. 0.]\n",
            " [0. 1. 0.]\n",
            " [0. 0. 1.]\n",
            " [0. 1. 0.]\n",
            " [1. 0. 0.]]\n"
          ]
        }
      ],
      "source": [
        "Test_Data_Y = to_categorical(Test_Data_Y, Valores_Diferentes)\n",
        "print(Test_Data_Y)"
      ]
    },
    {
      "cell_type": "markdown",
      "id": "bcd2ff56",
      "metadata": {
        "id": "bcd2ff56"
      },
      "source": [
        "# 6. Implementación del Perceptrón Multicapa"
      ]
    },
    {
      "cell_type": "markdown",
      "id": "1c4d2bee",
      "metadata": {
        "id": "1c4d2bee"
      },
      "source": [
        "## A. Función de Activación"
      ]
    },
    {
      "cell_type": "code",
      "execution_count": null,
      "id": "82727982",
      "metadata": {
        "id": "82727982"
      },
      "outputs": [],
      "source": [
        "def Función_Activación_Sigmoide(X):\n",
        "    return 1/(1+np.exp(X*-1))"
      ]
    },
    {
      "cell_type": "markdown",
      "id": "1c017326",
      "metadata": {
        "id": "1c017326"
      },
      "source": [
        "## B. Función para Generar Pesos y Sesgo"
      ]
    },
    {
      "cell_type": "code",
      "execution_count": null,
      "id": "d0ddaca7",
      "metadata": {
        "id": "d0ddaca7"
      },
      "outputs": [],
      "source": [
        "def Generar_Pesos_Sesgo(Capas):\n",
        "    W = []\n",
        "    for k in range(len(Capas)-1):\n",
        "        SW = [[random.uniform(-1,1) for i in range(Capas[k+1])] for j in range(Capas[k]+1)]\n",
        "        W.append(SW)\n",
        "    return W"
      ]
    },
    {
      "cell_type": "markdown",
      "id": "5a378514",
      "metadata": {
        "id": "5a378514"
      },
      "source": [
        "## C. Escoger par Aleatorio"
      ]
    },
    {
      "cell_type": "code",
      "execution_count": null,
      "id": "2eac69ef",
      "metadata": {
        "id": "2eac69ef"
      },
      "outputs": [],
      "source": [
        "def Seleccionar_Par_Aleatorio(X, Y):\n",
        "    value = random.randint(0,len(X)-1)\n",
        "    X_Prueba = X[value]\n",
        "    Y_Prueba = Y[value]\n",
        "    return X_Prueba, Y_Prueba"
      ]
    },
    {
      "cell_type": "markdown",
      "id": "55f3ce32",
      "metadata": {
        "id": "55f3ce32"
      },
      "source": [
        "## D. Calcular Producto Punto"
      ]
    },
    {
      "cell_type": "code",
      "execution_count": null,
      "id": "1f70b699",
      "metadata": {
        "id": "1f70b699"
      },
      "outputs": [],
      "source": [
        "def Calcular_Producto_Punto(X,W):\n",
        "    Value = 0\n",
        "    for i in range(len(W)-1):\n",
        "        Value = X[i]*W[i] + Value\n",
        "    return Value + W[len(W)-1]"
      ]
    },
    {
      "cell_type": "markdown",
      "source": [
        "## E. Propagación hacia Adelante"
      ],
      "metadata": {
        "id": "p3hbLkvi8H45"
      },
      "id": "p3hbLkvi8H45"
    },
    {
      "cell_type": "code",
      "execution_count": null,
      "id": "130def3b",
      "metadata": {
        "id": "130def3b"
      },
      "outputs": [],
      "source": [
        "def Foward_Propagation(X,W,Capas):\n",
        "    Entradas_Originales = X\n",
        "    Salidas_Generales = []\n",
        "    for i in range(len(Capas)-1):\n",
        "        Salidas_Generales.append(Entradas_Originales)\n",
        "        Entradas_Nuevas = []\n",
        "        for j in range(Capas[i+1]):\n",
        "            P1 = [k for k in W[i]]\n",
        "            P2 = [k[j] for k in P1]\n",
        "            PP = Calcular_Producto_Punto(Entradas_Originales,P2)\n",
        "            Salida = Función_Activación_Sigmoide(PP)\n",
        "            Entradas_Nuevas.append(Salida)\n",
        "        Entradas_Originales = Entradas_Nuevas  \n",
        "    return Salidas_Generales, Entradas_Originales"
      ]
    },
    {
      "cell_type": "markdown",
      "id": "4eece1eb",
      "metadata": {
        "id": "4eece1eb"
      },
      "source": [
        "## F. Calcular Error Cuadrático Medio"
      ]
    },
    {
      "cell_type": "code",
      "execution_count": null,
      "id": "c20ed05f",
      "metadata": {
        "id": "c20ed05f"
      },
      "outputs": [],
      "source": [
        "def Error_Cuadrático(Valor_Obtenido, Valor_Deseado):\n",
        "    EC = 0\n",
        "    for i in range(len(Valor_Obtenido)):\n",
        "        EC = EC + (Valor_Deseado[i] - Valor_Obtenido[i])**2\n",
        "    return EC/(len(Valor_Obtenido)*2)"
      ]
    },
    {
      "cell_type": "markdown",
      "id": "66a8fb03",
      "metadata": {
        "id": "66a8fb03"
      },
      "source": [
        "## G. Calcular Gradiente"
      ]
    },
    {
      "cell_type": "code",
      "execution_count": null,
      "id": "4f9f65cc",
      "metadata": {
        "id": "4f9f65cc"
      },
      "outputs": [],
      "source": [
        "def Derivada_Sigmoide(Y):\n",
        "    return Y*(1-Y)"
      ]
    },
    {
      "cell_type": "code",
      "execution_count": null,
      "id": "1a576e61",
      "metadata": {
        "id": "1a576e61"
      },
      "outputs": [],
      "source": [
        "def Gradiente_Salida(D, Y):\n",
        "    return (D-Y)*Derivada_Sigmoide(Y)"
      ]
    },
    {
      "cell_type": "code",
      "execution_count": null,
      "id": "428a6dba",
      "metadata": {
        "id": "428a6dba"
      },
      "outputs": [],
      "source": [
        "def Gradiente_Proceso(Y, W, Sigmas_Anterior):\n",
        "    Sigmas = []\n",
        "    for i in range(len(W)-1):\n",
        "        Suma = 0\n",
        "        for j in range(len(Sigmas_Anterior)):\n",
        "            Suma = Suma + Sigmas_Anterior[j]*W[i][j]\n",
        "        Sigmas.append(Suma*Derivada_Sigmoide(Y[i]))\n",
        "    return Sigmas"
      ]
    },
    {
      "cell_type": "markdown",
      "source": [
        "## H. Actualizar Pesos y Biases"
      ],
      "metadata": {
        "id": "ls52FceM8eXI"
      },
      "id": "ls52FceM8eXI"
    },
    {
      "cell_type": "code",
      "execution_count": null,
      "id": "5eaa756c",
      "metadata": {
        "id": "5eaa756c"
      },
      "outputs": [],
      "source": [
        "def Actualizar_Pesos_y_Bías(W, Coef, Salidas, Gradientes):\n",
        "    for i in range(len(W[0])):\n",
        "        for j in range(len(W)):\n",
        "            if j != len(W)-1:\n",
        "                W[j][i] = W[j][i] + Coef*Gradientes[i]*Salidas[j]\n",
        "            else:\n",
        "                W[j][i] = W[j][i] + Coef*Gradientes[i]\n",
        "    return W"
      ]
    },
    {
      "cell_type": "markdown",
      "source": [
        "## I. Propagación hacia Atrás"
      ],
      "metadata": {
        "id": "_F15mKKf8lsQ"
      },
      "id": "_F15mKKf8lsQ"
    },
    {
      "cell_type": "code",
      "execution_count": null,
      "id": "cabbff77",
      "metadata": {
        "id": "cabbff77"
      },
      "outputs": [],
      "source": [
        "def Backward_Propagation(Capas, Salidas_G, Salidas_F, W, Coef_Apren, D):\n",
        "    Sigmas_Salidas = []\n",
        "    for i in range(len(D)):\n",
        "        Gradiente = Gradiente_Salida(D[i],Salidas_F[i])\n",
        "        Sigmas_Salidas.append(Gradiente) \n",
        "    for i in range(len(Capas)-1):\n",
        "        if i == 0:\n",
        "            W[len(Capas)-2-i] = Actualizar_Pesos_y_Bías(W[len(Capas)-2-i], Coef_Apren, Salidas_G[len(Capas)-2-i], Sigmas_Salidas)\n",
        "        else:\n",
        "            Sigmas_Salidas = Gradiente_Proceso(Salidas_G[len(Capas)-1-i],W[len(Capas)-1-i],Sigmas_Salidas)\n",
        "            W[len(Capas)-2-i] = Actualizar_Pesos_y_Bías(W[len(Capas)-2-i], Coef_Apren, Salidas_G[len(Capas)-2-i], Sigmas_Salidas)\n",
        "    return W"
      ]
    },
    {
      "cell_type": "markdown",
      "id": "724b560d",
      "metadata": {
        "id": "724b560d"
      },
      "source": [
        "# 7. Diseño de la Arquitectura"
      ]
    },
    {
      "cell_type": "code",
      "source": [
        "Capas = [4,6,5,3]"
      ],
      "metadata": {
        "id": "l_Vc5Gr4XnKL"
      },
      "id": "l_Vc5Gr4XnKL",
      "execution_count": null,
      "outputs": []
    },
    {
      "cell_type": "markdown",
      "source": [
        "# 8. Entrenar Perceptrón Multicapa"
      ],
      "metadata": {
        "id": "vBq99oEUVNHt"
      },
      "id": "vBq99oEUVNHt"
    },
    {
      "cell_type": "code",
      "execution_count": null,
      "id": "13ca5073",
      "metadata": {
        "id": "13ca5073"
      },
      "outputs": [],
      "source": [
        "def Entrenar_Perceptrón_Multicapa(Épocas, Coef_Aprendizaje, X, Y, Capas):\n",
        "    W = Generar_Pesos_Sesgo(Capas)\n",
        "    AX, AY = Seleccionar_Par_Aleatorio(X, Y)\n",
        "    SG, SF = Foward_Propagation(AX,W,Capas)\n",
        "    Error = Error_Cuadrático(SF,AY)\n",
        "    for i in range(Épocas):\n",
        "        for j in range(len(X)):\n",
        "            W = Backward_Propagation(Capas, SG, SF, W, Coef_Aprendizaje, AY)\n",
        "            AX = X[j]\n",
        "            AY = Y[j]\n",
        "            SG, SF = Foward_Propagation(AX,W,Capas)\n",
        "            Error = Error_Cuadrático(SF,AY)\n",
        "    print(\"El error final es {}\".format(Error))\n",
        "    return W"
      ]
    },
    {
      "cell_type": "code",
      "execution_count": null,
      "id": "7963b595",
      "metadata": {
        "colab": {
          "base_uri": "https://localhost:8080/"
        },
        "id": "7963b595",
        "outputId": "0e7acda2-74a1-4e9e-d13c-61730ce9bb9e"
      },
      "outputs": [
        {
          "output_type": "stream",
          "name": "stdout",
          "text": [
            "El error final es 0.0007883078447404893\n",
            "[[[-0.38898798093112585, 1.4774873568101061, 0.30487710681588837, 1.4737162288236947, -0.2831749090383395, 0.4585813014620412], [-2.4276024511003627, 0.36248328961302706, -1.2870746980095287, 1.4828469779462221, 0.6953983204641683, -2.7788074461496666], [2.7224769178933883, -1.3753904135057569, 1.9381426795633763, -3.8118165914148454, -1.2226198144703075, 2.959896144194085], [3.0657700481587637, -3.130781397061327, 2.3834070163809575, -4.511598225869253, -3.0336854813728933, 2.0216496745622794], [-1.8520145108836275, 1.7070950544003942, -1.7427527443202007, 4.011504109559097, 2.138981322425809, -1.2536786785898102]], [[-3.642618257462711, -2.2638653130965896, -3.434686891234759, 1.9423819243503593, 0.8972595608816841], [0.881146043382575, 0.3368372012615803, 3.7770588195843695, -0.7628054337735332, -0.21145799766996634], [-2.588836500691699, -0.157243297902005, -3.0316209929154483, 0.24971056714188913, 1.1174704412769219], [2.0678474218036222, 0.527092411438496, 6.860371291020659, -1.2824665892775489, 1.0077024259289256], [1.7554505821834157, 1.620191821432818, 3.3751237667211136, -0.2490806581596061, -0.032235535440530275], [-3.916216132034195, -2.44221034775339, -2.5373650262262197, 1.8756195721437317, 0.23813019226051066], [-0.3317238954134133, 0.09001985899023307, 1.070166315609762, -0.3624095494030742, 0.8379606149857785]], [[4.464272046322102, -6.218211504354914, -2.4746170834729324], [1.6277324824584454, -1.8779011282114146, -3.108092873591419], [1.289177585451651, 7.41637597753332, -7.123026873236217], [-4.040066231209536, -0.31897676142206, 1.739872144998501], [-1.011361567531626, -1.3007121498392191, 0.9127008080571996], [-1.9037708091118097, -2.0802550764811647, 1.4772000938670127]]]\n"
          ]
        }
      ],
      "source": [
        "W = Entrenar_Perceptrón_Multicapa(300, 0.1, Train_Data_X, Train_Data_Y, Capas)\n",
        "print(W)"
      ]
    },
    {
      "cell_type": "markdown",
      "id": "9e9ea1e1",
      "metadata": {
        "id": "9e9ea1e1"
      },
      "source": [
        "# 9. Probar Perceptrón Multicapa"
      ]
    },
    {
      "cell_type": "code",
      "execution_count": null,
      "id": "2ffda2b0",
      "metadata": {
        "id": "2ffda2b0"
      },
      "outputs": [],
      "source": [
        "def Test_Perceptrón_Multicapa(W, X, Y, Capas, Clases):\n",
        "    Etiquetas_Obtenidas = []\n",
        "    Etiquetas_Reales = []\n",
        "    Y = Y.tolist()\n",
        "    for i in range(len(Y)):\n",
        "        SG, SF = Foward_Propagation(X[i].tolist(),W,Capas)\n",
        "        Max = max(SF)\n",
        "        for k in range(len(SF)):\n",
        "            if SF[k] == Max:\n",
        "                Etiquetas_Obtenidas.append(k+1)\n",
        "                        \n",
        "        for j in range(len(Clases)):\n",
        "            if Y[i] == Clases[j]:\n",
        "                Etiquetas_Reales.append(j+1)\n",
        "            \n",
        "    return Etiquetas_Obtenidas, Etiquetas_Reales"
      ]
    },
    {
      "cell_type": "code",
      "execution_count": null,
      "id": "1a8b08c0",
      "metadata": {
        "id": "1a8b08c0"
      },
      "outputs": [],
      "source": [
        "EO, ER = Test_Perceptrón_Multicapa(W, Test_Data_X, Test_Data_Y, Capas, Clases)"
      ]
    },
    {
      "cell_type": "markdown",
      "id": "b88e01cb",
      "metadata": {
        "id": "b88e01cb"
      },
      "source": [
        "# 10. Matriz de Confusión"
      ]
    },
    {
      "cell_type": "code",
      "execution_count": null,
      "id": "d4b080a6",
      "metadata": {
        "id": "d4b080a6"
      },
      "outputs": [],
      "source": [
        "def Matriz_Confusión(EO, ER):\n",
        "    print(confusion_matrix(ER, EO))"
      ]
    },
    {
      "cell_type": "code",
      "execution_count": null,
      "id": "52c68ee4",
      "metadata": {
        "colab": {
          "base_uri": "https://localhost:8080/"
        },
        "id": "52c68ee4",
        "outputId": "5dec39d4-69a9-4e3f-9735-24a9de4ef7f0"
      },
      "outputs": [
        {
          "output_type": "stream",
          "name": "stdout",
          "text": [
            "[[6 0 0]\n",
            " [0 6 0]\n",
            " [0 0 3]]\n"
          ]
        }
      ],
      "source": [
        "Matriz_Confusión(EO, ER)"
      ]
    },
    {
      "cell_type": "markdown",
      "id": "017820fc",
      "metadata": {
        "id": "017820fc"
      },
      "source": [
        "# 11. Métrica"
      ]
    },
    {
      "cell_type": "code",
      "execution_count": null,
      "id": "5d2b8d10",
      "metadata": {
        "id": "5d2b8d10"
      },
      "outputs": [],
      "source": [
        "def Accuracy(EO, ER):\n",
        "    Cont = 0\n",
        "    for i in range(len(EO)):\n",
        "        if ER[i] == EO[i]:\n",
        "            Cont += 1\n",
        "    print(\"El Accuracy es {}\".format(Cont/len(EO)))"
      ]
    },
    {
      "cell_type": "code",
      "execution_count": null,
      "id": "83bd7b9c",
      "metadata": {
        "colab": {
          "base_uri": "https://localhost:8080/"
        },
        "id": "83bd7b9c",
        "outputId": "01c5d0e0-2047-4b12-e04e-9c8786bcd270"
      },
      "outputs": [
        {
          "output_type": "stream",
          "name": "stdout",
          "text": [
            "El Accuracy es 1.0\n"
          ]
        }
      ],
      "source": [
        "Accuracy(EO, ER)"
      ]
    },
    {
      "cell_type": "markdown",
      "source": [
        "# 12. Predicción"
      ],
      "metadata": {
        "id": "1msDYNKE5mUz"
      },
      "id": "1msDYNKE5mUz"
    },
    {
      "cell_type": "code",
      "source": [
        "def Predecir(X, W, Capas, Clases):\n",
        "    SG, SF = Foward_Propagation(X,W,Capas)\n",
        "    Max = max(SF)\n",
        "    for k in range(len(SF)):\n",
        "        if SF[k] == Max:\n",
        "            SF[k] = 1\n",
        "        else:\n",
        "            SF[k] = 0\n",
        "    for i in range(len(Clases)):\n",
        "        if SF == Clases[i]:\n",
        "            print(\"La predicción {} es de la clase {}\".format(SF,i+1))"
      ],
      "metadata": {
        "id": "KfbPa8Ni5qfC"
      },
      "id": "KfbPa8Ni5qfC",
      "execution_count": null,
      "outputs": []
    },
    {
      "cell_type": "code",
      "source": [
        "Predecir([0.3,0.5,0.9,0.1],W,Capas,Clases)"
      ],
      "metadata": {
        "colab": {
          "base_uri": "https://localhost:8080/"
        },
        "id": "YGyrYbIP6Q5x",
        "outputId": "dead43f6-5c1a-473a-93c9-85d1d4363ac1"
      },
      "id": "YGyrYbIP6Q5x",
      "execution_count": null,
      "outputs": [
        {
          "output_type": "stream",
          "name": "stdout",
          "text": [
            "La predicción [0, 1, 0] es de la clase 2\n"
          ]
        }
      ]
    },
    {
      "cell_type": "markdown",
      "source": [
        "# 13. Experimentación"
      ],
      "metadata": {
        "id": "2-Evy1Mu90_E"
      },
      "id": "2-Evy1Mu90_E"
    },
    {
      "cell_type": "markdown",
      "source": [
        "## A. DataSet Wine"
      ],
      "metadata": {
        "id": "ql4WC7Hf-F2Z"
      },
      "id": "ql4WC7Hf-F2Z"
    },
    {
      "cell_type": "code",
      "source": [
        "data = pd.read_csv(\"wine.csv\")\n",
        "data.head()"
      ],
      "metadata": {
        "colab": {
          "base_uri": "https://localhost:8080/",
          "height": 206
        },
        "id": "QKZS0haR95A6",
        "outputId": "4ea7e27e-fbd9-423f-fdba-2b8162cb18ac"
      },
      "id": "QKZS0haR95A6",
      "execution_count": null,
      "outputs": [
        {
          "output_type": "execute_result",
          "data": {
            "text/plain": [
              "   Alcohol  Malic acid   Ash  Alcalinity of ash  Magnesium  Total phenols  \\\n",
              "0    14.23        1.71  2.43               15.6        127           2.80   \n",
              "1    13.20        1.78  2.14               11.2        100           2.65   \n",
              "2    13.16        2.36  2.67               18.6        101           2.80   \n",
              "3    14.37        1.95  2.50               16.8        113           3.85   \n",
              "4    13.24        2.59  2.87               21.0        118           2.80   \n",
              "\n",
              "   Flavanoids  Nonflavanoid phenols  Proanthocyanins  Color intensity   Hue  \\\n",
              "0        3.06                  0.28             2.29             5.64  1.04   \n",
              "1        2.76                  0.26             1.28             4.38  1.05   \n",
              "2        3.24                  0.30             2.81             5.68  1.03   \n",
              "3        3.49                  0.24             2.18             7.80  0.86   \n",
              "4        2.69                  0.39             1.82             4.32  1.04   \n",
              "\n",
              "   OD280_OD315  Proline  class  \n",
              "0         3.92     1065      1  \n",
              "1         3.40     1050      1  \n",
              "2         3.17     1185      1  \n",
              "3         3.45     1480      1  \n",
              "4         2.93      735      1  "
            ],
            "text/html": [
              "\n",
              "  <div id=\"df-37d55c5d-711a-49a6-b166-27e4598fcd78\">\n",
              "    <div class=\"colab-df-container\">\n",
              "      <div>\n",
              "<style scoped>\n",
              "    .dataframe tbody tr th:only-of-type {\n",
              "        vertical-align: middle;\n",
              "    }\n",
              "\n",
              "    .dataframe tbody tr th {\n",
              "        vertical-align: top;\n",
              "    }\n",
              "\n",
              "    .dataframe thead th {\n",
              "        text-align: right;\n",
              "    }\n",
              "</style>\n",
              "<table border=\"1\" class=\"dataframe\">\n",
              "  <thead>\n",
              "    <tr style=\"text-align: right;\">\n",
              "      <th></th>\n",
              "      <th>Alcohol</th>\n",
              "      <th>Malic acid</th>\n",
              "      <th>Ash</th>\n",
              "      <th>Alcalinity of ash</th>\n",
              "      <th>Magnesium</th>\n",
              "      <th>Total phenols</th>\n",
              "      <th>Flavanoids</th>\n",
              "      <th>Nonflavanoid phenols</th>\n",
              "      <th>Proanthocyanins</th>\n",
              "      <th>Color intensity</th>\n",
              "      <th>Hue</th>\n",
              "      <th>OD280_OD315</th>\n",
              "      <th>Proline</th>\n",
              "      <th>class</th>\n",
              "    </tr>\n",
              "  </thead>\n",
              "  <tbody>\n",
              "    <tr>\n",
              "      <th>0</th>\n",
              "      <td>14.23</td>\n",
              "      <td>1.71</td>\n",
              "      <td>2.43</td>\n",
              "      <td>15.6</td>\n",
              "      <td>127</td>\n",
              "      <td>2.80</td>\n",
              "      <td>3.06</td>\n",
              "      <td>0.28</td>\n",
              "      <td>2.29</td>\n",
              "      <td>5.64</td>\n",
              "      <td>1.04</td>\n",
              "      <td>3.92</td>\n",
              "      <td>1065</td>\n",
              "      <td>1</td>\n",
              "    </tr>\n",
              "    <tr>\n",
              "      <th>1</th>\n",
              "      <td>13.20</td>\n",
              "      <td>1.78</td>\n",
              "      <td>2.14</td>\n",
              "      <td>11.2</td>\n",
              "      <td>100</td>\n",
              "      <td>2.65</td>\n",
              "      <td>2.76</td>\n",
              "      <td>0.26</td>\n",
              "      <td>1.28</td>\n",
              "      <td>4.38</td>\n",
              "      <td>1.05</td>\n",
              "      <td>3.40</td>\n",
              "      <td>1050</td>\n",
              "      <td>1</td>\n",
              "    </tr>\n",
              "    <tr>\n",
              "      <th>2</th>\n",
              "      <td>13.16</td>\n",
              "      <td>2.36</td>\n",
              "      <td>2.67</td>\n",
              "      <td>18.6</td>\n",
              "      <td>101</td>\n",
              "      <td>2.80</td>\n",
              "      <td>3.24</td>\n",
              "      <td>0.30</td>\n",
              "      <td>2.81</td>\n",
              "      <td>5.68</td>\n",
              "      <td>1.03</td>\n",
              "      <td>3.17</td>\n",
              "      <td>1185</td>\n",
              "      <td>1</td>\n",
              "    </tr>\n",
              "    <tr>\n",
              "      <th>3</th>\n",
              "      <td>14.37</td>\n",
              "      <td>1.95</td>\n",
              "      <td>2.50</td>\n",
              "      <td>16.8</td>\n",
              "      <td>113</td>\n",
              "      <td>3.85</td>\n",
              "      <td>3.49</td>\n",
              "      <td>0.24</td>\n",
              "      <td>2.18</td>\n",
              "      <td>7.80</td>\n",
              "      <td>0.86</td>\n",
              "      <td>3.45</td>\n",
              "      <td>1480</td>\n",
              "      <td>1</td>\n",
              "    </tr>\n",
              "    <tr>\n",
              "      <th>4</th>\n",
              "      <td>13.24</td>\n",
              "      <td>2.59</td>\n",
              "      <td>2.87</td>\n",
              "      <td>21.0</td>\n",
              "      <td>118</td>\n",
              "      <td>2.80</td>\n",
              "      <td>2.69</td>\n",
              "      <td>0.39</td>\n",
              "      <td>1.82</td>\n",
              "      <td>4.32</td>\n",
              "      <td>1.04</td>\n",
              "      <td>2.93</td>\n",
              "      <td>735</td>\n",
              "      <td>1</td>\n",
              "    </tr>\n",
              "  </tbody>\n",
              "</table>\n",
              "</div>\n",
              "      <button class=\"colab-df-convert\" onclick=\"convertToInteractive('df-37d55c5d-711a-49a6-b166-27e4598fcd78')\"\n",
              "              title=\"Convert this dataframe to an interactive table.\"\n",
              "              style=\"display:none;\">\n",
              "        \n",
              "  <svg xmlns=\"http://www.w3.org/2000/svg\" height=\"24px\"viewBox=\"0 0 24 24\"\n",
              "       width=\"24px\">\n",
              "    <path d=\"M0 0h24v24H0V0z\" fill=\"none\"/>\n",
              "    <path d=\"M18.56 5.44l.94 2.06.94-2.06 2.06-.94-2.06-.94-.94-2.06-.94 2.06-2.06.94zm-11 1L8.5 8.5l.94-2.06 2.06-.94-2.06-.94L8.5 2.5l-.94 2.06-2.06.94zm10 10l.94 2.06.94-2.06 2.06-.94-2.06-.94-.94-2.06-.94 2.06-2.06.94z\"/><path d=\"M17.41 7.96l-1.37-1.37c-.4-.4-.92-.59-1.43-.59-.52 0-1.04.2-1.43.59L10.3 9.45l-7.72 7.72c-.78.78-.78 2.05 0 2.83L4 21.41c.39.39.9.59 1.41.59.51 0 1.02-.2 1.41-.59l7.78-7.78 2.81-2.81c.8-.78.8-2.07 0-2.86zM5.41 20L4 18.59l7.72-7.72 1.47 1.35L5.41 20z\"/>\n",
              "  </svg>\n",
              "      </button>\n",
              "      \n",
              "  <style>\n",
              "    .colab-df-container {\n",
              "      display:flex;\n",
              "      flex-wrap:wrap;\n",
              "      gap: 12px;\n",
              "    }\n",
              "\n",
              "    .colab-df-convert {\n",
              "      background-color: #E8F0FE;\n",
              "      border: none;\n",
              "      border-radius: 50%;\n",
              "      cursor: pointer;\n",
              "      display: none;\n",
              "      fill: #1967D2;\n",
              "      height: 32px;\n",
              "      padding: 0 0 0 0;\n",
              "      width: 32px;\n",
              "    }\n",
              "\n",
              "    .colab-df-convert:hover {\n",
              "      background-color: #E2EBFA;\n",
              "      box-shadow: 0px 1px 2px rgba(60, 64, 67, 0.3), 0px 1px 3px 1px rgba(60, 64, 67, 0.15);\n",
              "      fill: #174EA6;\n",
              "    }\n",
              "\n",
              "    [theme=dark] .colab-df-convert {\n",
              "      background-color: #3B4455;\n",
              "      fill: #D2E3FC;\n",
              "    }\n",
              "\n",
              "    [theme=dark] .colab-df-convert:hover {\n",
              "      background-color: #434B5C;\n",
              "      box-shadow: 0px 1px 3px 1px rgba(0, 0, 0, 0.15);\n",
              "      filter: drop-shadow(0px 1px 2px rgba(0, 0, 0, 0.3));\n",
              "      fill: #FFFFFF;\n",
              "    }\n",
              "  </style>\n",
              "\n",
              "      <script>\n",
              "        const buttonEl =\n",
              "          document.querySelector('#df-37d55c5d-711a-49a6-b166-27e4598fcd78 button.colab-df-convert');\n",
              "        buttonEl.style.display =\n",
              "          google.colab.kernel.accessAllowed ? 'block' : 'none';\n",
              "\n",
              "        async function convertToInteractive(key) {\n",
              "          const element = document.querySelector('#df-37d55c5d-711a-49a6-b166-27e4598fcd78');\n",
              "          const dataTable =\n",
              "            await google.colab.kernel.invokeFunction('convertToInteractive',\n",
              "                                                     [key], {});\n",
              "          if (!dataTable) return;\n",
              "\n",
              "          const docLinkHtml = 'Like what you see? Visit the ' +\n",
              "            '<a target=\"_blank\" href=https://colab.research.google.com/notebooks/data_table.ipynb>data table notebook</a>'\n",
              "            + ' to learn more about interactive tables.';\n",
              "          element.innerHTML = '';\n",
              "          dataTable['output_type'] = 'display_data';\n",
              "          await google.colab.output.renderOutput(dataTable, element);\n",
              "          const docLink = document.createElement('div');\n",
              "          docLink.innerHTML = docLinkHtml;\n",
              "          element.appendChild(docLink);\n",
              "        }\n",
              "      </script>\n",
              "    </div>\n",
              "  </div>\n",
              "  "
            ]
          },
          "metadata": {},
          "execution_count": 448
        }
      ]
    },
    {
      "cell_type": "code",
      "source": [
        "data.loc[:,[\"Alcohol\",\"Malic acid\",\"Ash\",\"Alcalinity of ash\",\"Magnesium\",\"Total phenols\",\"Flavanoids\",\"Nonflavanoid phenols\",\"Proanthocyanins\",\"Color intensity\",\"Hue\",\"OD280_OD315\",\"Proline\"]] = Normalización(data.loc[:,[\"Alcohol\",\"Malic acid\",\"Ash\",\"Alcalinity of ash\",\"Magnesium\",\"Total phenols\",\"Flavanoids\",\"Nonflavanoid phenols\",\"Proanthocyanins\",\"Color intensity\",\"Hue\",\"OD280_OD315\",\"Proline\"]])\n",
        "data.head()"
      ],
      "metadata": {
        "colab": {
          "base_uri": "https://localhost:8080/",
          "height": 206
        },
        "id": "6LX4fcWA-cKh",
        "outputId": "a2a4c73c-a6a3-4938-fdb5-8b0d71168312"
      },
      "id": "6LX4fcWA-cKh",
      "execution_count": null,
      "outputs": [
        {
          "output_type": "execute_result",
          "data": {
            "text/plain": [
              "    Alcohol  Malic acid       Ash  Alcalinity of ash  Magnesium  \\\n",
              "0  0.842105    0.191700  0.572193           0.257732   0.619565   \n",
              "1  0.571053    0.205534  0.417112           0.030928   0.326087   \n",
              "2  0.560526    0.320158  0.700535           0.412371   0.336957   \n",
              "3  0.878947    0.239130  0.609626           0.319588   0.467391   \n",
              "4  0.581579    0.365613  0.807487           0.536082   0.521739   \n",
              "\n",
              "   Total phenols  Flavanoids  Nonflavanoid phenols  Proanthocyanins  \\\n",
              "0       0.627586    0.573840              0.283019         0.593060   \n",
              "1       0.575862    0.510549              0.245283         0.274448   \n",
              "2       0.627586    0.611814              0.320755         0.757098   \n",
              "3       0.989655    0.664557              0.207547         0.558360   \n",
              "4       0.627586    0.495781              0.490566         0.444795   \n",
              "\n",
              "   Color intensity       Hue  OD280_OD315   Proline  class  \n",
              "0         0.372014  0.455285     0.970696  0.561341      1  \n",
              "1         0.264505  0.463415     0.780220  0.550642      1  \n",
              "2         0.375427  0.447154     0.695971  0.646933      1  \n",
              "3         0.556314  0.308943     0.798535  0.857347      1  \n",
              "4         0.259386  0.455285     0.608059  0.325963      1  "
            ],
            "text/html": [
              "\n",
              "  <div id=\"df-67816c6f-afd6-411b-a4fe-48974994b248\">\n",
              "    <div class=\"colab-df-container\">\n",
              "      <div>\n",
              "<style scoped>\n",
              "    .dataframe tbody tr th:only-of-type {\n",
              "        vertical-align: middle;\n",
              "    }\n",
              "\n",
              "    .dataframe tbody tr th {\n",
              "        vertical-align: top;\n",
              "    }\n",
              "\n",
              "    .dataframe thead th {\n",
              "        text-align: right;\n",
              "    }\n",
              "</style>\n",
              "<table border=\"1\" class=\"dataframe\">\n",
              "  <thead>\n",
              "    <tr style=\"text-align: right;\">\n",
              "      <th></th>\n",
              "      <th>Alcohol</th>\n",
              "      <th>Malic acid</th>\n",
              "      <th>Ash</th>\n",
              "      <th>Alcalinity of ash</th>\n",
              "      <th>Magnesium</th>\n",
              "      <th>Total phenols</th>\n",
              "      <th>Flavanoids</th>\n",
              "      <th>Nonflavanoid phenols</th>\n",
              "      <th>Proanthocyanins</th>\n",
              "      <th>Color intensity</th>\n",
              "      <th>Hue</th>\n",
              "      <th>OD280_OD315</th>\n",
              "      <th>Proline</th>\n",
              "      <th>class</th>\n",
              "    </tr>\n",
              "  </thead>\n",
              "  <tbody>\n",
              "    <tr>\n",
              "      <th>0</th>\n",
              "      <td>0.842105</td>\n",
              "      <td>0.191700</td>\n",
              "      <td>0.572193</td>\n",
              "      <td>0.257732</td>\n",
              "      <td>0.619565</td>\n",
              "      <td>0.627586</td>\n",
              "      <td>0.573840</td>\n",
              "      <td>0.283019</td>\n",
              "      <td>0.593060</td>\n",
              "      <td>0.372014</td>\n",
              "      <td>0.455285</td>\n",
              "      <td>0.970696</td>\n",
              "      <td>0.561341</td>\n",
              "      <td>1</td>\n",
              "    </tr>\n",
              "    <tr>\n",
              "      <th>1</th>\n",
              "      <td>0.571053</td>\n",
              "      <td>0.205534</td>\n",
              "      <td>0.417112</td>\n",
              "      <td>0.030928</td>\n",
              "      <td>0.326087</td>\n",
              "      <td>0.575862</td>\n",
              "      <td>0.510549</td>\n",
              "      <td>0.245283</td>\n",
              "      <td>0.274448</td>\n",
              "      <td>0.264505</td>\n",
              "      <td>0.463415</td>\n",
              "      <td>0.780220</td>\n",
              "      <td>0.550642</td>\n",
              "      <td>1</td>\n",
              "    </tr>\n",
              "    <tr>\n",
              "      <th>2</th>\n",
              "      <td>0.560526</td>\n",
              "      <td>0.320158</td>\n",
              "      <td>0.700535</td>\n",
              "      <td>0.412371</td>\n",
              "      <td>0.336957</td>\n",
              "      <td>0.627586</td>\n",
              "      <td>0.611814</td>\n",
              "      <td>0.320755</td>\n",
              "      <td>0.757098</td>\n",
              "      <td>0.375427</td>\n",
              "      <td>0.447154</td>\n",
              "      <td>0.695971</td>\n",
              "      <td>0.646933</td>\n",
              "      <td>1</td>\n",
              "    </tr>\n",
              "    <tr>\n",
              "      <th>3</th>\n",
              "      <td>0.878947</td>\n",
              "      <td>0.239130</td>\n",
              "      <td>0.609626</td>\n",
              "      <td>0.319588</td>\n",
              "      <td>0.467391</td>\n",
              "      <td>0.989655</td>\n",
              "      <td>0.664557</td>\n",
              "      <td>0.207547</td>\n",
              "      <td>0.558360</td>\n",
              "      <td>0.556314</td>\n",
              "      <td>0.308943</td>\n",
              "      <td>0.798535</td>\n",
              "      <td>0.857347</td>\n",
              "      <td>1</td>\n",
              "    </tr>\n",
              "    <tr>\n",
              "      <th>4</th>\n",
              "      <td>0.581579</td>\n",
              "      <td>0.365613</td>\n",
              "      <td>0.807487</td>\n",
              "      <td>0.536082</td>\n",
              "      <td>0.521739</td>\n",
              "      <td>0.627586</td>\n",
              "      <td>0.495781</td>\n",
              "      <td>0.490566</td>\n",
              "      <td>0.444795</td>\n",
              "      <td>0.259386</td>\n",
              "      <td>0.455285</td>\n",
              "      <td>0.608059</td>\n",
              "      <td>0.325963</td>\n",
              "      <td>1</td>\n",
              "    </tr>\n",
              "  </tbody>\n",
              "</table>\n",
              "</div>\n",
              "      <button class=\"colab-df-convert\" onclick=\"convertToInteractive('df-67816c6f-afd6-411b-a4fe-48974994b248')\"\n",
              "              title=\"Convert this dataframe to an interactive table.\"\n",
              "              style=\"display:none;\">\n",
              "        \n",
              "  <svg xmlns=\"http://www.w3.org/2000/svg\" height=\"24px\"viewBox=\"0 0 24 24\"\n",
              "       width=\"24px\">\n",
              "    <path d=\"M0 0h24v24H0V0z\" fill=\"none\"/>\n",
              "    <path d=\"M18.56 5.44l.94 2.06.94-2.06 2.06-.94-2.06-.94-.94-2.06-.94 2.06-2.06.94zm-11 1L8.5 8.5l.94-2.06 2.06-.94-2.06-.94L8.5 2.5l-.94 2.06-2.06.94zm10 10l.94 2.06.94-2.06 2.06-.94-2.06-.94-.94-2.06-.94 2.06-2.06.94z\"/><path d=\"M17.41 7.96l-1.37-1.37c-.4-.4-.92-.59-1.43-.59-.52 0-1.04.2-1.43.59L10.3 9.45l-7.72 7.72c-.78.78-.78 2.05 0 2.83L4 21.41c.39.39.9.59 1.41.59.51 0 1.02-.2 1.41-.59l7.78-7.78 2.81-2.81c.8-.78.8-2.07 0-2.86zM5.41 20L4 18.59l7.72-7.72 1.47 1.35L5.41 20z\"/>\n",
              "  </svg>\n",
              "      </button>\n",
              "      \n",
              "  <style>\n",
              "    .colab-df-container {\n",
              "      display:flex;\n",
              "      flex-wrap:wrap;\n",
              "      gap: 12px;\n",
              "    }\n",
              "\n",
              "    .colab-df-convert {\n",
              "      background-color: #E8F0FE;\n",
              "      border: none;\n",
              "      border-radius: 50%;\n",
              "      cursor: pointer;\n",
              "      display: none;\n",
              "      fill: #1967D2;\n",
              "      height: 32px;\n",
              "      padding: 0 0 0 0;\n",
              "      width: 32px;\n",
              "    }\n",
              "\n",
              "    .colab-df-convert:hover {\n",
              "      background-color: #E2EBFA;\n",
              "      box-shadow: 0px 1px 2px rgba(60, 64, 67, 0.3), 0px 1px 3px 1px rgba(60, 64, 67, 0.15);\n",
              "      fill: #174EA6;\n",
              "    }\n",
              "\n",
              "    [theme=dark] .colab-df-convert {\n",
              "      background-color: #3B4455;\n",
              "      fill: #D2E3FC;\n",
              "    }\n",
              "\n",
              "    [theme=dark] .colab-df-convert:hover {\n",
              "      background-color: #434B5C;\n",
              "      box-shadow: 0px 1px 3px 1px rgba(0, 0, 0, 0.15);\n",
              "      filter: drop-shadow(0px 1px 2px rgba(0, 0, 0, 0.3));\n",
              "      fill: #FFFFFF;\n",
              "    }\n",
              "  </style>\n",
              "\n",
              "      <script>\n",
              "        const buttonEl =\n",
              "          document.querySelector('#df-67816c6f-afd6-411b-a4fe-48974994b248 button.colab-df-convert');\n",
              "        buttonEl.style.display =\n",
              "          google.colab.kernel.accessAllowed ? 'block' : 'none';\n",
              "\n",
              "        async function convertToInteractive(key) {\n",
              "          const element = document.querySelector('#df-67816c6f-afd6-411b-a4fe-48974994b248');\n",
              "          const dataTable =\n",
              "            await google.colab.kernel.invokeFunction('convertToInteractive',\n",
              "                                                     [key], {});\n",
              "          if (!dataTable) return;\n",
              "\n",
              "          const docLinkHtml = 'Like what you see? Visit the ' +\n",
              "            '<a target=\"_blank\" href=https://colab.research.google.com/notebooks/data_table.ipynb>data table notebook</a>'\n",
              "            + ' to learn more about interactive tables.';\n",
              "          element.innerHTML = '';\n",
              "          dataTable['output_type'] = 'display_data';\n",
              "          await google.colab.output.renderOutput(dataTable, element);\n",
              "          const docLink = document.createElement('div');\n",
              "          docLink.innerHTML = docLinkHtml;\n",
              "          element.appendChild(docLink);\n",
              "        }\n",
              "      </script>\n",
              "    </div>\n",
              "  </div>\n",
              "  "
            ]
          },
          "metadata": {},
          "execution_count": 449
        }
      ]
    },
    {
      "cell_type": "code",
      "source": [
        "data['class'] = data['class'].replace({1: 0, 2: 1, 3:2})\n",
        "data.head()"
      ],
      "metadata": {
        "colab": {
          "base_uri": "https://localhost:8080/",
          "height": 206
        },
        "id": "TNsgADruG9mS",
        "outputId": "465c331a-f591-407c-e513-5e3ec0d29467"
      },
      "id": "TNsgADruG9mS",
      "execution_count": null,
      "outputs": [
        {
          "output_type": "execute_result",
          "data": {
            "text/plain": [
              "    Alcohol  Malic acid       Ash  Alcalinity of ash  Magnesium  \\\n",
              "0  0.842105    0.191700  0.572193           0.257732   0.619565   \n",
              "1  0.571053    0.205534  0.417112           0.030928   0.326087   \n",
              "2  0.560526    0.320158  0.700535           0.412371   0.336957   \n",
              "3  0.878947    0.239130  0.609626           0.319588   0.467391   \n",
              "4  0.581579    0.365613  0.807487           0.536082   0.521739   \n",
              "\n",
              "   Total phenols  Flavanoids  Nonflavanoid phenols  Proanthocyanins  \\\n",
              "0       0.627586    0.573840              0.283019         0.593060   \n",
              "1       0.575862    0.510549              0.245283         0.274448   \n",
              "2       0.627586    0.611814              0.320755         0.757098   \n",
              "3       0.989655    0.664557              0.207547         0.558360   \n",
              "4       0.627586    0.495781              0.490566         0.444795   \n",
              "\n",
              "   Color intensity       Hue  OD280_OD315   Proline  class  \n",
              "0         0.372014  0.455285     0.970696  0.561341      0  \n",
              "1         0.264505  0.463415     0.780220  0.550642      0  \n",
              "2         0.375427  0.447154     0.695971  0.646933      0  \n",
              "3         0.556314  0.308943     0.798535  0.857347      0  \n",
              "4         0.259386  0.455285     0.608059  0.325963      0  "
            ],
            "text/html": [
              "\n",
              "  <div id=\"df-ce2b049a-0278-47b0-879d-4d8b28d68150\">\n",
              "    <div class=\"colab-df-container\">\n",
              "      <div>\n",
              "<style scoped>\n",
              "    .dataframe tbody tr th:only-of-type {\n",
              "        vertical-align: middle;\n",
              "    }\n",
              "\n",
              "    .dataframe tbody tr th {\n",
              "        vertical-align: top;\n",
              "    }\n",
              "\n",
              "    .dataframe thead th {\n",
              "        text-align: right;\n",
              "    }\n",
              "</style>\n",
              "<table border=\"1\" class=\"dataframe\">\n",
              "  <thead>\n",
              "    <tr style=\"text-align: right;\">\n",
              "      <th></th>\n",
              "      <th>Alcohol</th>\n",
              "      <th>Malic acid</th>\n",
              "      <th>Ash</th>\n",
              "      <th>Alcalinity of ash</th>\n",
              "      <th>Magnesium</th>\n",
              "      <th>Total phenols</th>\n",
              "      <th>Flavanoids</th>\n",
              "      <th>Nonflavanoid phenols</th>\n",
              "      <th>Proanthocyanins</th>\n",
              "      <th>Color intensity</th>\n",
              "      <th>Hue</th>\n",
              "      <th>OD280_OD315</th>\n",
              "      <th>Proline</th>\n",
              "      <th>class</th>\n",
              "    </tr>\n",
              "  </thead>\n",
              "  <tbody>\n",
              "    <tr>\n",
              "      <th>0</th>\n",
              "      <td>0.842105</td>\n",
              "      <td>0.191700</td>\n",
              "      <td>0.572193</td>\n",
              "      <td>0.257732</td>\n",
              "      <td>0.619565</td>\n",
              "      <td>0.627586</td>\n",
              "      <td>0.573840</td>\n",
              "      <td>0.283019</td>\n",
              "      <td>0.593060</td>\n",
              "      <td>0.372014</td>\n",
              "      <td>0.455285</td>\n",
              "      <td>0.970696</td>\n",
              "      <td>0.561341</td>\n",
              "      <td>0</td>\n",
              "    </tr>\n",
              "    <tr>\n",
              "      <th>1</th>\n",
              "      <td>0.571053</td>\n",
              "      <td>0.205534</td>\n",
              "      <td>0.417112</td>\n",
              "      <td>0.030928</td>\n",
              "      <td>0.326087</td>\n",
              "      <td>0.575862</td>\n",
              "      <td>0.510549</td>\n",
              "      <td>0.245283</td>\n",
              "      <td>0.274448</td>\n",
              "      <td>0.264505</td>\n",
              "      <td>0.463415</td>\n",
              "      <td>0.780220</td>\n",
              "      <td>0.550642</td>\n",
              "      <td>0</td>\n",
              "    </tr>\n",
              "    <tr>\n",
              "      <th>2</th>\n",
              "      <td>0.560526</td>\n",
              "      <td>0.320158</td>\n",
              "      <td>0.700535</td>\n",
              "      <td>0.412371</td>\n",
              "      <td>0.336957</td>\n",
              "      <td>0.627586</td>\n",
              "      <td>0.611814</td>\n",
              "      <td>0.320755</td>\n",
              "      <td>0.757098</td>\n",
              "      <td>0.375427</td>\n",
              "      <td>0.447154</td>\n",
              "      <td>0.695971</td>\n",
              "      <td>0.646933</td>\n",
              "      <td>0</td>\n",
              "    </tr>\n",
              "    <tr>\n",
              "      <th>3</th>\n",
              "      <td>0.878947</td>\n",
              "      <td>0.239130</td>\n",
              "      <td>0.609626</td>\n",
              "      <td>0.319588</td>\n",
              "      <td>0.467391</td>\n",
              "      <td>0.989655</td>\n",
              "      <td>0.664557</td>\n",
              "      <td>0.207547</td>\n",
              "      <td>0.558360</td>\n",
              "      <td>0.556314</td>\n",
              "      <td>0.308943</td>\n",
              "      <td>0.798535</td>\n",
              "      <td>0.857347</td>\n",
              "      <td>0</td>\n",
              "    </tr>\n",
              "    <tr>\n",
              "      <th>4</th>\n",
              "      <td>0.581579</td>\n",
              "      <td>0.365613</td>\n",
              "      <td>0.807487</td>\n",
              "      <td>0.536082</td>\n",
              "      <td>0.521739</td>\n",
              "      <td>0.627586</td>\n",
              "      <td>0.495781</td>\n",
              "      <td>0.490566</td>\n",
              "      <td>0.444795</td>\n",
              "      <td>0.259386</td>\n",
              "      <td>0.455285</td>\n",
              "      <td>0.608059</td>\n",
              "      <td>0.325963</td>\n",
              "      <td>0</td>\n",
              "    </tr>\n",
              "  </tbody>\n",
              "</table>\n",
              "</div>\n",
              "      <button class=\"colab-df-convert\" onclick=\"convertToInteractive('df-ce2b049a-0278-47b0-879d-4d8b28d68150')\"\n",
              "              title=\"Convert this dataframe to an interactive table.\"\n",
              "              style=\"display:none;\">\n",
              "        \n",
              "  <svg xmlns=\"http://www.w3.org/2000/svg\" height=\"24px\"viewBox=\"0 0 24 24\"\n",
              "       width=\"24px\">\n",
              "    <path d=\"M0 0h24v24H0V0z\" fill=\"none\"/>\n",
              "    <path d=\"M18.56 5.44l.94 2.06.94-2.06 2.06-.94-2.06-.94-.94-2.06-.94 2.06-2.06.94zm-11 1L8.5 8.5l.94-2.06 2.06-.94-2.06-.94L8.5 2.5l-.94 2.06-2.06.94zm10 10l.94 2.06.94-2.06 2.06-.94-2.06-.94-.94-2.06-.94 2.06-2.06.94z\"/><path d=\"M17.41 7.96l-1.37-1.37c-.4-.4-.92-.59-1.43-.59-.52 0-1.04.2-1.43.59L10.3 9.45l-7.72 7.72c-.78.78-.78 2.05 0 2.83L4 21.41c.39.39.9.59 1.41.59.51 0 1.02-.2 1.41-.59l7.78-7.78 2.81-2.81c.8-.78.8-2.07 0-2.86zM5.41 20L4 18.59l7.72-7.72 1.47 1.35L5.41 20z\"/>\n",
              "  </svg>\n",
              "      </button>\n",
              "      \n",
              "  <style>\n",
              "    .colab-df-container {\n",
              "      display:flex;\n",
              "      flex-wrap:wrap;\n",
              "      gap: 12px;\n",
              "    }\n",
              "\n",
              "    .colab-df-convert {\n",
              "      background-color: #E8F0FE;\n",
              "      border: none;\n",
              "      border-radius: 50%;\n",
              "      cursor: pointer;\n",
              "      display: none;\n",
              "      fill: #1967D2;\n",
              "      height: 32px;\n",
              "      padding: 0 0 0 0;\n",
              "      width: 32px;\n",
              "    }\n",
              "\n",
              "    .colab-df-convert:hover {\n",
              "      background-color: #E2EBFA;\n",
              "      box-shadow: 0px 1px 2px rgba(60, 64, 67, 0.3), 0px 1px 3px 1px rgba(60, 64, 67, 0.15);\n",
              "      fill: #174EA6;\n",
              "    }\n",
              "\n",
              "    [theme=dark] .colab-df-convert {\n",
              "      background-color: #3B4455;\n",
              "      fill: #D2E3FC;\n",
              "    }\n",
              "\n",
              "    [theme=dark] .colab-df-convert:hover {\n",
              "      background-color: #434B5C;\n",
              "      box-shadow: 0px 1px 3px 1px rgba(0, 0, 0, 0.15);\n",
              "      filter: drop-shadow(0px 1px 2px rgba(0, 0, 0, 0.3));\n",
              "      fill: #FFFFFF;\n",
              "    }\n",
              "  </style>\n",
              "\n",
              "      <script>\n",
              "        const buttonEl =\n",
              "          document.querySelector('#df-ce2b049a-0278-47b0-879d-4d8b28d68150 button.colab-df-convert');\n",
              "        buttonEl.style.display =\n",
              "          google.colab.kernel.accessAllowed ? 'block' : 'none';\n",
              "\n",
              "        async function convertToInteractive(key) {\n",
              "          const element = document.querySelector('#df-ce2b049a-0278-47b0-879d-4d8b28d68150');\n",
              "          const dataTable =\n",
              "            await google.colab.kernel.invokeFunction('convertToInteractive',\n",
              "                                                     [key], {});\n",
              "          if (!dataTable) return;\n",
              "\n",
              "          const docLinkHtml = 'Like what you see? Visit the ' +\n",
              "            '<a target=\"_blank\" href=https://colab.research.google.com/notebooks/data_table.ipynb>data table notebook</a>'\n",
              "            + ' to learn more about interactive tables.';\n",
              "          element.innerHTML = '';\n",
              "          dataTable['output_type'] = 'display_data';\n",
              "          await google.colab.output.renderOutput(dataTable, element);\n",
              "          const docLink = document.createElement('div');\n",
              "          docLink.innerHTML = docLinkHtml;\n",
              "          element.appendChild(docLink);\n",
              "        }\n",
              "      </script>\n",
              "    </div>\n",
              "  </div>\n",
              "  "
            ]
          },
          "metadata": {},
          "execution_count": 450
        }
      ]
    },
    {
      "cell_type": "code",
      "source": [
        "Train_Data_X, Train_Data_Y, Test_Data_X, Test_Data_Y, Valores_Diferentes, Clases = Separar_Datos(data, \"class\", 0.2, 20000901)\n",
        "print(Clases)"
      ],
      "metadata": {
        "colab": {
          "base_uri": "https://localhost:8080/"
        },
        "id": "61l188Gq_lq5",
        "outputId": "397fc691-0956-49dd-94e1-b2e6083c65fd"
      },
      "id": "61l188Gq_lq5",
      "execution_count": null,
      "outputs": [
        {
          "output_type": "stream",
          "name": "stdout",
          "text": [
            "[[1.0, 0.0, 0.0], [0.0, 1.0, 0.0], [0.0, 0.0, 1.0]]\n"
          ]
        }
      ]
    },
    {
      "cell_type": "code",
      "source": [
        "Clases = Ordenar_Clases(Clases)\n",
        "print(Clases)"
      ],
      "metadata": {
        "colab": {
          "base_uri": "https://localhost:8080/"
        },
        "id": "ma11xtYPUt1r",
        "outputId": "70140e6d-6573-4e4d-e41e-7bcb124ce0c0"
      },
      "id": "ma11xtYPUt1r",
      "execution_count": null,
      "outputs": [
        {
          "output_type": "stream",
          "name": "stdout",
          "text": [
            "[[1.0, 0.0, 0.0], [0.0, 1.0, 0.0], [0.0, 0.0, 1.0]]\n"
          ]
        }
      ]
    },
    {
      "cell_type": "code",
      "source": [
        "Train_Data_X"
      ],
      "metadata": {
        "colab": {
          "base_uri": "https://localhost:8080/"
        },
        "id": "Jsc-qdRwAeMJ",
        "outputId": "61a18ca9-35b9-424d-900a-3ae8b1431a2c"
      },
      "id": "Jsc-qdRwAeMJ",
      "execution_count": null,
      "outputs": [
        {
          "output_type": "execute_result",
          "data": {
            "text/plain": [
              "array([[0.73684211, 0.16403162, 0.67379679, ..., 0.52845528, 0.47619048,\n",
              "        0.60770328],\n",
              "       [0.70789474, 0.13636364, 0.60962567, ..., 0.33333333, 0.58608059,\n",
              "        0.71825963],\n",
              "       [0.67105263, 0.18181818, 0.53475936, ..., 0.49593496, 0.58974359,\n",
              "        0.88231098],\n",
              "       ...,\n",
              "       [0.57894737, 0.50592885, 0.49197861, ..., 0.06504065, 0.08791209,\n",
              "        0.2831669 ],\n",
              "       [0.78684211, 0.18577075, 0.45454545, ..., 0.45528455, 0.84981685,\n",
              "        0.53994294],\n",
              "       [0.37894737, 0.1541502 , 0.44919786, ..., 0.55284553, 0.4981685 ,\n",
              "        0.4700428 ]])"
            ]
          },
          "metadata": {},
          "execution_count": 453
        }
      ]
    },
    {
      "cell_type": "code",
      "source": [
        "Train_Data_Y"
      ],
      "metadata": {
        "colab": {
          "base_uri": "https://localhost:8080/"
        },
        "id": "-r-ePhjGKEdK",
        "outputId": "a7399582-5268-470d-b503-36a02c80ec7d"
      },
      "id": "-r-ePhjGKEdK",
      "execution_count": null,
      "outputs": [
        {
          "output_type": "execute_result",
          "data": {
            "text/plain": [
              "array([0, 0, 0, 1, 0, 1, 2, 1, 1, 0, 0, 2, 0, 2, 2, 2, 1, 1, 1, 0, 0, 0,\n",
              "       1, 1, 1, 0, 0, 1, 1, 1, 2, 0, 1, 1, 1, 1, 1, 1, 0, 1, 1, 1, 2, 1,\n",
              "       0, 0, 1, 0, 2, 1, 2, 1, 2, 1, 0, 2, 1, 1, 2, 1, 2, 2, 2, 1, 0, 1,\n",
              "       2, 2, 1, 1, 0, 0, 2, 1, 0, 0, 0, 1, 1, 2, 0, 1, 0, 0, 2, 1, 0, 2,\n",
              "       1, 0, 0, 2, 0, 2, 1, 2, 1, 0, 0, 2, 0, 1, 1, 2, 2, 1, 2, 2, 2, 0,\n",
              "       2, 0, 1, 2, 1, 1, 0, 2, 2, 2, 1, 2, 1, 1, 1, 1, 1, 0, 1, 0, 2, 0,\n",
              "       1, 0, 1, 2, 0, 1, 0, 2, 0, 1])"
            ]
          },
          "metadata": {},
          "execution_count": 454
        }
      ]
    },
    {
      "cell_type": "code",
      "source": [
        "Train_Data_Y = to_categorical(Train_Data_Y, Valores_Diferentes)\n",
        "print(Train_Data_Y)"
      ],
      "metadata": {
        "colab": {
          "base_uri": "https://localhost:8080/"
        },
        "id": "61jT4jCfKLBZ",
        "outputId": "a2a3d154-bad3-4ee1-faff-f92baf4d0239"
      },
      "id": "61jT4jCfKLBZ",
      "execution_count": null,
      "outputs": [
        {
          "output_type": "stream",
          "name": "stdout",
          "text": [
            "[[1. 0. 0.]\n",
            " [1. 0. 0.]\n",
            " [1. 0. 0.]\n",
            " [0. 1. 0.]\n",
            " [1. 0. 0.]\n",
            " [0. 1. 0.]\n",
            " [0. 0. 1.]\n",
            " [0. 1. 0.]\n",
            " [0. 1. 0.]\n",
            " [1. 0. 0.]\n",
            " [1. 0. 0.]\n",
            " [0. 0. 1.]\n",
            " [1. 0. 0.]\n",
            " [0. 0. 1.]\n",
            " [0. 0. 1.]\n",
            " [0. 0. 1.]\n",
            " [0. 1. 0.]\n",
            " [0. 1. 0.]\n",
            " [0. 1. 0.]\n",
            " [1. 0. 0.]\n",
            " [1. 0. 0.]\n",
            " [1. 0. 0.]\n",
            " [0. 1. 0.]\n",
            " [0. 1. 0.]\n",
            " [0. 1. 0.]\n",
            " [1. 0. 0.]\n",
            " [1. 0. 0.]\n",
            " [0. 1. 0.]\n",
            " [0. 1. 0.]\n",
            " [0. 1. 0.]\n",
            " [0. 0. 1.]\n",
            " [1. 0. 0.]\n",
            " [0. 1. 0.]\n",
            " [0. 1. 0.]\n",
            " [0. 1. 0.]\n",
            " [0. 1. 0.]\n",
            " [0. 1. 0.]\n",
            " [0. 1. 0.]\n",
            " [1. 0. 0.]\n",
            " [0. 1. 0.]\n",
            " [0. 1. 0.]\n",
            " [0. 1. 0.]\n",
            " [0. 0. 1.]\n",
            " [0. 1. 0.]\n",
            " [1. 0. 0.]\n",
            " [1. 0. 0.]\n",
            " [0. 1. 0.]\n",
            " [1. 0. 0.]\n",
            " [0. 0. 1.]\n",
            " [0. 1. 0.]\n",
            " [0. 0. 1.]\n",
            " [0. 1. 0.]\n",
            " [0. 0. 1.]\n",
            " [0. 1. 0.]\n",
            " [1. 0. 0.]\n",
            " [0. 0. 1.]\n",
            " [0. 1. 0.]\n",
            " [0. 1. 0.]\n",
            " [0. 0. 1.]\n",
            " [0. 1. 0.]\n",
            " [0. 0. 1.]\n",
            " [0. 0. 1.]\n",
            " [0. 0. 1.]\n",
            " [0. 1. 0.]\n",
            " [1. 0. 0.]\n",
            " [0. 1. 0.]\n",
            " [0. 0. 1.]\n",
            " [0. 0. 1.]\n",
            " [0. 1. 0.]\n",
            " [0. 1. 0.]\n",
            " [1. 0. 0.]\n",
            " [1. 0. 0.]\n",
            " [0. 0. 1.]\n",
            " [0. 1. 0.]\n",
            " [1. 0. 0.]\n",
            " [1. 0. 0.]\n",
            " [1. 0. 0.]\n",
            " [0. 1. 0.]\n",
            " [0. 1. 0.]\n",
            " [0. 0. 1.]\n",
            " [1. 0. 0.]\n",
            " [0. 1. 0.]\n",
            " [1. 0. 0.]\n",
            " [1. 0. 0.]\n",
            " [0. 0. 1.]\n",
            " [0. 1. 0.]\n",
            " [1. 0. 0.]\n",
            " [0. 0. 1.]\n",
            " [0. 1. 0.]\n",
            " [1. 0. 0.]\n",
            " [1. 0. 0.]\n",
            " [0. 0. 1.]\n",
            " [1. 0. 0.]\n",
            " [0. 0. 1.]\n",
            " [0. 1. 0.]\n",
            " [0. 0. 1.]\n",
            " [0. 1. 0.]\n",
            " [1. 0. 0.]\n",
            " [1. 0. 0.]\n",
            " [0. 0. 1.]\n",
            " [1. 0. 0.]\n",
            " [0. 1. 0.]\n",
            " [0. 1. 0.]\n",
            " [0. 0. 1.]\n",
            " [0. 0. 1.]\n",
            " [0. 1. 0.]\n",
            " [0. 0. 1.]\n",
            " [0. 0. 1.]\n",
            " [0. 0. 1.]\n",
            " [1. 0. 0.]\n",
            " [0. 0. 1.]\n",
            " [1. 0. 0.]\n",
            " [0. 1. 0.]\n",
            " [0. 0. 1.]\n",
            " [0. 1. 0.]\n",
            " [0. 1. 0.]\n",
            " [1. 0. 0.]\n",
            " [0. 0. 1.]\n",
            " [0. 0. 1.]\n",
            " [0. 0. 1.]\n",
            " [0. 1. 0.]\n",
            " [0. 0. 1.]\n",
            " [0. 1. 0.]\n",
            " [0. 1. 0.]\n",
            " [0. 1. 0.]\n",
            " [0. 1. 0.]\n",
            " [0. 1. 0.]\n",
            " [1. 0. 0.]\n",
            " [0. 1. 0.]\n",
            " [1. 0. 0.]\n",
            " [0. 0. 1.]\n",
            " [1. 0. 0.]\n",
            " [0. 1. 0.]\n",
            " [1. 0. 0.]\n",
            " [0. 1. 0.]\n",
            " [0. 0. 1.]\n",
            " [1. 0. 0.]\n",
            " [0. 1. 0.]\n",
            " [1. 0. 0.]\n",
            " [0. 0. 1.]\n",
            " [1. 0. 0.]\n",
            " [0. 1. 0.]]\n"
          ]
        }
      ]
    },
    {
      "cell_type": "code",
      "source": [
        "Test_Data_Y"
      ],
      "metadata": {
        "colab": {
          "base_uri": "https://localhost:8080/"
        },
        "id": "C8fMpjdTKQSy",
        "outputId": "8de504c7-0d30-49af-89be-f94c6c24d08b"
      },
      "id": "C8fMpjdTKQSy",
      "execution_count": null,
      "outputs": [
        {
          "output_type": "execute_result",
          "data": {
            "text/plain": [
              "array([1, 2, 1, 0, 2, 1, 1, 0, 0, 2, 1, 2, 2, 0, 0, 2, 1, 2, 2, 1, 0, 0,\n",
              "       2, 0, 0, 1, 0, 1, 0, 1, 0, 1, 1, 0, 0, 0])"
            ]
          },
          "metadata": {},
          "execution_count": 456
        }
      ]
    },
    {
      "cell_type": "code",
      "source": [
        "Test_Data_Y = to_categorical(Test_Data_Y, Valores_Diferentes)\n",
        "print(Test_Data_Y)"
      ],
      "metadata": {
        "colab": {
          "base_uri": "https://localhost:8080/"
        },
        "id": "dlEFaPxvKVGx",
        "outputId": "82e300f5-6ce7-4b81-e64b-75e5a8f585bd"
      },
      "id": "dlEFaPxvKVGx",
      "execution_count": null,
      "outputs": [
        {
          "output_type": "stream",
          "name": "stdout",
          "text": [
            "[[0. 1. 0.]\n",
            " [0. 0. 1.]\n",
            " [0. 1. 0.]\n",
            " [1. 0. 0.]\n",
            " [0. 0. 1.]\n",
            " [0. 1. 0.]\n",
            " [0. 1. 0.]\n",
            " [1. 0. 0.]\n",
            " [1. 0. 0.]\n",
            " [0. 0. 1.]\n",
            " [0. 1. 0.]\n",
            " [0. 0. 1.]\n",
            " [0. 0. 1.]\n",
            " [1. 0. 0.]\n",
            " [1. 0. 0.]\n",
            " [0. 0. 1.]\n",
            " [0. 1. 0.]\n",
            " [0. 0. 1.]\n",
            " [0. 0. 1.]\n",
            " [0. 1. 0.]\n",
            " [1. 0. 0.]\n",
            " [1. 0. 0.]\n",
            " [0. 0. 1.]\n",
            " [1. 0. 0.]\n",
            " [1. 0. 0.]\n",
            " [0. 1. 0.]\n",
            " [1. 0. 0.]\n",
            " [0. 1. 0.]\n",
            " [1. 0. 0.]\n",
            " [0. 1. 0.]\n",
            " [1. 0. 0.]\n",
            " [0. 1. 0.]\n",
            " [0. 1. 0.]\n",
            " [1. 0. 0.]\n",
            " [1. 0. 0.]\n",
            " [1. 0. 0.]]\n"
          ]
        }
      ]
    },
    {
      "cell_type": "code",
      "source": [
        "Capas = [11,12,3]"
      ],
      "metadata": {
        "id": "kar4tfYYKZpR"
      },
      "id": "kar4tfYYKZpR",
      "execution_count": null,
      "outputs": []
    },
    {
      "cell_type": "code",
      "source": [
        "W = Entrenar_Perceptrón_Multicapa(250, 0.1, Train_Data_X, Train_Data_Y, Capas)\n",
        "print(W)"
      ],
      "metadata": {
        "colab": {
          "base_uri": "https://localhost:8080/"
        },
        "id": "azD2DOlHKp4J",
        "outputId": "4e6ac1cd-6e69-4816-e05f-70d0f0e44803"
      },
      "id": "azD2DOlHKp4J",
      "execution_count": null,
      "outputs": [
        {
          "output_type": "stream",
          "name": "stdout",
          "text": [
            "El error final es 0.0022711519367837395\n",
            "[[[0.9721246055273913, -1.9215631080678783, -1.799144863855728, -2.524454415375891, -2.0970640726203804, -1.5732495393537715, 0.6713383558135281, 3.57820167719144, 1.6835109625967177, -0.6412217272755127, -0.525874472352652, 0.703468504372081], [0.1157946170336051, -0.027793763413539323, 0.2439052119630461, -0.5826589508322709, -0.7587364670239258, -0.3628788146503412, 0.10219474139789374, 0.14769927703342264, 0.5129961544968079, -0.72325049660098, 0.13295107983310955, 1.1691546307858498], [1.8648636679349917, -3.297746915144937, -2.878318531505997, -2.0311461802049595, -0.9522464991868919, 0.055933668759659695, -0.22605088061548176, 2.8652817068125422, 0.8190835828239328, -0.18336575137976188, 0.1397216851300711, 1.1041028225393612], [-0.19195661036413655, 1.4401658118881688, 1.4433576340223209, 1.4743491346644066, 0.533686850933967, 1.426627291234957, -0.671470129224972, -4.053187278671278, -0.8050751841584568, -1.3919827243154081, 0.33919016615750136, -0.8196075814453524], [1.0273080459738442, -0.1955750612026639, -1.182329269394175, -1.4862088957856177, -1.1874945866352937, -0.9412486977595449, 0.6615141535698661, 0.5853209430960845, 0.026358907361466635, -0.9243074916675631, 0.742750719237637, -0.16064343115107682], [-0.8389669592806056, -0.17810607273782142, -0.11337405917804257, -0.4975275855964805, -0.24889802215889223, -1.7647903965072225, 0.6606314556117497, 1.5965328439560846, 0.20322289108797134, 1.6389157014037083, -1.4039742712514762, 0.19705581831221933], [-2.774612951403233, -0.5009637532397712, 1.4050451366820234, 0.5052480444224605, 0.6067292317295302, -1.7300137338437582, -0.8548798754743496, 2.1136330989359022, 1.4456089821913405, 0.8560616364042187, -2.872283497071403, 0.1841603861195602], [0.46237168052753613, 0.09874428819285101, 0.5714949379609287, 0.2819781945159182, 0.20720970959861684, 0.7043340852946333, 0.4321382161822865, -1.4923552204830512, -0.01973693333880674, 0.7213625966471092, 0.32915024249572566, 0.3942025549550529], [-1.0473684655229218, 1.2142717239003287, 0.21528354521762744, 1.6194515814258807, 0.6733230809613445, -0.6578777923298486, 0.6501112101209899, -0.12473929789364527, 0.10051036687689513, 1.1766971828355264, -0.9667781637599042, 0.25328959368549414], [2.6026750369341953, -2.712931591072518, -2.518512409137781, -2.334808496535755, -1.2697454494057643, 1.347617447700741, 1.2883141729233463, -0.5397864056834248, 0.5640356290940951, 0.2206634564748636, 2.8000178155520468, 0.4271508636825628], [-2.0468219137521215, 2.3879740753282013, 1.6969096110317483, 1.5387175123161692, 0.22893484836652964, -0.995160275456503, -0.4349524216693951, 0.6199193393645286, -0.1419982304271453, 1.809731882849269, -2.5439748779754185, -0.3237873154234712], [-1.4957634684791583, 1.2113027991763206, 0.950426835951712, 1.1100479810611796, 1.0951398339970233, 1.3725740498910755, -0.7312500462261133, -3.122797001795947, -1.4965632827625435, 0.29371998929649373, 0.3077622258069632, -0.3862282019008991]], [[-0.7976263037336927, -3.5535795107758377, 3.860022321711081], [-2.9241734278281375, 3.9573510657604825, -2.4570944571123263], [-1.7944908306516167, 3.6936835602578215, -3.0586678949813857], [-2.968111650155067, 3.2075901364998654, -2.550986918411991], [-1.8521770335258838, 2.588969297503016, -1.2819173444593055], [-3.635677126626412, 0.5920305396100165, 2.065079360248315], [-0.25053014901158, -1.1989970624494746, 0.5694073939700544], [5.726751642026434, -4.567529831990648, -2.0470487692103476], [1.429411092582445, -2.828003371171644, -1.513019115957843], [0.7954532522751693, 0.010437450271251179, -1.9404703748079077], [-2.8660972937392706, -1.7636260007497342, 3.5607607324290096], [1.3355317012443866, -1.255221803322724, 0.44868527148797105], [-0.2498453939978067, 0.23691524740576336, 0.3466628969053598]]]\n"
          ]
        }
      ]
    },
    {
      "cell_type": "code",
      "source": [
        "EO, ER = Test_Perceptrón_Multicapa(W, Test_Data_X, Test_Data_Y, Capas, Clases)"
      ],
      "metadata": {
        "id": "yupjetF3K0iC"
      },
      "id": "yupjetF3K0iC",
      "execution_count": null,
      "outputs": []
    },
    {
      "cell_type": "code",
      "source": [
        "Matriz_Confusión(EO, ER)"
      ],
      "metadata": {
        "colab": {
          "base_uri": "https://localhost:8080/"
        },
        "id": "662wd1KzK4I2",
        "outputId": "0695fb4f-1957-4436-8483-0148eb8759f6"
      },
      "id": "662wd1KzK4I2",
      "execution_count": null,
      "outputs": [
        {
          "output_type": "stream",
          "name": "stdout",
          "text": [
            "[[15  0  0]\n",
            " [ 2 10  0]\n",
            " [ 0  0  9]]\n"
          ]
        }
      ]
    },
    {
      "cell_type": "code",
      "source": [
        "Accuracy(EO, ER)"
      ],
      "metadata": {
        "colab": {
          "base_uri": "https://localhost:8080/"
        },
        "id": "0DycWi-ZK-OK",
        "outputId": "576ce0e9-02da-49c5-c0a8-a8417a81932e"
      },
      "id": "0DycWi-ZK-OK",
      "execution_count": null,
      "outputs": [
        {
          "output_type": "stream",
          "name": "stdout",
          "text": [
            "El Accuracy es 0.9444444444444444\n"
          ]
        }
      ]
    },
    {
      "cell_type": "code",
      "source": [
        "Predecir([0.3,0.5,0.6,0.9,0.4,0.0,0.2,0.6,0.1,0.8,0.3],W,Capas,Clases)"
      ],
      "metadata": {
        "colab": {
          "base_uri": "https://localhost:8080/"
        },
        "id": "b4dSaBvNLB_a",
        "outputId": "551ec90b-524c-4ed5-c024-f922819d13a3"
      },
      "id": "b4dSaBvNLB_a",
      "execution_count": null,
      "outputs": [
        {
          "output_type": "stream",
          "name": "stdout",
          "text": [
            "La predicción [0, 0, 1] es de la clase 3\n"
          ]
        }
      ]
    },
    {
      "cell_type": "markdown",
      "source": [
        "## B. DataSet Dígito"
      ],
      "metadata": {
        "id": "jxDFDn6d-LuJ"
      },
      "id": "jxDFDn6d-LuJ"
    },
    {
      "cell_type": "code",
      "source": [
        "data = pd.read_csv(\"digito8x8.csv\")\n",
        "data.head()"
      ],
      "metadata": {
        "colab": {
          "base_uri": "https://localhost:8080/",
          "height": 236
        },
        "id": "U5lpGaYo-O9p",
        "outputId": "3bf0df11-b1d6-449b-a3a3-8a51f9a6a283"
      },
      "id": "U5lpGaYo-O9p",
      "execution_count": null,
      "outputs": [
        {
          "output_type": "execute_result",
          "data": {
            "text/plain": [
              "   P1  P2  P3  P4  P5  P6  P7  P8  P9  P10  ...  P56  P57  P58  P59  P60  P61  \\\n",
              "0   0   1   6  15  12   1   0   0   0    7  ...    0    0    0    6   14    7   \n",
              "1   0   0  10  16   6   0   0   0   0    7  ...    0    0    0   10   16   15   \n",
              "2   0   0   8  15  16  13   0   0   0    1  ...    0    0    0    9   14    0   \n",
              "3   0   0   0   3  11  16   0   0   0    0  ...    0    0    0    0    1   15   \n",
              "4   0   0   5  14   4   0   0   0   0    0  ...    0    0    0    4   12   14   \n",
              "\n",
              "   P62  P63  P64  digito  \n",
              "0    1    0    0       0  \n",
              "1    3    0    0       0  \n",
              "2    0    0    0       7  \n",
              "3    2    0    0       4  \n",
              "4    7    0    0       6  \n",
              "\n",
              "[5 rows x 65 columns]"
            ],
            "text/html": [
              "\n",
              "  <div id=\"df-a2e3ea03-14d4-4139-806c-91cbf70cbf8d\">\n",
              "    <div class=\"colab-df-container\">\n",
              "      <div>\n",
              "<style scoped>\n",
              "    .dataframe tbody tr th:only-of-type {\n",
              "        vertical-align: middle;\n",
              "    }\n",
              "\n",
              "    .dataframe tbody tr th {\n",
              "        vertical-align: top;\n",
              "    }\n",
              "\n",
              "    .dataframe thead th {\n",
              "        text-align: right;\n",
              "    }\n",
              "</style>\n",
              "<table border=\"1\" class=\"dataframe\">\n",
              "  <thead>\n",
              "    <tr style=\"text-align: right;\">\n",
              "      <th></th>\n",
              "      <th>P1</th>\n",
              "      <th>P2</th>\n",
              "      <th>P3</th>\n",
              "      <th>P4</th>\n",
              "      <th>P5</th>\n",
              "      <th>P6</th>\n",
              "      <th>P7</th>\n",
              "      <th>P8</th>\n",
              "      <th>P9</th>\n",
              "      <th>P10</th>\n",
              "      <th>...</th>\n",
              "      <th>P56</th>\n",
              "      <th>P57</th>\n",
              "      <th>P58</th>\n",
              "      <th>P59</th>\n",
              "      <th>P60</th>\n",
              "      <th>P61</th>\n",
              "      <th>P62</th>\n",
              "      <th>P63</th>\n",
              "      <th>P64</th>\n",
              "      <th>digito</th>\n",
              "    </tr>\n",
              "  </thead>\n",
              "  <tbody>\n",
              "    <tr>\n",
              "      <th>0</th>\n",
              "      <td>0</td>\n",
              "      <td>1</td>\n",
              "      <td>6</td>\n",
              "      <td>15</td>\n",
              "      <td>12</td>\n",
              "      <td>1</td>\n",
              "      <td>0</td>\n",
              "      <td>0</td>\n",
              "      <td>0</td>\n",
              "      <td>7</td>\n",
              "      <td>...</td>\n",
              "      <td>0</td>\n",
              "      <td>0</td>\n",
              "      <td>0</td>\n",
              "      <td>6</td>\n",
              "      <td>14</td>\n",
              "      <td>7</td>\n",
              "      <td>1</td>\n",
              "      <td>0</td>\n",
              "      <td>0</td>\n",
              "      <td>0</td>\n",
              "    </tr>\n",
              "    <tr>\n",
              "      <th>1</th>\n",
              "      <td>0</td>\n",
              "      <td>0</td>\n",
              "      <td>10</td>\n",
              "      <td>16</td>\n",
              "      <td>6</td>\n",
              "      <td>0</td>\n",
              "      <td>0</td>\n",
              "      <td>0</td>\n",
              "      <td>0</td>\n",
              "      <td>7</td>\n",
              "      <td>...</td>\n",
              "      <td>0</td>\n",
              "      <td>0</td>\n",
              "      <td>0</td>\n",
              "      <td>10</td>\n",
              "      <td>16</td>\n",
              "      <td>15</td>\n",
              "      <td>3</td>\n",
              "      <td>0</td>\n",
              "      <td>0</td>\n",
              "      <td>0</td>\n",
              "    </tr>\n",
              "    <tr>\n",
              "      <th>2</th>\n",
              "      <td>0</td>\n",
              "      <td>0</td>\n",
              "      <td>8</td>\n",
              "      <td>15</td>\n",
              "      <td>16</td>\n",
              "      <td>13</td>\n",
              "      <td>0</td>\n",
              "      <td>0</td>\n",
              "      <td>0</td>\n",
              "      <td>1</td>\n",
              "      <td>...</td>\n",
              "      <td>0</td>\n",
              "      <td>0</td>\n",
              "      <td>0</td>\n",
              "      <td>9</td>\n",
              "      <td>14</td>\n",
              "      <td>0</td>\n",
              "      <td>0</td>\n",
              "      <td>0</td>\n",
              "      <td>0</td>\n",
              "      <td>7</td>\n",
              "    </tr>\n",
              "    <tr>\n",
              "      <th>3</th>\n",
              "      <td>0</td>\n",
              "      <td>0</td>\n",
              "      <td>0</td>\n",
              "      <td>3</td>\n",
              "      <td>11</td>\n",
              "      <td>16</td>\n",
              "      <td>0</td>\n",
              "      <td>0</td>\n",
              "      <td>0</td>\n",
              "      <td>0</td>\n",
              "      <td>...</td>\n",
              "      <td>0</td>\n",
              "      <td>0</td>\n",
              "      <td>0</td>\n",
              "      <td>0</td>\n",
              "      <td>1</td>\n",
              "      <td>15</td>\n",
              "      <td>2</td>\n",
              "      <td>0</td>\n",
              "      <td>0</td>\n",
              "      <td>4</td>\n",
              "    </tr>\n",
              "    <tr>\n",
              "      <th>4</th>\n",
              "      <td>0</td>\n",
              "      <td>0</td>\n",
              "      <td>5</td>\n",
              "      <td>14</td>\n",
              "      <td>4</td>\n",
              "      <td>0</td>\n",
              "      <td>0</td>\n",
              "      <td>0</td>\n",
              "      <td>0</td>\n",
              "      <td>0</td>\n",
              "      <td>...</td>\n",
              "      <td>0</td>\n",
              "      <td>0</td>\n",
              "      <td>0</td>\n",
              "      <td>4</td>\n",
              "      <td>12</td>\n",
              "      <td>14</td>\n",
              "      <td>7</td>\n",
              "      <td>0</td>\n",
              "      <td>0</td>\n",
              "      <td>6</td>\n",
              "    </tr>\n",
              "  </tbody>\n",
              "</table>\n",
              "<p>5 rows × 65 columns</p>\n",
              "</div>\n",
              "      <button class=\"colab-df-convert\" onclick=\"convertToInteractive('df-a2e3ea03-14d4-4139-806c-91cbf70cbf8d')\"\n",
              "              title=\"Convert this dataframe to an interactive table.\"\n",
              "              style=\"display:none;\">\n",
              "        \n",
              "  <svg xmlns=\"http://www.w3.org/2000/svg\" height=\"24px\"viewBox=\"0 0 24 24\"\n",
              "       width=\"24px\">\n",
              "    <path d=\"M0 0h24v24H0V0z\" fill=\"none\"/>\n",
              "    <path d=\"M18.56 5.44l.94 2.06.94-2.06 2.06-.94-2.06-.94-.94-2.06-.94 2.06-2.06.94zm-11 1L8.5 8.5l.94-2.06 2.06-.94-2.06-.94L8.5 2.5l-.94 2.06-2.06.94zm10 10l.94 2.06.94-2.06 2.06-.94-2.06-.94-.94-2.06-.94 2.06-2.06.94z\"/><path d=\"M17.41 7.96l-1.37-1.37c-.4-.4-.92-.59-1.43-.59-.52 0-1.04.2-1.43.59L10.3 9.45l-7.72 7.72c-.78.78-.78 2.05 0 2.83L4 21.41c.39.39.9.59 1.41.59.51 0 1.02-.2 1.41-.59l7.78-7.78 2.81-2.81c.8-.78.8-2.07 0-2.86zM5.41 20L4 18.59l7.72-7.72 1.47 1.35L5.41 20z\"/>\n",
              "  </svg>\n",
              "      </button>\n",
              "      \n",
              "  <style>\n",
              "    .colab-df-container {\n",
              "      display:flex;\n",
              "      flex-wrap:wrap;\n",
              "      gap: 12px;\n",
              "    }\n",
              "\n",
              "    .colab-df-convert {\n",
              "      background-color: #E8F0FE;\n",
              "      border: none;\n",
              "      border-radius: 50%;\n",
              "      cursor: pointer;\n",
              "      display: none;\n",
              "      fill: #1967D2;\n",
              "      height: 32px;\n",
              "      padding: 0 0 0 0;\n",
              "      width: 32px;\n",
              "    }\n",
              "\n",
              "    .colab-df-convert:hover {\n",
              "      background-color: #E2EBFA;\n",
              "      box-shadow: 0px 1px 2px rgba(60, 64, 67, 0.3), 0px 1px 3px 1px rgba(60, 64, 67, 0.15);\n",
              "      fill: #174EA6;\n",
              "    }\n",
              "\n",
              "    [theme=dark] .colab-df-convert {\n",
              "      background-color: #3B4455;\n",
              "      fill: #D2E3FC;\n",
              "    }\n",
              "\n",
              "    [theme=dark] .colab-df-convert:hover {\n",
              "      background-color: #434B5C;\n",
              "      box-shadow: 0px 1px 3px 1px rgba(0, 0, 0, 0.15);\n",
              "      filter: drop-shadow(0px 1px 2px rgba(0, 0, 0, 0.3));\n",
              "      fill: #FFFFFF;\n",
              "    }\n",
              "  </style>\n",
              "\n",
              "      <script>\n",
              "        const buttonEl =\n",
              "          document.querySelector('#df-a2e3ea03-14d4-4139-806c-91cbf70cbf8d button.colab-df-convert');\n",
              "        buttonEl.style.display =\n",
              "          google.colab.kernel.accessAllowed ? 'block' : 'none';\n",
              "\n",
              "        async function convertToInteractive(key) {\n",
              "          const element = document.querySelector('#df-a2e3ea03-14d4-4139-806c-91cbf70cbf8d');\n",
              "          const dataTable =\n",
              "            await google.colab.kernel.invokeFunction('convertToInteractive',\n",
              "                                                     [key], {});\n",
              "          if (!dataTable) return;\n",
              "\n",
              "          const docLinkHtml = 'Like what you see? Visit the ' +\n",
              "            '<a target=\"_blank\" href=https://colab.research.google.com/notebooks/data_table.ipynb>data table notebook</a>'\n",
              "            + ' to learn more about interactive tables.';\n",
              "          element.innerHTML = '';\n",
              "          dataTable['output_type'] = 'display_data';\n",
              "          await google.colab.output.renderOutput(dataTable, element);\n",
              "          const docLink = document.createElement('div');\n",
              "          docLink.innerHTML = docLinkHtml;\n",
              "          element.appendChild(docLink);\n",
              "        }\n",
              "      </script>\n",
              "    </div>\n",
              "  </div>\n",
              "  "
            ]
          },
          "metadata": {},
          "execution_count": 405
        }
      ]
    },
    {
      "cell_type": "code",
      "source": [
        "data.iloc[:,0:64] = Normalización(data.iloc[:,0:64])\n",
        "data.head()"
      ],
      "metadata": {
        "colab": {
          "base_uri": "https://localhost:8080/",
          "height": 236
        },
        "id": "MU2C2cs4Lrva",
        "outputId": "1f9f0e76-95fb-41c2-e10b-081dfd2be870"
      },
      "id": "MU2C2cs4Lrva",
      "execution_count": null,
      "outputs": [
        {
          "output_type": "execute_result",
          "data": {
            "text/plain": [
              "   P1     P2      P3      P4      P5      P6   P7   P8   P9     P10  ...  P56  \\\n",
              "0 NaN  0.125  0.3750  0.9375  0.7500  0.0625  0.0  0.0  0.0  0.4375  ...  0.0   \n",
              "1 NaN  0.000  0.6250  1.0000  0.3750  0.0000  0.0  0.0  0.0  0.4375  ...  0.0   \n",
              "2 NaN  0.000  0.5000  0.9375  1.0000  0.8125  0.0  0.0  0.0  0.0625  ...  0.0   \n",
              "3 NaN  0.000  0.0000  0.1875  0.6875  1.0000  0.0  0.0  0.0  0.0000  ...  0.0   \n",
              "4 NaN  0.000  0.3125  0.8750  0.2500  0.0000  0.0  0.0  0.0  0.0000  ...  0.0   \n",
              "\n",
              "   P57  P58     P59     P60     P61     P62  P63  P64  digito  \n",
              "0  0.0  0.0  0.3750  0.8750  0.4375  0.0625  0.0  0.0       0  \n",
              "1  0.0  0.0  0.6250  1.0000  0.9375  0.1875  0.0  0.0       0  \n",
              "2  0.0  0.0  0.5625  0.8750  0.0000  0.0000  0.0  0.0       7  \n",
              "3  0.0  0.0  0.0000  0.0625  0.9375  0.1250  0.0  0.0       4  \n",
              "4  0.0  0.0  0.2500  0.7500  0.8750  0.4375  0.0  0.0       6  \n",
              "\n",
              "[5 rows x 65 columns]"
            ],
            "text/html": [
              "\n",
              "  <div id=\"df-ef37b24c-9d67-4496-a0f0-0a1d56717cb4\">\n",
              "    <div class=\"colab-df-container\">\n",
              "      <div>\n",
              "<style scoped>\n",
              "    .dataframe tbody tr th:only-of-type {\n",
              "        vertical-align: middle;\n",
              "    }\n",
              "\n",
              "    .dataframe tbody tr th {\n",
              "        vertical-align: top;\n",
              "    }\n",
              "\n",
              "    .dataframe thead th {\n",
              "        text-align: right;\n",
              "    }\n",
              "</style>\n",
              "<table border=\"1\" class=\"dataframe\">\n",
              "  <thead>\n",
              "    <tr style=\"text-align: right;\">\n",
              "      <th></th>\n",
              "      <th>P1</th>\n",
              "      <th>P2</th>\n",
              "      <th>P3</th>\n",
              "      <th>P4</th>\n",
              "      <th>P5</th>\n",
              "      <th>P6</th>\n",
              "      <th>P7</th>\n",
              "      <th>P8</th>\n",
              "      <th>P9</th>\n",
              "      <th>P10</th>\n",
              "      <th>...</th>\n",
              "      <th>P56</th>\n",
              "      <th>P57</th>\n",
              "      <th>P58</th>\n",
              "      <th>P59</th>\n",
              "      <th>P60</th>\n",
              "      <th>P61</th>\n",
              "      <th>P62</th>\n",
              "      <th>P63</th>\n",
              "      <th>P64</th>\n",
              "      <th>digito</th>\n",
              "    </tr>\n",
              "  </thead>\n",
              "  <tbody>\n",
              "    <tr>\n",
              "      <th>0</th>\n",
              "      <td>NaN</td>\n",
              "      <td>0.125</td>\n",
              "      <td>0.3750</td>\n",
              "      <td>0.9375</td>\n",
              "      <td>0.7500</td>\n",
              "      <td>0.0625</td>\n",
              "      <td>0.0</td>\n",
              "      <td>0.0</td>\n",
              "      <td>0.0</td>\n",
              "      <td>0.4375</td>\n",
              "      <td>...</td>\n",
              "      <td>0.0</td>\n",
              "      <td>0.0</td>\n",
              "      <td>0.0</td>\n",
              "      <td>0.3750</td>\n",
              "      <td>0.8750</td>\n",
              "      <td>0.4375</td>\n",
              "      <td>0.0625</td>\n",
              "      <td>0.0</td>\n",
              "      <td>0.0</td>\n",
              "      <td>0</td>\n",
              "    </tr>\n",
              "    <tr>\n",
              "      <th>1</th>\n",
              "      <td>NaN</td>\n",
              "      <td>0.000</td>\n",
              "      <td>0.6250</td>\n",
              "      <td>1.0000</td>\n",
              "      <td>0.3750</td>\n",
              "      <td>0.0000</td>\n",
              "      <td>0.0</td>\n",
              "      <td>0.0</td>\n",
              "      <td>0.0</td>\n",
              "      <td>0.4375</td>\n",
              "      <td>...</td>\n",
              "      <td>0.0</td>\n",
              "      <td>0.0</td>\n",
              "      <td>0.0</td>\n",
              "      <td>0.6250</td>\n",
              "      <td>1.0000</td>\n",
              "      <td>0.9375</td>\n",
              "      <td>0.1875</td>\n",
              "      <td>0.0</td>\n",
              "      <td>0.0</td>\n",
              "      <td>0</td>\n",
              "    </tr>\n",
              "    <tr>\n",
              "      <th>2</th>\n",
              "      <td>NaN</td>\n",
              "      <td>0.000</td>\n",
              "      <td>0.5000</td>\n",
              "      <td>0.9375</td>\n",
              "      <td>1.0000</td>\n",
              "      <td>0.8125</td>\n",
              "      <td>0.0</td>\n",
              "      <td>0.0</td>\n",
              "      <td>0.0</td>\n",
              "      <td>0.0625</td>\n",
              "      <td>...</td>\n",
              "      <td>0.0</td>\n",
              "      <td>0.0</td>\n",
              "      <td>0.0</td>\n",
              "      <td>0.5625</td>\n",
              "      <td>0.8750</td>\n",
              "      <td>0.0000</td>\n",
              "      <td>0.0000</td>\n",
              "      <td>0.0</td>\n",
              "      <td>0.0</td>\n",
              "      <td>7</td>\n",
              "    </tr>\n",
              "    <tr>\n",
              "      <th>3</th>\n",
              "      <td>NaN</td>\n",
              "      <td>0.000</td>\n",
              "      <td>0.0000</td>\n",
              "      <td>0.1875</td>\n",
              "      <td>0.6875</td>\n",
              "      <td>1.0000</td>\n",
              "      <td>0.0</td>\n",
              "      <td>0.0</td>\n",
              "      <td>0.0</td>\n",
              "      <td>0.0000</td>\n",
              "      <td>...</td>\n",
              "      <td>0.0</td>\n",
              "      <td>0.0</td>\n",
              "      <td>0.0</td>\n",
              "      <td>0.0000</td>\n",
              "      <td>0.0625</td>\n",
              "      <td>0.9375</td>\n",
              "      <td>0.1250</td>\n",
              "      <td>0.0</td>\n",
              "      <td>0.0</td>\n",
              "      <td>4</td>\n",
              "    </tr>\n",
              "    <tr>\n",
              "      <th>4</th>\n",
              "      <td>NaN</td>\n",
              "      <td>0.000</td>\n",
              "      <td>0.3125</td>\n",
              "      <td>0.8750</td>\n",
              "      <td>0.2500</td>\n",
              "      <td>0.0000</td>\n",
              "      <td>0.0</td>\n",
              "      <td>0.0</td>\n",
              "      <td>0.0</td>\n",
              "      <td>0.0000</td>\n",
              "      <td>...</td>\n",
              "      <td>0.0</td>\n",
              "      <td>0.0</td>\n",
              "      <td>0.0</td>\n",
              "      <td>0.2500</td>\n",
              "      <td>0.7500</td>\n",
              "      <td>0.8750</td>\n",
              "      <td>0.4375</td>\n",
              "      <td>0.0</td>\n",
              "      <td>0.0</td>\n",
              "      <td>6</td>\n",
              "    </tr>\n",
              "  </tbody>\n",
              "</table>\n",
              "<p>5 rows × 65 columns</p>\n",
              "</div>\n",
              "      <button class=\"colab-df-convert\" onclick=\"convertToInteractive('df-ef37b24c-9d67-4496-a0f0-0a1d56717cb4')\"\n",
              "              title=\"Convert this dataframe to an interactive table.\"\n",
              "              style=\"display:none;\">\n",
              "        \n",
              "  <svg xmlns=\"http://www.w3.org/2000/svg\" height=\"24px\"viewBox=\"0 0 24 24\"\n",
              "       width=\"24px\">\n",
              "    <path d=\"M0 0h24v24H0V0z\" fill=\"none\"/>\n",
              "    <path d=\"M18.56 5.44l.94 2.06.94-2.06 2.06-.94-2.06-.94-.94-2.06-.94 2.06-2.06.94zm-11 1L8.5 8.5l.94-2.06 2.06-.94-2.06-.94L8.5 2.5l-.94 2.06-2.06.94zm10 10l.94 2.06.94-2.06 2.06-.94-2.06-.94-.94-2.06-.94 2.06-2.06.94z\"/><path d=\"M17.41 7.96l-1.37-1.37c-.4-.4-.92-.59-1.43-.59-.52 0-1.04.2-1.43.59L10.3 9.45l-7.72 7.72c-.78.78-.78 2.05 0 2.83L4 21.41c.39.39.9.59 1.41.59.51 0 1.02-.2 1.41-.59l7.78-7.78 2.81-2.81c.8-.78.8-2.07 0-2.86zM5.41 20L4 18.59l7.72-7.72 1.47 1.35L5.41 20z\"/>\n",
              "  </svg>\n",
              "      </button>\n",
              "      \n",
              "  <style>\n",
              "    .colab-df-container {\n",
              "      display:flex;\n",
              "      flex-wrap:wrap;\n",
              "      gap: 12px;\n",
              "    }\n",
              "\n",
              "    .colab-df-convert {\n",
              "      background-color: #E8F0FE;\n",
              "      border: none;\n",
              "      border-radius: 50%;\n",
              "      cursor: pointer;\n",
              "      display: none;\n",
              "      fill: #1967D2;\n",
              "      height: 32px;\n",
              "      padding: 0 0 0 0;\n",
              "      width: 32px;\n",
              "    }\n",
              "\n",
              "    .colab-df-convert:hover {\n",
              "      background-color: #E2EBFA;\n",
              "      box-shadow: 0px 1px 2px rgba(60, 64, 67, 0.3), 0px 1px 3px 1px rgba(60, 64, 67, 0.15);\n",
              "      fill: #174EA6;\n",
              "    }\n",
              "\n",
              "    [theme=dark] .colab-df-convert {\n",
              "      background-color: #3B4455;\n",
              "      fill: #D2E3FC;\n",
              "    }\n",
              "\n",
              "    [theme=dark] .colab-df-convert:hover {\n",
              "      background-color: #434B5C;\n",
              "      box-shadow: 0px 1px 3px 1px rgba(0, 0, 0, 0.15);\n",
              "      filter: drop-shadow(0px 1px 2px rgba(0, 0, 0, 0.3));\n",
              "      fill: #FFFFFF;\n",
              "    }\n",
              "  </style>\n",
              "\n",
              "      <script>\n",
              "        const buttonEl =\n",
              "          document.querySelector('#df-ef37b24c-9d67-4496-a0f0-0a1d56717cb4 button.colab-df-convert');\n",
              "        buttonEl.style.display =\n",
              "          google.colab.kernel.accessAllowed ? 'block' : 'none';\n",
              "\n",
              "        async function convertToInteractive(key) {\n",
              "          const element = document.querySelector('#df-ef37b24c-9d67-4496-a0f0-0a1d56717cb4');\n",
              "          const dataTable =\n",
              "            await google.colab.kernel.invokeFunction('convertToInteractive',\n",
              "                                                     [key], {});\n",
              "          if (!dataTable) return;\n",
              "\n",
              "          const docLinkHtml = 'Like what you see? Visit the ' +\n",
              "            '<a target=\"_blank\" href=https://colab.research.google.com/notebooks/data_table.ipynb>data table notebook</a>'\n",
              "            + ' to learn more about interactive tables.';\n",
              "          element.innerHTML = '';\n",
              "          dataTable['output_type'] = 'display_data';\n",
              "          await google.colab.output.renderOutput(dataTable, element);\n",
              "          const docLink = document.createElement('div');\n",
              "          docLink.innerHTML = docLinkHtml;\n",
              "          element.appendChild(docLink);\n",
              "        }\n",
              "      </script>\n",
              "    </div>\n",
              "  </div>\n",
              "  "
            ]
          },
          "metadata": {},
          "execution_count": 406
        }
      ]
    },
    {
      "cell_type": "code",
      "source": [
        "data.fillna(0, inplace=True)\n",
        "data.head()"
      ],
      "metadata": {
        "colab": {
          "base_uri": "https://localhost:8080/",
          "height": 236
        },
        "id": "kNCkN-nGOFjC",
        "outputId": "a2318910-d045-43ab-9b94-2ba9b78282db"
      },
      "id": "kNCkN-nGOFjC",
      "execution_count": null,
      "outputs": [
        {
          "output_type": "execute_result",
          "data": {
            "text/plain": [
              "    P1     P2      P3      P4      P5      P6   P7   P8   P9     P10  ...  \\\n",
              "0  0.0  0.125  0.3750  0.9375  0.7500  0.0625  0.0  0.0  0.0  0.4375  ...   \n",
              "1  0.0  0.000  0.6250  1.0000  0.3750  0.0000  0.0  0.0  0.0  0.4375  ...   \n",
              "2  0.0  0.000  0.5000  0.9375  1.0000  0.8125  0.0  0.0  0.0  0.0625  ...   \n",
              "3  0.0  0.000  0.0000  0.1875  0.6875  1.0000  0.0  0.0  0.0  0.0000  ...   \n",
              "4  0.0  0.000  0.3125  0.8750  0.2500  0.0000  0.0  0.0  0.0  0.0000  ...   \n",
              "\n",
              "   P56  P57  P58     P59     P60     P61     P62  P63  P64  digito  \n",
              "0  0.0  0.0  0.0  0.3750  0.8750  0.4375  0.0625  0.0  0.0       0  \n",
              "1  0.0  0.0  0.0  0.6250  1.0000  0.9375  0.1875  0.0  0.0       0  \n",
              "2  0.0  0.0  0.0  0.5625  0.8750  0.0000  0.0000  0.0  0.0       7  \n",
              "3  0.0  0.0  0.0  0.0000  0.0625  0.9375  0.1250  0.0  0.0       4  \n",
              "4  0.0  0.0  0.0  0.2500  0.7500  0.8750  0.4375  0.0  0.0       6  \n",
              "\n",
              "[5 rows x 65 columns]"
            ],
            "text/html": [
              "\n",
              "  <div id=\"df-a60b8676-6cdf-4f84-8669-29ba77cf272b\">\n",
              "    <div class=\"colab-df-container\">\n",
              "      <div>\n",
              "<style scoped>\n",
              "    .dataframe tbody tr th:only-of-type {\n",
              "        vertical-align: middle;\n",
              "    }\n",
              "\n",
              "    .dataframe tbody tr th {\n",
              "        vertical-align: top;\n",
              "    }\n",
              "\n",
              "    .dataframe thead th {\n",
              "        text-align: right;\n",
              "    }\n",
              "</style>\n",
              "<table border=\"1\" class=\"dataframe\">\n",
              "  <thead>\n",
              "    <tr style=\"text-align: right;\">\n",
              "      <th></th>\n",
              "      <th>P1</th>\n",
              "      <th>P2</th>\n",
              "      <th>P3</th>\n",
              "      <th>P4</th>\n",
              "      <th>P5</th>\n",
              "      <th>P6</th>\n",
              "      <th>P7</th>\n",
              "      <th>P8</th>\n",
              "      <th>P9</th>\n",
              "      <th>P10</th>\n",
              "      <th>...</th>\n",
              "      <th>P56</th>\n",
              "      <th>P57</th>\n",
              "      <th>P58</th>\n",
              "      <th>P59</th>\n",
              "      <th>P60</th>\n",
              "      <th>P61</th>\n",
              "      <th>P62</th>\n",
              "      <th>P63</th>\n",
              "      <th>P64</th>\n",
              "      <th>digito</th>\n",
              "    </tr>\n",
              "  </thead>\n",
              "  <tbody>\n",
              "    <tr>\n",
              "      <th>0</th>\n",
              "      <td>0.0</td>\n",
              "      <td>0.125</td>\n",
              "      <td>0.3750</td>\n",
              "      <td>0.9375</td>\n",
              "      <td>0.7500</td>\n",
              "      <td>0.0625</td>\n",
              "      <td>0.0</td>\n",
              "      <td>0.0</td>\n",
              "      <td>0.0</td>\n",
              "      <td>0.4375</td>\n",
              "      <td>...</td>\n",
              "      <td>0.0</td>\n",
              "      <td>0.0</td>\n",
              "      <td>0.0</td>\n",
              "      <td>0.3750</td>\n",
              "      <td>0.8750</td>\n",
              "      <td>0.4375</td>\n",
              "      <td>0.0625</td>\n",
              "      <td>0.0</td>\n",
              "      <td>0.0</td>\n",
              "      <td>0</td>\n",
              "    </tr>\n",
              "    <tr>\n",
              "      <th>1</th>\n",
              "      <td>0.0</td>\n",
              "      <td>0.000</td>\n",
              "      <td>0.6250</td>\n",
              "      <td>1.0000</td>\n",
              "      <td>0.3750</td>\n",
              "      <td>0.0000</td>\n",
              "      <td>0.0</td>\n",
              "      <td>0.0</td>\n",
              "      <td>0.0</td>\n",
              "      <td>0.4375</td>\n",
              "      <td>...</td>\n",
              "      <td>0.0</td>\n",
              "      <td>0.0</td>\n",
              "      <td>0.0</td>\n",
              "      <td>0.6250</td>\n",
              "      <td>1.0000</td>\n",
              "      <td>0.9375</td>\n",
              "      <td>0.1875</td>\n",
              "      <td>0.0</td>\n",
              "      <td>0.0</td>\n",
              "      <td>0</td>\n",
              "    </tr>\n",
              "    <tr>\n",
              "      <th>2</th>\n",
              "      <td>0.0</td>\n",
              "      <td>0.000</td>\n",
              "      <td>0.5000</td>\n",
              "      <td>0.9375</td>\n",
              "      <td>1.0000</td>\n",
              "      <td>0.8125</td>\n",
              "      <td>0.0</td>\n",
              "      <td>0.0</td>\n",
              "      <td>0.0</td>\n",
              "      <td>0.0625</td>\n",
              "      <td>...</td>\n",
              "      <td>0.0</td>\n",
              "      <td>0.0</td>\n",
              "      <td>0.0</td>\n",
              "      <td>0.5625</td>\n",
              "      <td>0.8750</td>\n",
              "      <td>0.0000</td>\n",
              "      <td>0.0000</td>\n",
              "      <td>0.0</td>\n",
              "      <td>0.0</td>\n",
              "      <td>7</td>\n",
              "    </tr>\n",
              "    <tr>\n",
              "      <th>3</th>\n",
              "      <td>0.0</td>\n",
              "      <td>0.000</td>\n",
              "      <td>0.0000</td>\n",
              "      <td>0.1875</td>\n",
              "      <td>0.6875</td>\n",
              "      <td>1.0000</td>\n",
              "      <td>0.0</td>\n",
              "      <td>0.0</td>\n",
              "      <td>0.0</td>\n",
              "      <td>0.0000</td>\n",
              "      <td>...</td>\n",
              "      <td>0.0</td>\n",
              "      <td>0.0</td>\n",
              "      <td>0.0</td>\n",
              "      <td>0.0000</td>\n",
              "      <td>0.0625</td>\n",
              "      <td>0.9375</td>\n",
              "      <td>0.1250</td>\n",
              "      <td>0.0</td>\n",
              "      <td>0.0</td>\n",
              "      <td>4</td>\n",
              "    </tr>\n",
              "    <tr>\n",
              "      <th>4</th>\n",
              "      <td>0.0</td>\n",
              "      <td>0.000</td>\n",
              "      <td>0.3125</td>\n",
              "      <td>0.8750</td>\n",
              "      <td>0.2500</td>\n",
              "      <td>0.0000</td>\n",
              "      <td>0.0</td>\n",
              "      <td>0.0</td>\n",
              "      <td>0.0</td>\n",
              "      <td>0.0000</td>\n",
              "      <td>...</td>\n",
              "      <td>0.0</td>\n",
              "      <td>0.0</td>\n",
              "      <td>0.0</td>\n",
              "      <td>0.2500</td>\n",
              "      <td>0.7500</td>\n",
              "      <td>0.8750</td>\n",
              "      <td>0.4375</td>\n",
              "      <td>0.0</td>\n",
              "      <td>0.0</td>\n",
              "      <td>6</td>\n",
              "    </tr>\n",
              "  </tbody>\n",
              "</table>\n",
              "<p>5 rows × 65 columns</p>\n",
              "</div>\n",
              "      <button class=\"colab-df-convert\" onclick=\"convertToInteractive('df-a60b8676-6cdf-4f84-8669-29ba77cf272b')\"\n",
              "              title=\"Convert this dataframe to an interactive table.\"\n",
              "              style=\"display:none;\">\n",
              "        \n",
              "  <svg xmlns=\"http://www.w3.org/2000/svg\" height=\"24px\"viewBox=\"0 0 24 24\"\n",
              "       width=\"24px\">\n",
              "    <path d=\"M0 0h24v24H0V0z\" fill=\"none\"/>\n",
              "    <path d=\"M18.56 5.44l.94 2.06.94-2.06 2.06-.94-2.06-.94-.94-2.06-.94 2.06-2.06.94zm-11 1L8.5 8.5l.94-2.06 2.06-.94-2.06-.94L8.5 2.5l-.94 2.06-2.06.94zm10 10l.94 2.06.94-2.06 2.06-.94-2.06-.94-.94-2.06-.94 2.06-2.06.94z\"/><path d=\"M17.41 7.96l-1.37-1.37c-.4-.4-.92-.59-1.43-.59-.52 0-1.04.2-1.43.59L10.3 9.45l-7.72 7.72c-.78.78-.78 2.05 0 2.83L4 21.41c.39.39.9.59 1.41.59.51 0 1.02-.2 1.41-.59l7.78-7.78 2.81-2.81c.8-.78.8-2.07 0-2.86zM5.41 20L4 18.59l7.72-7.72 1.47 1.35L5.41 20z\"/>\n",
              "  </svg>\n",
              "      </button>\n",
              "      \n",
              "  <style>\n",
              "    .colab-df-container {\n",
              "      display:flex;\n",
              "      flex-wrap:wrap;\n",
              "      gap: 12px;\n",
              "    }\n",
              "\n",
              "    .colab-df-convert {\n",
              "      background-color: #E8F0FE;\n",
              "      border: none;\n",
              "      border-radius: 50%;\n",
              "      cursor: pointer;\n",
              "      display: none;\n",
              "      fill: #1967D2;\n",
              "      height: 32px;\n",
              "      padding: 0 0 0 0;\n",
              "      width: 32px;\n",
              "    }\n",
              "\n",
              "    .colab-df-convert:hover {\n",
              "      background-color: #E2EBFA;\n",
              "      box-shadow: 0px 1px 2px rgba(60, 64, 67, 0.3), 0px 1px 3px 1px rgba(60, 64, 67, 0.15);\n",
              "      fill: #174EA6;\n",
              "    }\n",
              "\n",
              "    [theme=dark] .colab-df-convert {\n",
              "      background-color: #3B4455;\n",
              "      fill: #D2E3FC;\n",
              "    }\n",
              "\n",
              "    [theme=dark] .colab-df-convert:hover {\n",
              "      background-color: #434B5C;\n",
              "      box-shadow: 0px 1px 3px 1px rgba(0, 0, 0, 0.15);\n",
              "      filter: drop-shadow(0px 1px 2px rgba(0, 0, 0, 0.3));\n",
              "      fill: #FFFFFF;\n",
              "    }\n",
              "  </style>\n",
              "\n",
              "      <script>\n",
              "        const buttonEl =\n",
              "          document.querySelector('#df-a60b8676-6cdf-4f84-8669-29ba77cf272b button.colab-df-convert');\n",
              "        buttonEl.style.display =\n",
              "          google.colab.kernel.accessAllowed ? 'block' : 'none';\n",
              "\n",
              "        async function convertToInteractive(key) {\n",
              "          const element = document.querySelector('#df-a60b8676-6cdf-4f84-8669-29ba77cf272b');\n",
              "          const dataTable =\n",
              "            await google.colab.kernel.invokeFunction('convertToInteractive',\n",
              "                                                     [key], {});\n",
              "          if (!dataTable) return;\n",
              "\n",
              "          const docLinkHtml = 'Like what you see? Visit the ' +\n",
              "            '<a target=\"_blank\" href=https://colab.research.google.com/notebooks/data_table.ipynb>data table notebook</a>'\n",
              "            + ' to learn more about interactive tables.';\n",
              "          element.innerHTML = '';\n",
              "          dataTable['output_type'] = 'display_data';\n",
              "          await google.colab.output.renderOutput(dataTable, element);\n",
              "          const docLink = document.createElement('div');\n",
              "          docLink.innerHTML = docLinkHtml;\n",
              "          element.appendChild(docLink);\n",
              "        }\n",
              "      </script>\n",
              "    </div>\n",
              "  </div>\n",
              "  "
            ]
          },
          "metadata": {},
          "execution_count": 407
        }
      ]
    },
    {
      "cell_type": "code",
      "source": [
        "Train_Data_X, Train_Data_Y, Test_Data_X, Test_Data_Y, Valores_Diferentes, Clases = Separar_Datos(data, \"digito\", 0.2, 20000901)\n",
        "print(Clases)"
      ],
      "metadata": {
        "colab": {
          "base_uri": "https://localhost:8080/"
        },
        "id": "DnckVDtJOwAq",
        "outputId": "5c569e39-cec4-4b79-9438-148715fd70be"
      },
      "id": "DnckVDtJOwAq",
      "execution_count": null,
      "outputs": [
        {
          "output_type": "stream",
          "name": "stdout",
          "text": [
            "[[1.0, 0.0, 0.0, 0.0, 0.0, 0.0, 0.0, 0.0, 0.0, 0.0], [0.0, 0.0, 0.0, 0.0, 0.0, 0.0, 0.0, 1.0, 0.0, 0.0], [0.0, 0.0, 0.0, 0.0, 1.0, 0.0, 0.0, 0.0, 0.0, 0.0], [0.0, 0.0, 0.0, 0.0, 0.0, 0.0, 1.0, 0.0, 0.0, 0.0], [0.0, 0.0, 1.0, 0.0, 0.0, 0.0, 0.0, 0.0, 0.0, 0.0], [0.0, 0.0, 0.0, 0.0, 0.0, 1.0, 0.0, 0.0, 0.0, 0.0], [0.0, 0.0, 0.0, 0.0, 0.0, 0.0, 0.0, 0.0, 1.0, 0.0], [0.0, 1.0, 0.0, 0.0, 0.0, 0.0, 0.0, 0.0, 0.0, 0.0], [0.0, 0.0, 0.0, 0.0, 0.0, 0.0, 0.0, 0.0, 0.0, 1.0], [0.0, 0.0, 0.0, 1.0, 0.0, 0.0, 0.0, 0.0, 0.0, 0.0]]\n"
          ]
        }
      ]
    },
    {
      "cell_type": "code",
      "source": [
        "Clases = sorted(Clases, key=lambda x: x.index(1.0))\n",
        "print(Clases)"
      ],
      "metadata": {
        "colab": {
          "base_uri": "https://localhost:8080/"
        },
        "id": "QbBfFdXzTolD",
        "outputId": "d35b8359-cc4b-4b86-e1c2-22781b2040bc"
      },
      "id": "QbBfFdXzTolD",
      "execution_count": null,
      "outputs": [
        {
          "output_type": "stream",
          "name": "stdout",
          "text": [
            "[[1.0, 0.0, 0.0, 0.0, 0.0, 0.0, 0.0, 0.0, 0.0, 0.0], [0.0, 1.0, 0.0, 0.0, 0.0, 0.0, 0.0, 0.0, 0.0, 0.0], [0.0, 0.0, 1.0, 0.0, 0.0, 0.0, 0.0, 0.0, 0.0, 0.0], [0.0, 0.0, 0.0, 1.0, 0.0, 0.0, 0.0, 0.0, 0.0, 0.0], [0.0, 0.0, 0.0, 0.0, 1.0, 0.0, 0.0, 0.0, 0.0, 0.0], [0.0, 0.0, 0.0, 0.0, 0.0, 1.0, 0.0, 0.0, 0.0, 0.0], [0.0, 0.0, 0.0, 0.0, 0.0, 0.0, 1.0, 0.0, 0.0, 0.0], [0.0, 0.0, 0.0, 0.0, 0.0, 0.0, 0.0, 1.0, 0.0, 0.0], [0.0, 0.0, 0.0, 0.0, 0.0, 0.0, 0.0, 0.0, 1.0, 0.0], [0.0, 0.0, 0.0, 0.0, 0.0, 0.0, 0.0, 0.0, 0.0, 1.0]]\n"
          ]
        }
      ]
    },
    {
      "cell_type": "code",
      "source": [
        "Train_Data_X"
      ],
      "metadata": {
        "colab": {
          "base_uri": "https://localhost:8080/"
        },
        "id": "ools0td7O_hi",
        "outputId": "515fc861-d507-4717-ad06-2b62f2393ad2"
      },
      "id": "ools0td7O_hi",
      "execution_count": null,
      "outputs": [
        {
          "output_type": "execute_result",
          "data": {
            "text/plain": [
              "array([[0.    , 0.    , 0.    , ..., 0.9375, 0.625 , 0.    ],\n",
              "       [0.    , 0.    , 0.375 , ..., 0.3125, 0.    , 0.    ],\n",
              "       [0.    , 0.    , 0.25  , ..., 0.8125, 0.0625, 0.    ],\n",
              "       ...,\n",
              "       [0.    , 0.    , 0.    , ..., 0.9375, 0.3125, 0.    ],\n",
              "       [0.    , 0.    , 0.    , ..., 0.875 , 0.0625, 0.    ],\n",
              "       [0.    , 0.    , 0.    , ..., 1.    , 0.75  , 0.    ]])"
            ]
          },
          "metadata": {},
          "execution_count": 409
        }
      ]
    },
    {
      "cell_type": "code",
      "source": [
        "Train_Data_Y"
      ],
      "metadata": {
        "colab": {
          "base_uri": "https://localhost:8080/"
        },
        "id": "Sik6qp_-PAur",
        "outputId": "2d2edefe-3b4d-4eae-c0b2-f1b7b8b8e718"
      },
      "id": "Sik6qp_-PAur",
      "execution_count": null,
      "outputs": [
        {
          "output_type": "execute_result",
          "data": {
            "text/plain": [
              "array([6, 3, 3, ..., 6, 6, 6])"
            ]
          },
          "metadata": {},
          "execution_count": 410
        }
      ]
    },
    {
      "cell_type": "code",
      "source": [
        "Train_Data_Y = to_categorical(Train_Data_Y, Valores_Diferentes)\n",
        "print(Train_Data_Y)"
      ],
      "metadata": {
        "colab": {
          "base_uri": "https://localhost:8080/"
        },
        "id": "4Zk3u2sKPEpS",
        "outputId": "56689f3a-1e3f-4652-e1ba-4e00c6705d57"
      },
      "id": "4Zk3u2sKPEpS",
      "execution_count": null,
      "outputs": [
        {
          "output_type": "stream",
          "name": "stdout",
          "text": [
            "[[0. 0. 0. ... 0. 0. 0.]\n",
            " [0. 0. 0. ... 0. 0. 0.]\n",
            " [0. 0. 0. ... 0. 0. 0.]\n",
            " ...\n",
            " [0. 0. 0. ... 0. 0. 0.]\n",
            " [0. 0. 0. ... 0. 0. 0.]\n",
            " [0. 0. 0. ... 0. 0. 0.]]\n"
          ]
        }
      ]
    },
    {
      "cell_type": "code",
      "source": [
        "Test_Data_Y"
      ],
      "metadata": {
        "colab": {
          "base_uri": "https://localhost:8080/"
        },
        "id": "PjO-W3E-PHCz",
        "outputId": "ef1bbd6d-3aae-4065-b403-0e98bea51c59"
      },
      "id": "PjO-W3E-PHCz",
      "execution_count": null,
      "outputs": [
        {
          "output_type": "execute_result",
          "data": {
            "text/plain": [
              "array([8, 8, 7, ..., 4, 6, 3])"
            ]
          },
          "metadata": {},
          "execution_count": 412
        }
      ]
    },
    {
      "cell_type": "code",
      "source": [
        "Test_Data_Y = to_categorical(Test_Data_Y, Valores_Diferentes)\n",
        "print(Test_Data_Y)"
      ],
      "metadata": {
        "colab": {
          "base_uri": "https://localhost:8080/"
        },
        "id": "ZCfIZ9UgPJ8c",
        "outputId": "05acde2a-f846-40e4-85c8-82d3c09976b5"
      },
      "id": "ZCfIZ9UgPJ8c",
      "execution_count": null,
      "outputs": [
        {
          "output_type": "stream",
          "name": "stdout",
          "text": [
            "[[0. 0. 0. ... 0. 1. 0.]\n",
            " [0. 0. 0. ... 0. 1. 0.]\n",
            " [0. 0. 0. ... 1. 0. 0.]\n",
            " ...\n",
            " [0. 0. 0. ... 0. 0. 0.]\n",
            " [0. 0. 0. ... 0. 0. 0.]\n",
            " [0. 0. 0. ... 0. 0. 0.]]\n"
          ]
        }
      ]
    },
    {
      "cell_type": "code",
      "source": [
        "Capas = [64,32,10]"
      ],
      "metadata": {
        "id": "r7BYtNCBPQuz"
      },
      "id": "r7BYtNCBPQuz",
      "execution_count": null,
      "outputs": []
    },
    {
      "cell_type": "code",
      "source": [
        "W = Entrenar_Perceptrón_Multicapa(50, 0.1, Train_Data_X, Train_Data_Y, Capas)\n",
        "print(W)"
      ],
      "metadata": {
        "colab": {
          "base_uri": "https://localhost:8080/"
        },
        "id": "IMyCUJ6rPZ8K",
        "outputId": "6cfa33e7-8a2d-4cb8-90e9-38c13a3e1646"
      },
      "id": "IMyCUJ6rPZ8K",
      "execution_count": null,
      "outputs": [
        {
          "output_type": "stream",
          "name": "stdout",
          "text": [
            "El error final es 6.012120308986343e-05\n",
            "[[[-0.7727859018886409, -0.2073255204188187, 0.7161754815059613, 0.1683948686478931, -0.0008233246342266298, 0.49284748517964627, 0.5779664036039645, -0.024550524832568588, -0.6851867595347598, 0.002866800597457253, -0.778086457979182, -0.8013373882202044, -0.7235790105705378, -0.20733719174961052, -0.021015199151988684, 0.41295102534288186, -0.7134409326505871, -0.48509419936335707, 0.8604968851354067, 0.039740810058841225, 0.7695446478654038, 0.08774564459778178, 0.750037721074533, 0.6168714242103441, 0.16335454316151576, -0.28663836753219085, -0.38140703247822194, 0.2961351648192667, -0.48024139846853964, -0.19264933258626793, 0.024812620964888454, -0.9093724424215002], [-0.661058256932393, -0.03498985180646608, 0.5340929281566087, 0.24428787056763343, -0.6164062941016989, -0.24316289622642925, 0.9253062636066446, -0.018819064410908515, 0.5155547024449876, 0.16315207483862249, -0.034899723957508656, 0.07298207217465874, -0.5737879458481809, -0.13827039642777086, -0.12821490043318437, -0.21242032957632354, 0.6256772031359145, 0.8789965432549252, 0.1959964174084962, 0.7502398742496644, 0.8905491945374497, -0.04442943326398206, -0.43077161440635264, -0.5834537968955562, 0.5858768802649197, -0.49623249105481193, -0.5925006990328701, 0.7184947344485096, -0.1606526612784934, -0.2423835035344918, 0.08488746800928511, 0.4698015618422192], [0.15393854094479897, 0.28743454148543024, -0.45429144726392945, -0.9965571154964765, 0.37526545143174195, -1.4775031549818292, 0.712680902179804, 0.40427233824694087, -0.7566948865966805, -0.1478318991169177, -0.6882230162198565, -0.45435398916851444, 1.5414790944598844, -0.28215408619449345, -0.2283496174440488, -9.3148494399514e-05, 0.20081815002862502, -0.49327634780248986, -0.2753739138498588, 0.7709075612188472, -0.41381008053671, -0.9477207274284363, 1.1167846590765191, 0.9091187617676045, 0.6786020846906711, -0.5758683440735824, 1.2043822397032762, 0.42942200151714816, 0.5651197277751582, 0.76789457067395, -0.46535689815100517, 0.06851146135878708], [0.8445164517522566, -1.411421545585375, 0.7082447586252677, -0.10639851795877021, -0.05653928083512911, 0.10183735472656061, 1.0583336888570951, 1.3478954850437304, 0.8482668792850165, 0.4629010245975942, -0.709488733611397, -0.5316419475905501, -0.022596312028251093, 0.38091977500342383, -0.018770973572878682, 0.9725888584448079, -0.2989483778489654, -1.153689275303042, -0.1787656463687913, 0.18359093378744065, -1.8017137952347577, 0.5408847360592084, 0.1594248078976339, 0.15816231761927332, -0.7111889341979171, 0.28185765087096115, 1.1650634665617132, 0.3044033331910867, 0.18253077105005028, -0.48417015948403747, -0.9888944477410817, 0.7454654129589634], [-0.7519579068645672, -0.561798681117409, 0.8676552122357474, -1.210964578815604, 0.2824287620298872, -0.6188886321603985, 1.3513153917745653, 0.004595213076050235, -0.37093176167813446, 0.4848605409801803, 0.49186437113385445, -0.3580865344717657, -0.13037677071620996, -1.1960529362824437, -1.5092620921922333, -0.22195401784534546, -0.07511921301234294, -0.13469265062536023, -0.19958610396178925, -0.9008123833951556, 1.1066712305853748, -0.7614007718423008, -1.5952169027370335, 0.9721585142699724, 1.121238849956019, -0.39086724572805603, -0.8596010005170618, 0.5652756319444131, 0.468520245914508, -0.2945544829370083, -0.07336343928095064, 1.0768212320361472], [-0.6767293659404833, -0.7036840226541325, -0.4451113625035195, 0.5768860979242583, 0.869667290159149, -1.5810654168801412, 1.5397924314107383, 1.4964231248838724, -0.7586946092304048, -0.11455323157586224, 0.32651509903325704, -0.32894654651030303, -0.6344609794610921, -0.30209667622537395, -1.089533411455884, -0.2406476021191541, -0.5124303936893773, 1.5726715020159823, 2.031997215211924, 0.586072121211262, -1.5999783676106378, -0.6621737656437103, -1.224578941483115, -1.2007136723158947, 1.8276192988280058, 0.7063336134955019, 0.7385670730341574, -1.152548675008794, 0.3059356263323839, -0.1506070851680026, -0.007501760058318487, -0.3634317850612024], [-0.03284331879527447, 0.23778208540171056, -1.5262459210722676, 0.7803290239212285, 0.3607553309275897, -0.8850123985156244, 2.139211955991036, 1.224271403158637, 0.8244013318969083, -1.4268570524947672, -0.5714752715172959, 0.207722992895834, -0.592765316305355, 0.3372064515931309, -1.0222787848112258, -0.4054026283904082, -0.7841078582671897, -0.22335926624397096, 1.4297371368193283, -0.7636376357445126, 0.6321440791964069, -1.169310783521519, -0.2074288141224362, -0.32856477951407614, -0.41525798570128697, 0.7478433688764934, 0.2227357260189276, -1.223806114201278, -1.018956040758448, -0.7037763314649, 0.5144422088426294, 1.0412756972154678], [-0.1549910770913002, 0.9535095717783326, -1.0798955478935783, -0.3759352879630301, 0.5664385764848867, -0.7899794146486266, -0.2561112212404058, -0.0008780337307215024, -0.6676704245794566, 0.08061406425153594, 0.46021153162233774, -0.20868862756634904, -0.10230408440402661, -0.08533571613553795, 0.4791717173340482, 0.8248199069691906, 0.5970552643393322, -0.9993873059966965, -0.3717956664780044, 0.8442060695241181, 1.2015730236599842, -0.9089666952365926, 0.2774067213514271, -0.5080756866823218, 0.8636456026443872, 1.2374503450882999, -1.052663851694258, -0.06702495575882182, 0.1593705231782001, 0.597303351402133, 0.2951807096316306, 0.8830895610518481], [-0.4638612073967444, 0.1721044962822255, -0.270771009598138, 0.07377980294269855, -0.21392038907441174, -0.5484797312690797, -0.7255080900927767, -0.9734890956506655, -0.021562857486421026, 0.11993829972642245, 1.4687410876710048, -0.9246000729974746, 0.8161966453217211, -0.0831843684986327, 0.3274601704402093, -0.22815687379895128, 0.5357943680092335, 0.43320900331714624, -1.128785203012893, 0.2423304058981408, 0.6110381417861604, 0.01011051820323183, 0.5714404252120564, 0.2610809347175311, 0.4015709960762925, 0.7807944914460149, 0.48594931578382095, 0.7187175312469539, -0.4330891818795374, -0.05923558156694308, 0.0815981712892661, 0.003132039593519601], [-0.532306914096844, -0.617245697615153, 0.4103231938027965, 0.3733464695441341, -1.3687289273167216, -0.010888376278692624, 1.4986309968378086, -0.015338632982333218, 0.20239035637997105, -0.11794393260357483, 0.8364966333328281, -0.44338718508999897, -0.6435480741369695, -0.7210465666370237, 0.1112604373120748, -0.08868924461968343, 0.42699978798714755, -0.09055867439330971, 0.37810964206766406, -0.6438501990929884, -0.5369586103202004, -0.21877697452036093, -0.2006860631384946, 1.6958144693143946, 0.34012072991667147, -0.3838665593827687, 0.8990735014709944, -0.2386479984228178, -0.16107429626785452, -1.0361579030720374, -1.447849722800175, 0.664944760954025], [0.3633871696952382, -2.0421330205684556, -0.04139854556717254, 0.006324502495510384, -1.4287787170478126, -0.7348219415654832, 0.5851779972744263, 0.6304907316577623, -0.23651563535025705, 1.4335794647804765, 0.4383065981480041, 0.565279635817675, -0.6838085449937943, 0.32754549085005025, -0.4269629608602005, 0.7880049092391593, -0.25036284095543154, -0.538863943664143, -0.305513456862973, -0.7770852771268874, -0.41996388532320705, -0.45726814978825325, 1.2153540662268887, 1.7823986657648965, 0.7371808853342777, -0.4975540973242527, -0.6385912800968986, -0.4590995903353867, 0.0003934933616537852, -0.5234103262910423, -0.6444225192324399, 0.051468661301561386], [0.7760042760269162, -0.9366067340868504, -0.7714946592440364, 0.15265849731475184, 0.8749240120532926, -0.8320670543791902, 2.0713705218049485, 0.2703338366005171, 0.15952968150778224, 0.304864768549652, 0.40084445362163473, 0.7569318917498173, -0.34075303253813044, -0.1878411995644618, -0.9534507563099864, -0.035505840157583506, -1.129926752605047, -1.5418383055541343, -0.3259012465465314, -0.046082869865762356, -0.1810956476583648, -1.0685576612895549, 0.9190633015540312, -0.941151489765103, 1.2641088473821847, 0.6468119345327437, -0.6083034229234258, 0.053720736217753216, 0.32154971907375873, 0.43527190172181407, 0.7757525898911012, -0.26353582369091905], [1.2225623885795447, -0.7646630789095819, 0.6072528336417896, 0.22267716024933562, 1.5861478300037715, -2.0181190258215898, 1.7731846996386498, 0.01867612023276443, -0.661764551840741, -1.5395650008024024, 0.34365213531139777, 0.8371790085772242, -2.03896401507061, -0.928130110242696, 0.47212741457130863, 0.8635893564686485, -0.8935373213794215, 0.3713930515751391, -0.296211420417422, 0.7637480998671273, -0.47202815394167164, -0.10118012396175323, 1.6751326400537572, -1.93470127326877, 1.805954600508035, 2.397003658204198, -0.3595629854137113, 0.26257738156391547, -0.9621014466603435, -1.101873138385095, 0.16040341561776927, 0.5894184902697887], [-0.15493295232488008, -0.3884190135410539, 0.2952607607981805, 0.7578229786925004, -0.738990861825586, 0.2405973706907279, -0.13706994124895414, 0.5393783396323552, 0.5044200731068178, -0.2567202763145762, 0.703768930622218, -0.07693320276128116, 0.29034594350467047, -0.706849466938001, 0.021210098675983096, 1.0010585716835616, -0.44606824646086585, 0.10564113211459146, -0.0990825600630465, 0.15296222683412594, -1.336766451612584, 0.9557109435371879, 1.335384775768586, 0.27539638618385587, 1.6640687495013784, 0.11942410526032872, -0.2228001291880305, 0.15637392074635997, 0.2184395158334433, -0.8880366122906479, -0.77950302012299, -0.45799343196218933], [-0.7268335999534128, -0.7991001526964687, -1.1763939291520058, 0.37780436843147164, -0.6971838660354877, 0.4923966159110656, 0.43513684027584115, -0.4681523987953845, -0.32801152735469047, -0.5367745897193953, -0.8197626285248962, 0.26365147883278844, 0.36544638216942227, -0.0418798377831097, 0.30085130430172446, -0.9288255395593449, 0.007649746200621383, -0.4246863247189569, 0.6028296425089084, 0.5227206914465926, 0.04967216440679773, 0.5245372657764601, 0.2658455521723667, 0.15530853805346165, 0.31808229796584986, -0.23000441059445098, 0.6647264259626527, 0.47357814051045105, 0.595553878287151, -0.3995811914806279, -1.5095782768634278, -0.09578516265510773], [0.2751220920374394, 0.8631833750907948, -0.34481821986153655, 1.0312389108538782, 0.7894001479921691, -0.37423481231111755, -0.590982765955452, -0.5302207780184721, 0.7587697793849776, 0.05216627538729195, -0.7817382192858576, 0.4303134197864333, -0.5554463448725206, 0.011487015691139859, 0.14426806083432575, 0.6530408020915721, -0.5344872297110873, -0.6803187028331885, 0.20192722048866638, -0.6226954743336959, 1.2365107247494296, -0.9959884262129456, 0.8200860083887547, -1.0029018647671917, -0.06245582812804195, -0.3703990386117922, -0.009562044690397823, 0.08675202522142283, 0.30305678631847344, 0.15868410880897796, -0.5875698837860787, -0.042002277977654816], [0.6054492894361265, -0.22998103885098214, 0.3315526206902986, -0.4512928853590338, 0.5129363050374, -0.9478529180672404, -0.736192866460786, 0.3124631973767338, 0.7881836809578228, -0.5534248882797196, -0.7014102441252382, 0.32073835977909054, 0.6431353600705726, 0.9778411359479051, 0.5040484165245115, 0.7539302723609099, -0.36563310575536967, 0.5535053079002522, -0.5793460478920307, -0.0036618462937319535, 0.15620989584532372, 0.10801212445524144, -0.8524026699929477, -0.3707536639336832, 0.023708945822126026, -0.8706093492058655, 0.25263145519723246, -0.6350195509012281, -0.07846899034881907, 0.07944896226440283, 0.32180274394161473, 0.6901067368260613], [0.9433795868230447, -2.316045849829446, -0.2867946506147209, 0.6648044815214043, 0.21425845410434857, 0.8683633771131342, -0.28686170576837317, 0.1921475854508912, -0.14051859686862586, 0.27569792800085813, -0.3162687728882017, -0.38603977058061767, 0.7456148375488352, -0.429528067951589, 0.31776489966114363, 0.9004289087768961, -0.2080987565743851, 1.1201774240681617, 1.0013121051439804, 1.0871564058707763, -0.42173294352850293, 0.5998552186000196, 1.0638480275608995, 0.8949606929671236, -0.11699784653273454, 0.15286796329144042, 0.011252413569804809, -0.4033245590212479, -0.3750218436208879, -0.29244715575405766, -0.8314814376029926, 0.986666148846701], [0.646273955838435, -1.496268678495364, -0.5588162217307499, 0.48288490308229515, 1.1252675963302616, 2.276019016502305, -1.668622597060894, 1.1518659374772369, 0.8087720128722993, -1.202285173603959, -0.12218351429937607, -0.21127779078225004, 0.9489749114757009, 2.1186944371555403, -0.032013036452805496, 0.45634169797291835, -1.3928496530259673, -0.7829138673902541, -0.4563210880322344, 0.5922552065163113, 0.65561338094522, -0.6399772324911707, -0.2372216956369596, -0.039252030420576886, -0.27876619772287553, -2.4878206805090866, -0.19901452682531243, -0.4428125419502404, -1.0397370146351976, 0.5266057904047132, 0.5353863583944305, 1.2766625779179486], [-0.08908361461326099, -0.14876483126201734, -0.5407431067930857, 0.4896587645761304, 1.0641909353726453, 2.3514298061071504, -2.219456880413815, -0.2588077468240233, -0.934869444554393, -1.6776455989258796, -2.7922001806221486, -1.2535815411507594, -0.8519793890608954, 1.914510350205924, 0.4125556479823762, 0.46195530456358863, -0.1055563991039581, -0.4086164900532938, 2.0951531781962975, 1.2193667749142725, -1.4480783612279973, 1.2935940123186165, 0.10861956105470491, -1.4620117436848494, 0.6493424739590264, -0.887647611327089, 1.3631583281830786, 0.5808711028907698, -1.3487188042862066, 1.6361308468453026, 2.2760983788262217, -1.2393414999541221], [0.26856244771425386, -0.07962342469621825, 2.43945090300514, 0.7203169668387571, -1.287600692330043, 0.18494492290217598, 0.15219754763224252, -0.6969650926276713, -1.0976367851427178, -0.893054392214876, -1.902887291675459, 0.13611011399182935, -0.25958585209677676, -0.5399570247767055, 2.3845252145403504, 0.34850398370902214, 1.8441922387221446, -0.8035240411676555, -0.10305430667632468, 0.3749896314878411, -2.2833241101349615, 2.2877254865299763, 1.029961990247173, 0.12345532933438848, -0.6329124305619382, 1.3535913245336535, 0.23771083750095584, 1.457102872031548, -0.07715122394168536, -1.3057513162509407, 0.2577098527053862, -0.5628676581298866], [-0.7997823109732684, -1.4126627980601814, 0.2677010599411734, 0.7199610214708203, -1.3731430511518807, 0.8674882626976492, -1.5589621865043377, 1.4924430006592917, -0.5835875700888521, -1.674971882204878, 0.4101647178853027, 1.4067259707809177, 0.46900929268572666, -0.9763336239463751, 3.139990523134878, 0.79316929288969, 1.6773119910812302, -1.056212397094937, -1.7267974712174705, -0.5171962839370354, 0.14540297984253175, 2.755480585118249, 0.811468873107165, -0.7496426083928217, 1.2175849467969906, -1.8098249763049243, 0.7831725837645691, 1.5996979987830484, 0.2738685137136463, -2.1858508107050887, -2.3804742980536786, -0.04087301075471133], [-1.4304532886056138, -0.1348838936421303, 1.5075930015346772, 0.535849535418058, -0.714586946446988, -0.012813335419070022, 0.013817019022255201, -0.39800481873005916, -0.7277422739504033, 0.5664895483025573, 0.31103935939199207, 1.352410521303023, -0.37719450492810647, 0.15521183490234072, 2.792379385857512, 0.03975989737863406, 0.35035280851095285, -0.8294092440336062, 0.028018693721619668, 0.2683112833294462, 0.797544153738365, 1.2378880034551039, 1.090211735991376, -0.8787733807453267, -0.19179356658834973, -0.21746997330112383, -0.2341743446694678, 1.5652739480287527, 1.52926476146445, -1.6619379992392727, -1.989827453972314, 0.5826025570911204], [0.7453896656376267, -0.9046459109824434, 0.08027590256608638, -0.21325302366795598, -0.6948274206487867, 0.39164260752881636, -0.046165931171203635, -0.09279935531666343, -0.4972173432809796, 0.8874204460896921, -0.1604444715434982, 0.7732017473987296, 0.18845783916435932, -0.07924089094604327, 0.05573997218651261, 0.4487752176294395, -0.1702951411166093, 0.7501704686633452, -0.9058055016815284, -0.7646325525325907, -0.3972866875942104, -0.39582146674283925, -0.14569252154251167, -0.2844337568091905, -0.27717459037725195, -0.8849968468875746, -0.09579471224462001, -0.481625522753741, 0.4354934783760712, 0.7378283209792635, -0.1855590598628686, -0.36846173142824057], [0.17863733378201194, 1.0374145504668097, -0.4205335181071426, -0.606943668128353, -0.11941843675392111, 0.1237317212911752, 0.3476581588204096, -0.3111882452320844, -0.8942476771280435, -0.8727553837396532, -0.4873105481318321, 0.8048832619488007, -0.6782357145773706, -0.22016654445560388, 1.0286283999517172, 0.5247699767023688, -0.4570885341334329, 0.32160615122688524, 0.44885235462195644, -0.2995747694440667, -0.21927791098708935, 0.15675360099928873, 0.16650713182842677, 0.5713095041205976, 0.020455176326417513, -0.49800937444939525, -0.8159754253249183, -0.30328255553694383, -0.9931138802783749, 0.6127319373920196, 0.6776775129337027, -0.29724587567111377], [-0.5324422331176866, 0.36877494106877307, -0.7951991891171059, 0.7353378229638445, 0.6490680196176647, 0.8066608266481287, -1.671298302877109, 0.059781940526945666, 0.6890903698634003, -0.8834391759172403, -0.3172330625548838, -0.3742642792213038, 0.6166123555341981, -0.2842854675961515, -0.6436020151321614, -0.4205823818490866, 1.0441654331938959, -0.21777726157520946, 0.5983170392474157, -0.2946103874689724, 0.9804100012714566, 0.968824884808163, -0.23129604123512715, -0.12221112250747182, -0.15593582751435692, -0.21912163073577812, -0.7062559295075239, 0.37206970306040255, -0.8210574373105735, 0.0693709488377866, -0.451068328500127, 0.186068732391676], [0.2760227523937727, 1.0468697390792585, -1.881727876015025, 0.7226326042487229, 0.855032491707251, 1.5481137580632631, -0.8788276847402027, -1.2464433234380812, -0.759458463160486, -1.7615667715819319, -0.8752672926036728, 0.4012232394742226, 1.075521836995354, 1.253926992131954, 0.6841227148023503, 0.7540883446046327, 0.3044289702505747, -0.8482456089937854, 0.6773764246479677, 0.33438686484973495, 0.4046884099506633, -0.16660264607528083, -0.49294573078683246, 0.0034931779253643165, 1.260499493183537, -0.8639693077243535, 0.9267643586664954, -1.6272146985757343, 0.24791603707607762, 2.2229123911968443, 1.2617149991903474, 0.9689950041213856], [-0.417497211693528, 0.6964964397547769, 0.3128517722878639, 0.7370801728519706, -1.6155129905861714, 1.764240483081817, -1.6076578860879858, 0.23532846955532083, -1.0687195005172645, 0.6981589749871017, -1.7035105075203205, 0.7839255328465294, -0.5491261523686178, 1.3215609113003524, 0.6094310473954577, 1.011305141903537, 0.31221005936172547, 0.11948209056179498, 1.975846808193821, 0.34738324634083395, -1.01288244092528, 0.05745957469717726, -1.8126893750280542, -0.6218300639221201, 0.8010845085978748, -0.8505911740530849, 1.0927589004028884, -0.9633612092743143, 0.7988804973334579, 0.08692334012288144, -0.10198092492353024, 0.22116312007736827], [-0.03535789366487567, 0.4937891752386736, 0.5342609809171726, 1.8705511797004628, -1.1522395876494773, -0.15005852946778947, 1.5701159806473686, 1.4766750752524027, -0.13045804493971577, 0.7722036571054506, -0.6487549337398559, -0.3823215688261988, -0.5472644833842925, -0.7905863266418851, -0.015178479559371653, 0.0040845833159022914, 0.5562957881722225, -0.32229775374290276, 0.9168322086193231, -0.5908958425664737, -0.34358209834324394, 0.23708522923099848, -1.8417051972542071, -0.6945994490374302, -0.6963878801438378, -0.5477840444345021, -0.8893607427770014, 0.21163804339780629, -0.38382542620158155, -0.8745350584066889, -0.33131874767490693, -0.45418487425266135], [-0.6034563820057015, 0.4546974738024798, 0.6168111012994822, 0.20083609521636028, -0.6388955419089516, 0.41259401577713406, 0.7451365686509661, 0.94693665521933, -1.0457588921742949, -1.886905811830153, -0.37026398901346413, -0.9673346607908047, 0.5762836470486004, 0.6464696488497026, 1.6279979872371533, 0.6596140846760045, 0.025774214762394314, -1.6292934981831855, 0.7933017429845156, 1.0855110310303064, -0.6758270404565437, -0.29071229941271154, 0.15805825450570046, -0.3037534252346308, -0.2398381504920792, -0.3837018596641712, -0.052088650164055735, -0.39654121684160587, 0.31862791557518, -0.7073137538022692, -0.8513834874176025, -0.05342511731052458], [0.7271717316941603, 1.6828670944230442, -0.8317712212015567, -1.0122062199400241, 0.4347120754940165, 0.481131565893294, -0.677405549911877, 0.5529839505235853, 0.8163609510680747, -1.4425631119485374, 0.0015514567404574695, 0.18404554261683803, 1.108957460865959, -0.9106844774542295, 1.6918473552237685, 1.2316278134177319, 0.7707413666306471, -0.8363122347977743, -0.9660394003544752, -0.9681511578220029, 2.3165569231668486, -0.6779870195311796, 0.005190923589767328, -0.36405610460934373, -0.16879466009082744, -0.5518670865321391, 0.27924223726544567, 1.6831255587087883, 1.2643455954793414, 0.37611261000795254, 0.06420182090366258, -0.7619945361569779], [-0.6390276358468869, 0.20265110403618647, -0.6214890263554954, 0.6222765755331431, 0.04155562329666774, 0.31635685734850355, 0.19441680127824112, 0.5071796407642305, -0.00375760012489629, 0.6357794385412704, -0.8128612868055154, 0.4665780906623531, -0.7075137720757448, 0.04302381459143751, 0.40445587009557443, -0.6523310042460078, -0.009578230006134728, -0.2543150842854545, 0.044137034984739, 0.6309834849743344, -0.260096131192213, -0.8267386499687762, 0.6418837021271318, 0.7265465581446887, -0.5287835862147301, -0.638658322178705, 0.3104211556822134, -0.14647844426677778, 0.6057126736035147, -0.3253764000794248, 0.26621142133276887, 0.18745072548602285], [-0.1610329984963953, 0.651977394073958, -0.6828170322131759, -0.1645838005836974, 0.2131408876072965, 0.4944128644257736, -0.3578648034108814, 0.4799643516101459, -0.09985636591752052, -0.07701024271453029, -0.616962746316468, -0.6065829750821327, -0.8868403441173052, -0.4390937675782415, -0.9538112481918319, 0.14228718866028153, -0.434254538014716, 0.43018695250821276, 0.05911334302393478, 0.6298093741429407, -0.7099153006607782, -0.35454422523962936, -0.17411420843632108, -0.04069528259783618, -0.32618567607872573, -0.3264511982451563, 0.2642943388256534, -0.49776306105251955, 0.9596319533265665, -0.930766470455904, -0.4963351845423511, 0.7722311866903773], [-0.4665008140514689, 1.6743289893324338, -1.7732397962554418, -0.7251165219727259, -0.2510068593172979, 0.6786296767418716, -0.41524923198488356, -0.5424402774470305, 0.07655054338549143, -0.7674287675725693, -0.5261695965661122, 0.34589644916972995, 1.048247432728539, 1.0872057472235994, -0.43279261851231515, 0.17060540043104253, 0.43922805430503786, 0.5737094602133952, -0.6506544722080768, -0.4462366388574572, 1.2202337103933913, -0.960797993745406, 0.7396654568423877, 0.6290123992072031, -0.2961755213356184, 0.3257707212522743, -1.058252949217678, -0.38626825943824966, -0.27674484664102267, -0.08457692745445952, 0.11704975141393277, 0.5383622562100546], [-0.9285952829018, 0.9946337660986234, -1.1788098437167496, 0.06152262698475667, -0.33623455145926623, 0.14165398388528555, -0.14705045715676135, -1.1413780758012315, 0.6719508622248171, -0.22526893681737364, 0.5679388267164708, 0.20180413052270657, -0.010015254176352554, 1.6251663170074846, 0.6301800890888194, 1.118843910212186, -0.9762797872131209, 0.13255529310844225, 0.6821895865790287, -1.0306097807268053, 0.4481625024862768, 0.29746103379508987, 0.02771192885143626, -0.7351745646308322, -0.46261495091739224, 0.40441896686046563, 0.3983511792409732, -1.0576553051472661, -1.0115747365763903, 1.3895310269067869, 0.5636233586353604, -1.1745297997203117], [0.6054201210422648, -0.5504511600544356, 0.9786648372288459, 0.15727964978027942, -2.2905366561501883, 0.474652624600595, 0.0770407518594089, 0.7433097152854511, -0.745991129314285, 0.945341687927476, -0.3275749103193531, 0.8073713223025967, 0.3092950019338303, -0.8764964108383341, 0.4499993178834519, -0.942425520820937, -0.7974100989089368, -0.6136171808742023, 0.5415511290688491, -0.025220184055456295, 0.09638971700314668, 0.4064865003300997, -0.5254394206602854, -0.8159024471552001, -0.7887226672773997, -0.8362822757062653, 0.2378087034676182, -1.5281463913036983, 0.45059775279593905, -0.26893484408159474, -0.5855187479139421, 0.587849581877596], [0.1838029047028691, 1.6977881850367373, -0.223856655251182, 2.2239675149058673, -1.0523470677654116, -1.2387808531203626, -1.0322205898926626, 1.0143728340386493, 0.18424932267161942, 1.379991697293859, -0.53431133455432, 1.5644386618007964, -1.0733783858444106, -1.1344152436041837, 0.4293442892890275, -0.4028179398946583, 0.7812291334505822, -0.7892535089848463, 0.21732735432608483, 0.18336522385106066, 0.19910730367456766, 0.11545478875301153, -0.7524211311968118, -0.5945792207914173, -0.9285474120180275, 0.4074951880658991, -0.5535974524727801, -0.5560500528297223, 0.791627136995853, -1.0463785849408918, 0.5790976685869833, 0.8270608365729423], [0.4515939105842539, 1.5183882321521238, -0.7323759697379029, 0.15701561071495565, -0.6288475729183769, 0.05521605539947073, -0.019984374629246474, -0.5003434397714287, -0.0010766218276297866, -1.5840732158614341, -1.4005567792830325, -0.3908200811454922, 0.7282762161739867, -0.8279758513840156, 0.1707054464536603, 1.0029811372739081, 0.949165023707198, -0.4431407350964475, 0.7043508808705677, 0.6717089340021617, 0.5416226155939401, -0.4400008342167774, 0.08316954274928633, -0.8261864283804529, -0.5334885866509002, 0.7940424674768207, -0.566983706936479, 0.2704521227871876, -0.23832471104022274, -1.9535089817881564, 1.284896695811942, 0.6856652125396621], [-0.4467279888020107, 0.6138547180026839, -0.9732632240099496, -1.1605788940221462, 0.225502413401549, -0.49217428309932604, 0.5131517898852783, -1.4373897421317956, -0.8014031802191728, -1.7970966154459986, 1.29621586838367, -0.8314765895167903, 0.19970369351034625, -0.8523518465458912, -1.19165865900988, 1.2122891901793242, 0.41325013761306545, -1.301791455368708, 0.02570016712844971, -1.3903629627052294, 2.5024529169761527, -0.5717734210215839, -0.14535271960775228, -0.4949669610634443, 1.3384377211504297, 0.11755379186208269, -1.151214983762946, 0.16034878152703447, 0.6769506073971628, 0.9030655772964519, 1.4844749041395877, 0.0012145005536763754], [0.9680210181414688, -0.06167991739180434, -0.21886625624543576, -0.5083264107487502, 0.66054002590538, 0.779123412843491, 0.08940901081813335, -0.7859789595108637, 0.7404816261076068, -0.6915971259723062, -0.10816555784127257, 0.5050916957306351, -0.3911276091420195, 0.7666961103932908, -0.9807685469218994, -0.10590234340353444, -0.9941148161232123, 0.9880998287435907, 0.09110836105034181, -0.14709815840723128, 0.33967406794689037, -0.6285657141681908, -0.3076509192733141, 0.8594011077381529, 0.5314583608644496, -0.8241668494590713, -0.2559651156023255, -0.16847902248146984, -0.8953301468091039, 0.4209040645111184, 0.9210302585635917, 0.6514054307876278], [0.34302477229115097, 0.10676607437174565, 0.7385569723914049, 0.17120125291341406, 0.5676494161543317, -0.6291117952838597, -0.7149191130479952, -0.11339997194926496, 0.12015770278574445, -0.3705319355953975, 0.7731344230946148, -0.6705080377237518, 0.45325314842613773, -0.5808434422716952, 0.7720882890917447, 0.6069647925496247, 0.7200681966391529, -1.0081338076124908, -0.8731337121117662, 0.8678640933393212, -0.22415199321526774, -0.3511418164803325, -0.3651849872868524, 0.9626511507055346, -0.14078472412061319, 0.5056602364081791, -0.8211974606815292, 0.8972471017850607, -0.232188279962239, 0.4701556143986927, 0.3928207650892357, 0.47141424098853457], [-0.05863771949900686, 0.5464820735947155, -0.4497227137687584, 0.7536152444598214, 0.29171691876021394, -0.6364845950242585, -1.1938052728358766, -0.8175089296209046, 0.07809351636183134, -1.1069569266438102, 0.18917727523967218, 0.32921640415676, -0.4573321159228873, 0.21823889965350274, 0.5499470067099685, 0.12316490267585266, 1.3462846161985724, 1.08544094546048, 0.7756579394525586, -0.559718545893898, 1.5094405730349427, -0.741632001008411, 0.3300876286396973, 1.792718155847885, -1.239295724097326, -0.15405872310910648, -0.722780563455541, 0.469832479503898, 2.130207957254744, -0.2619521424983097, 0.3128491181305299, 0.8465286036241885], [0.6031839693268485, 1.6346016224829043, 0.27436042232135416, 0.9771765883749174, 0.7106675374905903, 1.2358888437655557, -4.118637605558979, -0.7955089434137088, -0.029467991324476826, 1.6450538340264866, 1.627506873272821, 1.1568302038638096, 0.21701728695390574, 0.9155025376979877, 0.5435443009586597, 0.33187885844674214, -1.121857214423646, 1.9167529700262667, -2.4890069990105466, -0.6035902614138935, 0.9042519684223539, -1.7720129184129456, 0.9640656812676636, -0.8463269390909413, -0.6785281341654372, 0.9649202107963566, -0.18613227683576783, 0.9589032742620779, 1.0301992512612144, 2.6773441362817856, -1.2676247853211902, -1.2885971640806355], [0.9653827579983868, 2.0987711359852685, 0.6549597333613493, 0.8311066813990146, 1.526184780747871, -0.807433950862442, -2.8872089442115536, 1.0605168061486294, -0.05303029239967284, 0.4251794177878443, -0.3804373073080509, 0.33569179348690503, -1.380096603044143, -0.2553715570716307, 1.2882313708639195, 0.5270492777067165, 0.11987899747398696, 2.057523145840432, -0.3726624679589747, 0.6836280623279226, 2.214901020982339, -2.8397186848055798, 2.283656938686866, -1.2021481267505942, -2.9793306346176642, 0.13926692187115222, 1.0794113837731734, -1.2203007018997625, -0.7960674040821761, 0.5418665687736944, 0.8112079983453327, 1.0812874300664803], [0.8107964863579772, 1.7388735327841511, 0.42208178354069276, 1.2078905638310131, -0.8215887630653494, 0.2956760791811984, -1.544804903651402, -0.48744173284308684, -0.5397395744542696, 0.008812442558014433, -1.4840958553808565, 1.0259228789000367, -0.562704884064418, -1.246832269445715, 0.7326772427894747, -0.31607161286939106, 1.2634522484621156, 0.6279003812138438, 2.2609287170617036, 0.048483615213078465, 1.870597415950258, 0.20844257882563913, -0.9899224764027531, 0.3800221756179824, -0.37256875592208755, -0.30444350549514293, 0.9220658559982629, -0.12429062993053874, 1.4886528639288472, 0.6731211426414518, 0.6121986218054943, 0.5956962902793541], [-0.09291859847374197, -0.8306286612504978, -0.8726492903227017, -0.5445487641400933, -1.0827067343393035, 1.3709415106701, -0.6786885330350622, -1.7093493291175266, 0.7190388334725581, 0.24468783922112766, -0.4574986605298667, 1.1259364805917513, 1.1549676558697963, -1.4647607807770493, -1.2773945019592992, 0.7489980668213531, -0.06552409017047026, 1.65208148770832, -0.10000340006916436, -1.478414118672661, 0.5349483516646808, 0.7762053952469382, -1.6030055667867038, 0.6246228167232455, 1.7336323059576988, 0.013945158464016573, 0.007816815342804886, -0.34607534493287073, 0.8968761028220403, 0.18930460536078486, -1.6850663920104436, -0.42856901624343263], [-0.6531555012569684, 0.5453798736537442, 0.013005178404865909, -0.02874714831275893, -1.5648673071509882, 0.7856094061688426, -0.06359576109139098, -0.2358452747049356, 0.35675028994213015, 1.2118617613716614, 1.4056327363303125, 0.04131923310662808, 0.5250137452807595, -1.1655844976734941, -2.705086004786696, 0.7232208300103135, -0.9881696098019885, 1.2870320364882168, -0.0871265143271107, -0.7788082499408244, 0.4205029082528216, 0.5278496680209508, -1.5464362605331052, -0.06301737328986456, 1.5710058412770356, -0.055469505649292115, -1.3593363952075013, -0.2766778030769265, 0.18768853216052014, 0.6521758115010055, -0.05421992170574797, -0.4054689184410578], [0.5747359298880937, 0.7846268840240187, 0.6041160483532013, 0.6705437209647402, 0.6188750460034448, 0.48736228193855424, -0.32486167368455415, -0.9634372224242014, 0.011483572443656434, 0.33055508422403573, 0.6787353194480804, -0.34999449054248694, 0.7124866825707898, -0.09614999590707919, -0.061962462575627895, 0.688266668060343, 0.3153434501182457, -0.7857500443545989, -0.16520153871670396, 0.3429702276435485, 0.5081226009561478, -0.029181903136972238, -0.7285998738043409, 0.42315665354547805, -0.5827216912033928, -0.874825046388828, 0.29063591860904847, 0.39858975613894126, -0.05109689266718559, -0.6583111641145295, -0.5814629656854916, 0.5534790442486275], [-0.38773953394355304, 0.4943878943904064, -0.9719898750762245, -0.8623987803107499, -0.7207543761658496, 0.44681765206705104, 0.16860400426796668, 0.5733257231179008, 0.9398797179477334, 0.7035418350803073, -0.4363256489310008, 0.5709684523764637, -0.011159319287562666, 0.627730101914134, 0.10288371149263825, 0.7111626263459855, 0.0972699265828227, 0.38014397402850786, 0.6645571611699757, 0.5555644809398459, -0.6825203794253198, -0.41729647221133837, 0.035214900710121684, 0.22645352534823399, 0.3051700383686536, 0.47916744945688733, -0.7629411331209637, -0.8495073301650763, -0.8626063352538004, 0.4772971407895225, -0.1571809895096056, -0.9142205390287984], [0.8728721755255465, -0.2982775288123627, -0.47782511463510874, -0.6269350784149283, 0.7696675844686636, 0.49386229191767034, -0.05140246144301009, -0.4088309556255219, 0.049285095745650306, -1.249433726243947, -1.0979816192079093, 0.6049691135599149, -0.5066575402155369, -0.45690490289959534, 0.6781216463196761, -0.9256031631627264, 0.9580822147562991, 0.1872557012986731, 0.8486963929319723, -0.04059616442089794, 0.012167800159615473, -0.7929896535457025, -0.46223548963423533, 0.31775239821574036, -0.10301474675803081, -1.4135861719218563, 0.3438763969321946, 1.0097338790974422, 1.6823432719376854, 0.16622070745364662, 0.08613728829691486, 0.17231609998268957], [0.02771316069849722, -0.7019358957662726, 0.45888783910043873, -1.0009372979792008, 0.4311420211526353, 0.143545842167662, -0.90124712146251, -0.8604241282952999, 1.3026438259496689, -0.04994748603627978, 1.1338271709156424, -1.2114900965054674, -0.4331180048370085, 0.5256044260491862, -0.19260938714813408, -0.4897798066895983, 0.23299561023225202, 1.6509402190432796, -0.9854459743478906, 1.2263501042953473, 0.13110923925915127, -0.5218434665439717, 0.5372423525031921, 1.395053885897038, -0.950781624699714, 1.0971652401218648, -0.44533177649704825, -0.10516236839803401, 0.5905184592745555, 1.1152233665534854, -0.6685993134729645, 0.18389052223544897], [1.0218655380297206, 1.9131147571419709, 0.46523860504715464, -0.8419602852916733, 1.144597429506698, -0.9409161951324208, 0.7804365436394598, 0.14189125615763937, -1.0646605937097633, 0.41476700389137877, 1.8737077715965, 0.42420751916835975, -1.1864178563410914, 1.5645932140384755, -0.13690643028700014, -1.539916920980721, 0.569295325806785, 0.9462752262192742, -1.6982431369789184, 0.11104773203746915, 0.707468047551763, -0.4967865778864113, 1.3386120044634753, -0.2624836648115248, -1.940738462111793, 0.6717009155043796, -0.6450366111626886, -0.38283774372510626, -1.1273796288819515, 0.05510558729307377, -0.06343953336803675, -0.07825652498176193], [0.8198775942164181, -1.009434198067807, 0.23063716187040748, -1.692481123365778, 1.7717740606318988, -1.4701930609214666, -0.1892799497028378, -0.38750977465919584, -0.9084359508118939, 0.3908904604984995, 0.11304777031129606, -0.48605055889949683, -0.8449996365167864, 1.276206452320395, -1.2969634177905243, -0.5081207126847254, 0.6186659342679851, 1.8763757676594528, 0.273501229011903, 0.01870642258509953, -0.6563115092362497, 0.7289512054775806, 0.4690106027381497, 1.175447515610889, -0.6252365928341285, 0.09871797050524102, 1.0927672126637802, 1.7952923812260224, -1.1622282368634043, 1.2992036593733522, 1.7921292327615217, 0.11367653255011327], [0.8970828968024418, -1.455988023219326, 0.6806324494341076, -1.735752336450435, 1.1221382315873514, -0.026573508275926052, -1.0707992231638352, -1.7368185347060898, -0.5099923382288031, 1.9374557245690271, 1.7234288170272374, -0.21099399902986685, 0.02632081146999529, 0.10207197693613854, -0.5702880850564389, -1.0084863601628566, 0.3847175047843712, 1.939129786605979, -1.3571768516376326, -0.011075376616099551, -0.4964173842144704, 0.13925944977345828, -0.8744257624925288, 0.6050212755090382, -0.4855005039504219, 1.325211605373179, 0.6914913151941625, 1.1478264660923592, -0.7303873832684058, 0.2265895122605819, 0.10302294344885737, 1.0929827832326986], [0.3796439304092691, -0.27248734396676505, 0.1077529063685152, -0.5642290588396238, -0.6553146077649926, -0.17782539359449887, -0.7387780111985243, 0.44761885333209606, 0.3439959008891151, 0.8968691398358277, 1.0797098196497885, 0.25286818615807266, -0.5911334179218465, -0.5929914023883756, 0.7605409896821357, -1.4620159109468756, 0.16061097536941732, -0.3493001400676668, -0.8420169687700666, 0.6362772719013161, 0.808973963850012, 0.16472034448187872, -1.096879883971613, 0.5299526707070302, -0.37854962929464, 0.30232903410892187, 0.7713093869409747, 0.6186747356280983, 0.4249411192133664, -0.4244104367097005, 0.03249970636945913, -0.5092872238226525], [-0.18237310502443033, -0.03883715898949073, 0.014478565157348872, -0.9817750935095615, -0.04236813730746245, -0.08134151521655773, -0.34634737861966214, 0.8177469078274793, 0.09456829615147651, -0.5472040913690648, -1.3383280608562838, -0.9002480942230805, -0.8233576930407123, -0.386402805127975, 0.1047650465433464, 0.8549246021553233, 0.0711809385601134, 0.8271540301107081, -0.009894783608812912, 0.12212912833720566, -0.23560386087047705, -0.8214944966074561, -0.4103298196606092, 0.07229168576021519, -0.13880428164212202, 0.3782808413088359, -0.26419699945220415, 0.3839049206844568, 0.5764290743249572, 0.16867141925568108, 0.09442939571681452, 0.18869005327707003], [-0.23519528300250944, -0.6549534829250923, 0.2266416340413779, -0.9539114755772383, 0.05708193518172549, -0.13403694722094625, -0.647755417136116, 0.3863239787840492, 0.23495779250664184, 0.07600584005335312, 0.15321541310427803, -0.28349714821980376, -0.6304330534722238, 0.14887039558113513, 0.4413755243797453, 0.22329401776557792, -0.3655647133695387, 0.22075754279930354, -0.6989845835316851, 0.6489612787744663, 0.8469393452660213, -0.3864820753965241, 0.35652340476150085, 0.6830907753597614, 0.19978194654066403, -0.05833566307560674, 0.9672358881496795, -0.28983229367566865, 0.5599546700247824, 0.7580982652889277, 0.05551261239978227, 0.8212490329128376], [0.876335266031469, -0.4573139056533634, 0.9400758797131386, -0.42463405231361445, -0.434323831353499, -0.4336309533666775, -0.03818142281353889, -0.7912628361357211, 0.8739586695429615, -0.7088130598135629, 0.6531666029805504, 0.31439534488982734, -0.43183624658428976, 0.028299493209885236, -0.8548718930269268, -0.9694842383820459, 0.9802225718186276, 0.7468619838153657, 0.5914389869830682, 0.19029515617698786, 0.062216277997158814, 0.599375926992725, 0.5058301619597275, -0.7177103186531152, -0.06158559262613526, 0.7066617966411556, -0.07668846999903449, 0.8900340688913462, 0.74025476946241, -0.6832829857606348, 0.8063653854124265, -1.011461989192613], [1.2535604464827788, -0.10166156785187325, -0.4127875860713123, -0.416511901473054, 0.9144509443675136, -0.9810637602043644, 2.1541990088070775, 0.21615396096887735, -0.775769052473337, -0.017618377972395544, -0.3341677194162323, 0.6383403295032654, 0.3399275156161746, -0.008846374925062774, -1.3091140725422725, -0.2657727406618527, 0.1538558901228835, -0.07329450462758587, 0.5732885499783198, -0.5727045441391624, 0.5947074718993423, -0.5777325932457091, -0.30434918715525106, 1.8122487996989614, 0.7700981630758736, 0.38467954508931096, -0.36643998533907407, 0.4944293386721578, -0.009188158283803953, 0.5540921777090082, -0.6035116628239954, 1.010264772013643], [0.22817040690809343, -1.0013540150650007, 0.05730821563980878, -0.05377261204902373, -0.6420917052167588, -0.7323523664645029, 1.0793078892327976, -0.7909191122708507, 0.8020413636773992, 0.8108673664125665, 1.6460706623220116, 0.8509541839955225, 1.0667701302390435, 1.0007306338105508, -0.8336825061112004, -0.8468704896696774, -1.2861784172208284, 1.144804770290823, -0.3167566719590192, 0.16498330151281715, -1.6577196601211357, -0.16309691717157757, 0.47806513665257655, 1.3749238973753142, 0.44027330900517425, 0.7384614087567495, 0.7809991874415009, 0.06483955154657399, -0.9772047635944232, -0.1386688428064126, -1.8401885965709004, 0.7868381958777261], [0.04415721786235854, -0.8213302196565229, -0.2973786327732737, -2.3066418017350703, -0.06023556309406733, 0.5992204794677789, -0.5952577516044321, -0.34059793115325354, 0.24553332431103356, 1.0673019653840825, 0.2715085712135982, 0.5169239412801635, -0.31520405114383143, 1.7303609249579295, -0.449188186408768, -0.4490208902430006, -0.5192495038874144, 1.126071482569345, -0.4979943817695409, -0.3737385176553236, -1.1266200967552953, 0.8064856043230098, -1.2483251647282236, 0.8230745738696167, -0.4235718162250778, -0.06931142196883887, 0.4878196400292888, 0.817952485073179, -0.7988899606373627, 0.6859951776486587, 0.30785377112053564, -0.8222208722147546], [0.29959333084172957, 0.1575100146347036, 2.0337107140186443, -0.8977470804625809, 0.5849838933365487, 0.24598928541961537, 0.3086792219344198, 0.576134853638428, -0.720119692158773, 0.34737887420545055, 0.7056113226267917, 0.19447682071271252, -0.17892300849450224, -0.17635647491176984, -0.3979689550810835, -1.5645066365800893, 0.8068229147069506, 1.2203131844106547, -1.7463636860181937, -0.021444410122286588, -0.5166035514167159, 0.36169745763573846, -0.7782715554279305, -0.801071965139273, -1.025799893509806, 1.3744727758806867, 0.5184106624821939, 0.7670863118859826, -1.9555530346563201, -0.5592772648793272, 0.5356659573139629, -0.5472194337374303], [0.2954478950940945, 0.19055910741434334, 0.36442781858150514, -0.9699102268040476, 1.700343889553887, -0.6405659938592961, -0.29785485356181146, 1.098325478386177, 0.554076805699369, 0.3234612159192155, 0.32549922983987833, -0.5087351884056736, 0.5064068313917536, 0.29736790747081426, 0.2061782513910474, -1.6655031210144784, 0.9194929053008448, 0.5822174865259726, -0.8655701709318149, 1.1867222457921895, -0.7330309455419219, -0.5400613201483797, 0.656872293942772, -0.5747295177648785, -1.367916527111986, -0.31073324994907836, 0.7148463161782277, 1.069975026109412, -0.013249494339868025, 0.5479091796814675, 0.5279995686585641, 0.06542584202512422], [0.9890083570695007, 0.7763608294864286, 0.5982467369604498, -0.16829231928622052, 0.9336533602210391, -0.18796056075521014, -0.9700099098426779, 0.0719466638194287, 0.7020177764240392, -0.8800967572140644, -0.23265139992294448, -0.8291906855689936, 0.7209504679952209, -0.2155510215527936, -0.09726969316695926, -0.4831420303628626, 0.4030907953006263, -0.12375373604882663, 1.0172976872114239, -0.49231406113034154, -0.12387969371534131, 0.5924249104861699, 1.0356852175428939, -0.9130934603347528, -1.360357006086341, 0.054395319657696235, 0.34251839679444523, 1.0046620066970164, 0.47495604104191336, -0.6664220987015104, 0.4064659402834162, 0.44161603273464295], [0.28786639171754724, 0.6082920299621033, -0.20087069936813942, 0.29915343110445575, 0.2755258834121048, 0.5065271754617247, 0.7955875255601078, 0.5492775021522386, 0.15794773060547168, -1.205898363671226, 0.9599155699508296, -0.4731775914499914, 0.35508095823621144, 0.45424531049707845, 0.9313726789959794, -0.2689288019853505, -0.3005311336712242, -0.5913271429737453, 0.39605507891779346, -0.7820349414337112, 1.6687338504839613, -0.7731587147572152, -0.2232609563240696, 1.151118101504056, -0.09489332672875606, 0.13312003391771168, -1.0567205800998336, -0.6890930489124674, 1.9387497317586455, 0.7187857804501865, -0.2780289026291374, -0.015989589624058095]], [[-1.400958774416011, -1.2450273810364068, -1.7033131433443314, -1.1346080408287538, 0.2503934434129051, 0.277041310735157, -0.5835514501444999, -0.6653792217817943, -0.39726598138917046, -2.185972253272745], [-1.417394517256562, 1.9032027844341495, -1.71724809928227, -0.8341614442373528, 1.504974664411078, -1.8576045064344529, 1.7906628782391263, 1.6180584231531678, -3.6545529310294396, -3.9342959347052457], [-0.7405852431454673, 1.8428352080019452, 0.7539775591865961, 1.8821823642623339, -1.176784950898846, -1.1169541204839863, -0.46874439583039373, 0.7556300803156759, 2.3238963969497513, 0.6422640949734977], [-1.3288252596335504, -0.4742195891688689, -0.6363852764512944, -0.46377989530996616, -1.179749855223989, 0.36675690358349633, -1.3114111435631555, 1.2644076637186195, 4.1358828236137555, -1.4610845865688393], [1.4172088639265799, 1.6552549114146415, 2.276350543574453, -2.7307951383912394, 0.3983324377175633, 0.8844691434409389, -0.7011712723262803, 0.4932009042190882, -2.576525821692091, -2.7709594698030644], [-0.5539640659884336, 0.2156168093650257, -3.3712058894559847, -1.7854283603262995, 1.4130434290065994, -1.4327636635602405, 1.310257982850435, -3.1276143538564103, 1.1716932398438853, 2.3432831386815933], [-1.6878397908508898, -2.1677011513910927, 1.12657323899524, 1.7163591353084118, -3.876441680318708, 2.870442515532866, -1.9088271269488202, 2.080220349846858, -5.480340441008304, 3.4838298110916526], [-2.5502557097289187, 1.2958408488094888, 0.379457952208662, -2.7003970036801137, -2.7618841839277897, 1.7821514731587191, -0.6070111905445509, 0.2928601106297804, -0.229056874810845, 0.19922304161533733], [1.178071350509722, 0.6085768077494278, -0.6351536764019585, -0.1673507466918678, -0.8826795386929703, -0.5534693234663897, 1.0890761786287682, 0.5542970789995578, -0.5119529669794108, 0.2772149184108533], [-2.570470081977664, -0.3238080258478895, -0.32668876747025516, 2.3457485557956437, -2.5301556787826947, -1.6342193651226171, 2.652027429781341, -1.5452069570309088, 1.933392234153221, -3.220422718518876], [1.5243748301281117, -4.586197288464728, 1.51889441129647, -1.1198273446190565, -1.8766649382389067, 0.7798601831325612, 1.4565486435293031, -0.32686250856651955, 1.3177377962003118, -1.7735902215415154], [-1.2490786934292732, -0.8231804714900531, -0.08603998271544855, -1.3779055730383307, -1.0857689581330847, -2.679444910831311, 0.027691170117985976, 0.2921416961700915, -1.7986203377448107, 0.058511059132273106], [0.3257437452786741, -0.008592459066872019, -0.01625188634103453, -1.3395465677663068, -0.17602504945268047, 0.5574720828520529, -0.09603310528262404, -1.4039382336374813, -2.917690025514861, -0.4717083566321571], [0.7755764274862124, -1.9842182035633764, 0.19519280642680864, -2.141686104071877, 0.01270311821042019, 1.4933050340539789, 0.38397109010289554, -3.78424657174137, 0.6108877196136019, 2.5936121088404835], [0.43800660568088934, -0.9958578573071061, 1.2479997726335736, -2.128285291365318, 0.4554702903761533, -3.2159725448239915, -2.0787389026743073, 0.9828472061561794, 2.3649456368546495, 3.8420554577119956], [1.502286796714644, 0.7301225099694041, -3.3815074218398022, -1.9277925592252116, -0.046979450564828114, -1.1605222436417657, -1.3332751500043398, 1.5437503344760108, 0.06244843121560422, 0.02025323469287115], [-1.4142682528176813, -0.5419689595619337, -0.1940203478205456, 0.5118345576145087, 2.3856540795752754, -2.6266984074239295, -1.682388529654217, -1.1073111508304074, -2.0204484540678207, -0.6841771082243945], [0.6938389869863641, 2.2214319285381254, 0.5282138924510331, 2.228920886098494, -1.5777953500350421, -0.042372549211959626, 0.7637817630292371, -2.0844629926489824, 2.3265463100356265, -2.842487492601385], [-2.1392109364587575, 3.241267831912615, -2.968612602799931, 1.0140790090866854, 2.513890599587083, 1.7646213865744544, -1.9987008218458384, -0.06069464965447088, -0.5429954869347062, -2.513211858090851], [-0.9956020007077043, 2.032990775296219, 0.9830784564000501, -0.8957243119428848, -0.16380348079024018, 0.9848017207535894, 0.034719367268713185, -0.9499248904684254, 0.964624103818154, 0.36177918373495344], [1.7987662381693108, -5.182671654088292, -1.7496814098194193, -1.4600089543125458, 3.5915243328497084, -1.3541636059615842, 1.8467675028605028, 2.0886938324886595, -0.007482138699281927, -1.7289873127067683], [0.8842906498712718, 0.40669115764808017, -1.8411770372736738, 3.6867315262073825, -1.0746140521525351, -0.9729413913497758, -1.306413425722019, -2.916767629599639, -0.3877290753049316, 2.9045063082121243], [2.585848284886709, 0.3092088558008523, 3.1731564378953854, -1.646460646915691, -0.13587530861078748, -2.0465210231568585, -1.6389228374834879, 1.4237795252537933, -2.4633056164980274, -0.6510060214430525], [-1.4900227194122755, -2.994750319761294, 0.8570424344752212, 2.6585292463932384, 0.7755806402072067, 1.1962323554084355, -2.4998527671749446, -2.068494956997767, 0.19518557288860297, 1.0830049206711436], [1.8717715851358265, -2.297391717921461, -3.433372107613687, 1.9087917208046121, -2.6827243891129475, 2.4998222559470964, -1.6273092638030953, 1.592859214681313, 0.9251920529408647, 1.434885152713604], [-0.13202314429042053, 1.155582445577742, -0.3546835798223762, 0.5835086908733832, -3.50796505602824, -0.4995057604534869, 1.2064057866654263, 1.3987013549514098, -2.4585465152253327, -1.6360652861165113], [-1.0410212177694962, 0.7464338429342045, 1.060857996605722, -3.0200731383869392, -0.397540145946505, 0.34309300964025286, -0.3641381842606309, -1.7841287499457639, 0.14990774256860095, 0.15149531938621638], [1.5112136001035135, 0.5734123087126137, 1.4229984020479933, 0.8145457545843657, 0.32572559639830156, -3.1271884143957176, -2.472098795572843, -0.9465005887918624, -1.2495754889647757, -1.6827595188007771], [-1.3093928076286976, -2.965525919580435, -0.5326675667325694, 0.55840271371487, 2.3889558088461142, -1.918795384936171, -2.527970127391418, 0.8900504952950817, 0.9676098709433166, -0.360568627006229], [1.086731657744256, -1.4112986777892973, -1.5549428071929967, -0.890339462563814, -0.986335395225129, 2.0679104569135407, 1.0806752194508398, -1.235054404193855, 2.021594436136628, -3.2603766591138474], [-2.5976085137651292, 1.1839635286516799, -0.42721510704468585, -0.1906889732089806, 2.7129560631450897, 1.4687039025438617, 0.12179039603547219, -0.35250612528728414, -4.453740917370664, -1.34303528671278], [-1.040950110459226, -0.5148640323035168, -1.337685703166993, -0.11339163008074515, -1.0520595142054547, -0.8712739704390857, -1.3616095794494074, -0.8090032329218747, -2.2574858974123586, -1.2106808567858722], [-1.2120796559121363, -1.4609669570513317, -0.88272597203987, -1.7394272399076578, -0.28608589279133995, -1.2072967962225216, -0.3212485347982122, -0.7257024843088629, -1.6206846160350068, -0.7582500828017469]]]\n"
          ]
        }
      ]
    },
    {
      "cell_type": "code",
      "source": [
        "EO, ER = Test_Perceptrón_Multicapa(W, Test_Data_X, Test_Data_Y, Capas, Clases)"
      ],
      "metadata": {
        "id": "h1DM0stSPpdE"
      },
      "id": "h1DM0stSPpdE",
      "execution_count": null,
      "outputs": []
    },
    {
      "cell_type": "code",
      "source": [
        "Matriz_Confusión(EO, ER)"
      ],
      "metadata": {
        "colab": {
          "base_uri": "https://localhost:8080/"
        },
        "id": "lw6CC3bdPp9S",
        "outputId": "6bbd10e3-f628-4a4e-f9a9-4b0b984d8110"
      },
      "id": "lw6CC3bdPp9S",
      "execution_count": null,
      "outputs": [
        {
          "output_type": "stream",
          "name": "stdout",
          "text": [
            "[[100   0   0   0   1   0   0   0   0   0]\n",
            " [  0 119   2   0   0   0   0   0   0   0]\n",
            " [  0   0 109   0   0   0   0   0   0   0]\n",
            " [  0   0   0 110   0   1   0   0   1   0]\n",
            " [  0   0   0   0 100   0   0   0   0   0]\n",
            " [  0   0   0   0   0 132   0   0   0   2]\n",
            " [  0   0   0   0   0   0  90   0   0   0]\n",
            " [  0   0   0   0   1   0   0 124   0   1]\n",
            " [  0   2   0   0   1   1   0   0 120   0]\n",
            " [  0   0   0   0   0   1   0   0   0 106]]\n"
          ]
        }
      ]
    },
    {
      "cell_type": "code",
      "source": [
        "Accuracy(EO, ER)"
      ],
      "metadata": {
        "colab": {
          "base_uri": "https://localhost:8080/"
        },
        "id": "jMXl88kVPuIT",
        "outputId": "ce49750b-bbc3-488b-89bc-94a91f5632d6"
      },
      "id": "jMXl88kVPuIT",
      "execution_count": null,
      "outputs": [
        {
          "output_type": "stream",
          "name": "stdout",
          "text": [
            "El Accuracy es 0.9875444839857651\n"
          ]
        }
      ]
    },
    {
      "cell_type": "code",
      "source": [
        "Valor_Nuevo = [0.0, 0.015625, 0.03125, 0.046875, 0.0625, 0.078125, 0.09375, 0.109375,\n",
        "               0.125, 0.140625, 0.15625, 0.171875, 0.1875, 0.203125, 0.21875, 0.234375,\n",
        "               0.25, 0.265625, 0.28125, 0.296875, 0.3125, 0.328125, 0.34375, 0.359375,\n",
        "               0.375, 0.390625, 0.40625, 0.421875, 0.4375, 0.453125, 0.46875, 0.484375,\n",
        "               0.5, 0.515625, 0.53125, 0.546875, 0.5625, 0.578125, 0.59375, 0.609375,\n",
        "               0.625, 0.640625, 0.65625, 0.671875, 0.6875, 0.703125, 0.71875, 0.734375,\n",
        "               0.75, 0.765625, 0.78125, 0.796875, 0.8125, 0.828125, 0.84375, 0.859375,\n",
        "               0.375, 0.390625, 0.40625, 0.421875, 0.4375, 0.453125, 0.46875, 0.484375]\n",
        "\n",
        "Predecir(Valor_Nuevo,W,Capas,Clases)"
      ],
      "metadata": {
        "colab": {
          "base_uri": "https://localhost:8080/"
        },
        "id": "OXM8oPqUPx_S",
        "outputId": "673a7f56-08f0-4a28-ad48-db4cbfb99211"
      },
      "id": "OXM8oPqUPx_S",
      "execution_count": null,
      "outputs": [
        {
          "output_type": "stream",
          "name": "stdout",
          "text": [
            "La predicción [0, 0, 0, 0, 1, 0, 0, 0, 0, 0] es de la clase 5\n"
          ]
        }
      ]
    }
  ],
  "metadata": {
    "kernelspec": {
      "display_name": "Python 3 (ipykernel)",
      "language": "python",
      "name": "python3"
    },
    "language_info": {
      "codemirror_mode": {
        "name": "ipython",
        "version": 3
      },
      "file_extension": ".py",
      "mimetype": "text/x-python",
      "name": "python",
      "nbconvert_exporter": "python",
      "pygments_lexer": "ipython3",
      "version": "3.9.12"
    },
    "colab": {
      "provenance": [],
      "include_colab_link": true
    }
  },
  "nbformat": 4,
  "nbformat_minor": 5
}